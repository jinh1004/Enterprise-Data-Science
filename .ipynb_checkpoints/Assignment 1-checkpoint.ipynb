{
 "cells": [
  {
   "cell_type": "markdown",
   "id": "9ea6c406",
   "metadata": {},
   "source": [
    "Hong Fei Jin<br>\n",
    "INSY 695 – Enterprise Data Science & ML in Production I<br>\n",
    "Fatih Nayebi<br>\n",
    "Friday, January 20, 2023"
   ]
  },
  {
   "cell_type": "markdown",
   "id": "56a1fd8e",
   "metadata": {},
   "source": [
    "# Assignment 1"
   ]
  },
  {
   "cell_type": "markdown",
   "id": "1771a759",
   "metadata": {},
   "source": [
    "## Import the Data"
   ]
  },
  {
   "cell_type": "code",
   "execution_count": 150,
   "id": "f0303aa3",
   "metadata": {
    "scrolled": false
   },
   "outputs": [
    {
     "data": {
      "text/html": [
       "<div>\n",
       "<style scoped>\n",
       "    .dataframe tbody tr th:only-of-type {\n",
       "        vertical-align: middle;\n",
       "    }\n",
       "\n",
       "    .dataframe tbody tr th {\n",
       "        vertical-align: top;\n",
       "    }\n",
       "\n",
       "    .dataframe thead th {\n",
       "        text-align: right;\n",
       "    }\n",
       "</style>\n",
       "<table border=\"1\" class=\"dataframe\">\n",
       "  <thead>\n",
       "    <tr style=\"text-align: right;\">\n",
       "      <th></th>\n",
       "      <th>Date</th>\n",
       "      <th>Rented Bike Count</th>\n",
       "      <th>Hour</th>\n",
       "      <th>Temperature(°C)</th>\n",
       "      <th>Humidity(%)</th>\n",
       "      <th>Wind speed (m/s)</th>\n",
       "      <th>Visibility (10m)</th>\n",
       "      <th>Dew point temperature(°C)</th>\n",
       "      <th>Solar Radiation (MJ/m2)</th>\n",
       "      <th>Rainfall(mm)</th>\n",
       "      <th>Snowfall (cm)</th>\n",
       "      <th>Seasons</th>\n",
       "      <th>Holiday</th>\n",
       "      <th>Functioning Day</th>\n",
       "    </tr>\n",
       "  </thead>\n",
       "  <tbody>\n",
       "    <tr>\n",
       "      <th>0</th>\n",
       "      <td>01/12/2017</td>\n",
       "      <td>254</td>\n",
       "      <td>0</td>\n",
       "      <td>-5.2</td>\n",
       "      <td>37</td>\n",
       "      <td>2.2</td>\n",
       "      <td>2000</td>\n",
       "      <td>-17.6</td>\n",
       "      <td>0.0</td>\n",
       "      <td>0.0</td>\n",
       "      <td>0.0</td>\n",
       "      <td>Winter</td>\n",
       "      <td>No Holiday</td>\n",
       "      <td>Yes</td>\n",
       "    </tr>\n",
       "    <tr>\n",
       "      <th>1</th>\n",
       "      <td>01/12/2017</td>\n",
       "      <td>204</td>\n",
       "      <td>1</td>\n",
       "      <td>-5.5</td>\n",
       "      <td>38</td>\n",
       "      <td>0.8</td>\n",
       "      <td>2000</td>\n",
       "      <td>-17.6</td>\n",
       "      <td>0.0</td>\n",
       "      <td>0.0</td>\n",
       "      <td>0.0</td>\n",
       "      <td>Winter</td>\n",
       "      <td>No Holiday</td>\n",
       "      <td>Yes</td>\n",
       "    </tr>\n",
       "    <tr>\n",
       "      <th>2</th>\n",
       "      <td>01/12/2017</td>\n",
       "      <td>173</td>\n",
       "      <td>2</td>\n",
       "      <td>-6.0</td>\n",
       "      <td>39</td>\n",
       "      <td>1.0</td>\n",
       "      <td>2000</td>\n",
       "      <td>-17.7</td>\n",
       "      <td>0.0</td>\n",
       "      <td>0.0</td>\n",
       "      <td>0.0</td>\n",
       "      <td>Winter</td>\n",
       "      <td>No Holiday</td>\n",
       "      <td>Yes</td>\n",
       "    </tr>\n",
       "    <tr>\n",
       "      <th>3</th>\n",
       "      <td>01/12/2017</td>\n",
       "      <td>107</td>\n",
       "      <td>3</td>\n",
       "      <td>-6.2</td>\n",
       "      <td>40</td>\n",
       "      <td>0.9</td>\n",
       "      <td>2000</td>\n",
       "      <td>-17.6</td>\n",
       "      <td>0.0</td>\n",
       "      <td>0.0</td>\n",
       "      <td>0.0</td>\n",
       "      <td>Winter</td>\n",
       "      <td>No Holiday</td>\n",
       "      <td>Yes</td>\n",
       "    </tr>\n",
       "    <tr>\n",
       "      <th>4</th>\n",
       "      <td>01/12/2017</td>\n",
       "      <td>78</td>\n",
       "      <td>4</td>\n",
       "      <td>-6.0</td>\n",
       "      <td>36</td>\n",
       "      <td>2.3</td>\n",
       "      <td>2000</td>\n",
       "      <td>-18.6</td>\n",
       "      <td>0.0</td>\n",
       "      <td>0.0</td>\n",
       "      <td>0.0</td>\n",
       "      <td>Winter</td>\n",
       "      <td>No Holiday</td>\n",
       "      <td>Yes</td>\n",
       "    </tr>\n",
       "  </tbody>\n",
       "</table>\n",
       "</div>"
      ],
      "text/plain": [
       "         Date  Rented Bike Count  Hour  Temperature(°C)  Humidity(%)  \\\n",
       "0  01/12/2017                254     0             -5.2           37   \n",
       "1  01/12/2017                204     1             -5.5           38   \n",
       "2  01/12/2017                173     2             -6.0           39   \n",
       "3  01/12/2017                107     3             -6.2           40   \n",
       "4  01/12/2017                 78     4             -6.0           36   \n",
       "\n",
       "   Wind speed (m/s)  Visibility (10m)  Dew point temperature(°C)  \\\n",
       "0               2.2              2000                      -17.6   \n",
       "1               0.8              2000                      -17.6   \n",
       "2               1.0              2000                      -17.7   \n",
       "3               0.9              2000                      -17.6   \n",
       "4               2.3              2000                      -18.6   \n",
       "\n",
       "   Solar Radiation (MJ/m2)  Rainfall(mm)  Snowfall (cm) Seasons     Holiday  \\\n",
       "0                      0.0           0.0            0.0  Winter  No Holiday   \n",
       "1                      0.0           0.0            0.0  Winter  No Holiday   \n",
       "2                      0.0           0.0            0.0  Winter  No Holiday   \n",
       "3                      0.0           0.0            0.0  Winter  No Holiday   \n",
       "4                      0.0           0.0            0.0  Winter  No Holiday   \n",
       "\n",
       "  Functioning Day  \n",
       "0             Yes  \n",
       "1             Yes  \n",
       "2             Yes  \n",
       "3             Yes  \n",
       "4             Yes  "
      ]
     },
     "execution_count": 150,
     "metadata": {},
     "output_type": "execute_result"
    }
   ],
   "source": [
    "import pandas as pd\n",
    "df = pd.read_csv('SeoulBikeData.csv', encoding = 'mbcs')\n",
    "df.head()"
   ]
  },
  {
   "cell_type": "markdown",
   "id": "1fcd0cca",
   "metadata": {},
   "source": [
    "## Transform the Data"
   ]
  },
  {
   "cell_type": "code",
   "execution_count": 151,
   "id": "aaf29929",
   "metadata": {},
   "outputs": [
    {
     "name": "stderr",
     "output_type": "stream",
     "text": [
      "C:\\Users\\jinho\\AppData\\Local\\Temp\\ipykernel_26356\\3814495858.py:12: SettingWithCopyWarning: \n",
      "A value is trying to be set on a copy of a slice from a DataFrame\n",
      "\n",
      "See the caveats in the documentation: https://pandas.pydata.org/pandas-docs/stable/user_guide/indexing.html#returning-a-view-versus-a-copy\n",
      "  df['Weekday'][i] = date_obj.weekday()\n"
     ]
    },
    {
     "data": {
      "text/html": [
       "<div>\n",
       "<style scoped>\n",
       "    .dataframe tbody tr th:only-of-type {\n",
       "        vertical-align: middle;\n",
       "    }\n",
       "\n",
       "    .dataframe tbody tr th {\n",
       "        vertical-align: top;\n",
       "    }\n",
       "\n",
       "    .dataframe thead th {\n",
       "        text-align: right;\n",
       "    }\n",
       "</style>\n",
       "<table border=\"1\" class=\"dataframe\">\n",
       "  <thead>\n",
       "    <tr style=\"text-align: right;\">\n",
       "      <th></th>\n",
       "      <th>Date</th>\n",
       "      <th>Rented Bike Count</th>\n",
       "      <th>Hour</th>\n",
       "      <th>Temperature(°C)</th>\n",
       "      <th>Humidity(%)</th>\n",
       "      <th>Wind speed (m/s)</th>\n",
       "      <th>Visibility (10m)</th>\n",
       "      <th>Dew point temperature(°C)</th>\n",
       "      <th>Solar Radiation (MJ/m2)</th>\n",
       "      <th>Rainfall(mm)</th>\n",
       "      <th>Snowfall (cm)</th>\n",
       "      <th>Seasons</th>\n",
       "      <th>Holiday</th>\n",
       "      <th>Functioning Day</th>\n",
       "      <th>Weekday</th>\n",
       "    </tr>\n",
       "  </thead>\n",
       "  <tbody>\n",
       "    <tr>\n",
       "      <th>0</th>\n",
       "      <td>01/12/2017</td>\n",
       "      <td>254</td>\n",
       "      <td>0</td>\n",
       "      <td>-5.2</td>\n",
       "      <td>37</td>\n",
       "      <td>2.2</td>\n",
       "      <td>2000</td>\n",
       "      <td>-17.6</td>\n",
       "      <td>0.0</td>\n",
       "      <td>0.0</td>\n",
       "      <td>0.0</td>\n",
       "      <td>Winter</td>\n",
       "      <td>No Holiday</td>\n",
       "      <td>Yes</td>\n",
       "      <td>4.0</td>\n",
       "    </tr>\n",
       "    <tr>\n",
       "      <th>1</th>\n",
       "      <td>01/12/2017</td>\n",
       "      <td>204</td>\n",
       "      <td>1</td>\n",
       "      <td>-5.5</td>\n",
       "      <td>38</td>\n",
       "      <td>0.8</td>\n",
       "      <td>2000</td>\n",
       "      <td>-17.6</td>\n",
       "      <td>0.0</td>\n",
       "      <td>0.0</td>\n",
       "      <td>0.0</td>\n",
       "      <td>Winter</td>\n",
       "      <td>No Holiday</td>\n",
       "      <td>Yes</td>\n",
       "      <td>4.0</td>\n",
       "    </tr>\n",
       "    <tr>\n",
       "      <th>2</th>\n",
       "      <td>01/12/2017</td>\n",
       "      <td>173</td>\n",
       "      <td>2</td>\n",
       "      <td>-6.0</td>\n",
       "      <td>39</td>\n",
       "      <td>1.0</td>\n",
       "      <td>2000</td>\n",
       "      <td>-17.7</td>\n",
       "      <td>0.0</td>\n",
       "      <td>0.0</td>\n",
       "      <td>0.0</td>\n",
       "      <td>Winter</td>\n",
       "      <td>No Holiday</td>\n",
       "      <td>Yes</td>\n",
       "      <td>4.0</td>\n",
       "    </tr>\n",
       "    <tr>\n",
       "      <th>3</th>\n",
       "      <td>01/12/2017</td>\n",
       "      <td>107</td>\n",
       "      <td>3</td>\n",
       "      <td>-6.2</td>\n",
       "      <td>40</td>\n",
       "      <td>0.9</td>\n",
       "      <td>2000</td>\n",
       "      <td>-17.6</td>\n",
       "      <td>0.0</td>\n",
       "      <td>0.0</td>\n",
       "      <td>0.0</td>\n",
       "      <td>Winter</td>\n",
       "      <td>No Holiday</td>\n",
       "      <td>Yes</td>\n",
       "      <td>4.0</td>\n",
       "    </tr>\n",
       "    <tr>\n",
       "      <th>4</th>\n",
       "      <td>01/12/2017</td>\n",
       "      <td>78</td>\n",
       "      <td>4</td>\n",
       "      <td>-6.0</td>\n",
       "      <td>36</td>\n",
       "      <td>2.3</td>\n",
       "      <td>2000</td>\n",
       "      <td>-18.6</td>\n",
       "      <td>0.0</td>\n",
       "      <td>0.0</td>\n",
       "      <td>0.0</td>\n",
       "      <td>Winter</td>\n",
       "      <td>No Holiday</td>\n",
       "      <td>Yes</td>\n",
       "      <td>4.0</td>\n",
       "    </tr>\n",
       "  </tbody>\n",
       "</table>\n",
       "</div>"
      ],
      "text/plain": [
       "         Date  Rented Bike Count  Hour  Temperature(°C)  Humidity(%)  \\\n",
       "0  01/12/2017                254     0             -5.2           37   \n",
       "1  01/12/2017                204     1             -5.5           38   \n",
       "2  01/12/2017                173     2             -6.0           39   \n",
       "3  01/12/2017                107     3             -6.2           40   \n",
       "4  01/12/2017                 78     4             -6.0           36   \n",
       "\n",
       "   Wind speed (m/s)  Visibility (10m)  Dew point temperature(°C)  \\\n",
       "0               2.2              2000                      -17.6   \n",
       "1               0.8              2000                      -17.6   \n",
       "2               1.0              2000                      -17.7   \n",
       "3               0.9              2000                      -17.6   \n",
       "4               2.3              2000                      -18.6   \n",
       "\n",
       "   Solar Radiation (MJ/m2)  Rainfall(mm)  Snowfall (cm) Seasons     Holiday  \\\n",
       "0                      0.0           0.0            0.0  Winter  No Holiday   \n",
       "1                      0.0           0.0            0.0  Winter  No Holiday   \n",
       "2                      0.0           0.0            0.0  Winter  No Holiday   \n",
       "3                      0.0           0.0            0.0  Winter  No Holiday   \n",
       "4                      0.0           0.0            0.0  Winter  No Holiday   \n",
       "\n",
       "  Functioning Day  Weekday  \n",
       "0             Yes      4.0  \n",
       "1             Yes      4.0  \n",
       "2             Yes      4.0  \n",
       "3             Yes      4.0  \n",
       "4             Yes      4.0  "
      ]
     },
     "execution_count": 151,
     "metadata": {},
     "output_type": "execute_result"
    }
   ],
   "source": [
    "# Get the weekday using the 'datetime' package\n",
    "import numpy as np\n",
    "from datetime import datetime\n",
    "\n",
    "# Create empty column\n",
    "df['Weekday'] = np.NaN\n",
    "\n",
    "# Fill in weekdays\n",
    "for i in range(len(df)):\n",
    "    date = str(df['Date'][i])\n",
    "    date_obj = datetime.strptime(date, '%d/%m/%Y').date()\n",
    "    df['Weekday'][i] = date_obj.weekday()\n",
    "\n",
    "df.head()"
   ]
  },
  {
   "cell_type": "code",
   "execution_count": 152,
   "id": "4378784a",
   "metadata": {},
   "outputs": [
    {
     "data": {
      "text/html": [
       "<div>\n",
       "<style scoped>\n",
       "    .dataframe tbody tr th:only-of-type {\n",
       "        vertical-align: middle;\n",
       "    }\n",
       "\n",
       "    .dataframe tbody tr th {\n",
       "        vertical-align: top;\n",
       "    }\n",
       "\n",
       "    .dataframe thead th {\n",
       "        text-align: right;\n",
       "    }\n",
       "</style>\n",
       "<table border=\"1\" class=\"dataframe\">\n",
       "  <thead>\n",
       "    <tr style=\"text-align: right;\">\n",
       "      <th></th>\n",
       "      <th>Date</th>\n",
       "      <th>Rented Bike Count</th>\n",
       "      <th>Hour</th>\n",
       "      <th>Temperature(°C)</th>\n",
       "      <th>Humidity(%)</th>\n",
       "      <th>Wind speed (m/s)</th>\n",
       "      <th>Visibility (10m)</th>\n",
       "      <th>Dew point temperature(°C)</th>\n",
       "      <th>Solar Radiation (MJ/m2)</th>\n",
       "      <th>Rainfall(mm)</th>\n",
       "      <th>Snowfall (cm)</th>\n",
       "      <th>Seasons</th>\n",
       "      <th>Holiday</th>\n",
       "      <th>Functioning Day</th>\n",
       "      <th>Weekday</th>\n",
       "      <th>Day</th>\n",
       "      <th>Month</th>\n",
       "      <th>Year</th>\n",
       "    </tr>\n",
       "  </thead>\n",
       "  <tbody>\n",
       "    <tr>\n",
       "      <th>0</th>\n",
       "      <td>01/12/2017</td>\n",
       "      <td>254</td>\n",
       "      <td>0</td>\n",
       "      <td>-5.2</td>\n",
       "      <td>37</td>\n",
       "      <td>2.2</td>\n",
       "      <td>2000</td>\n",
       "      <td>-17.6</td>\n",
       "      <td>0.0</td>\n",
       "      <td>0.0</td>\n",
       "      <td>0.0</td>\n",
       "      <td>Winter</td>\n",
       "      <td>No Holiday</td>\n",
       "      <td>Yes</td>\n",
       "      <td>4</td>\n",
       "      <td>1</td>\n",
       "      <td>12</td>\n",
       "      <td>2017</td>\n",
       "    </tr>\n",
       "    <tr>\n",
       "      <th>1</th>\n",
       "      <td>01/12/2017</td>\n",
       "      <td>204</td>\n",
       "      <td>1</td>\n",
       "      <td>-5.5</td>\n",
       "      <td>38</td>\n",
       "      <td>0.8</td>\n",
       "      <td>2000</td>\n",
       "      <td>-17.6</td>\n",
       "      <td>0.0</td>\n",
       "      <td>0.0</td>\n",
       "      <td>0.0</td>\n",
       "      <td>Winter</td>\n",
       "      <td>No Holiday</td>\n",
       "      <td>Yes</td>\n",
       "      <td>4</td>\n",
       "      <td>1</td>\n",
       "      <td>12</td>\n",
       "      <td>2017</td>\n",
       "    </tr>\n",
       "    <tr>\n",
       "      <th>2</th>\n",
       "      <td>01/12/2017</td>\n",
       "      <td>173</td>\n",
       "      <td>2</td>\n",
       "      <td>-6.0</td>\n",
       "      <td>39</td>\n",
       "      <td>1.0</td>\n",
       "      <td>2000</td>\n",
       "      <td>-17.7</td>\n",
       "      <td>0.0</td>\n",
       "      <td>0.0</td>\n",
       "      <td>0.0</td>\n",
       "      <td>Winter</td>\n",
       "      <td>No Holiday</td>\n",
       "      <td>Yes</td>\n",
       "      <td>4</td>\n",
       "      <td>1</td>\n",
       "      <td>12</td>\n",
       "      <td>2017</td>\n",
       "    </tr>\n",
       "    <tr>\n",
       "      <th>3</th>\n",
       "      <td>01/12/2017</td>\n",
       "      <td>107</td>\n",
       "      <td>3</td>\n",
       "      <td>-6.2</td>\n",
       "      <td>40</td>\n",
       "      <td>0.9</td>\n",
       "      <td>2000</td>\n",
       "      <td>-17.6</td>\n",
       "      <td>0.0</td>\n",
       "      <td>0.0</td>\n",
       "      <td>0.0</td>\n",
       "      <td>Winter</td>\n",
       "      <td>No Holiday</td>\n",
       "      <td>Yes</td>\n",
       "      <td>4</td>\n",
       "      <td>1</td>\n",
       "      <td>12</td>\n",
       "      <td>2017</td>\n",
       "    </tr>\n",
       "    <tr>\n",
       "      <th>4</th>\n",
       "      <td>01/12/2017</td>\n",
       "      <td>78</td>\n",
       "      <td>4</td>\n",
       "      <td>-6.0</td>\n",
       "      <td>36</td>\n",
       "      <td>2.3</td>\n",
       "      <td>2000</td>\n",
       "      <td>-18.6</td>\n",
       "      <td>0.0</td>\n",
       "      <td>0.0</td>\n",
       "      <td>0.0</td>\n",
       "      <td>Winter</td>\n",
       "      <td>No Holiday</td>\n",
       "      <td>Yes</td>\n",
       "      <td>4</td>\n",
       "      <td>1</td>\n",
       "      <td>12</td>\n",
       "      <td>2017</td>\n",
       "    </tr>\n",
       "  </tbody>\n",
       "</table>\n",
       "</div>"
      ],
      "text/plain": [
       "         Date  Rented Bike Count  Hour  Temperature(°C)  Humidity(%)  \\\n",
       "0  01/12/2017                254     0             -5.2           37   \n",
       "1  01/12/2017                204     1             -5.5           38   \n",
       "2  01/12/2017                173     2             -6.0           39   \n",
       "3  01/12/2017                107     3             -6.2           40   \n",
       "4  01/12/2017                 78     4             -6.0           36   \n",
       "\n",
       "   Wind speed (m/s)  Visibility (10m)  Dew point temperature(°C)  \\\n",
       "0               2.2              2000                      -17.6   \n",
       "1               0.8              2000                      -17.6   \n",
       "2               1.0              2000                      -17.7   \n",
       "3               0.9              2000                      -17.6   \n",
       "4               2.3              2000                      -18.6   \n",
       "\n",
       "   Solar Radiation (MJ/m2)  Rainfall(mm)  Snowfall (cm) Seasons     Holiday  \\\n",
       "0                      0.0           0.0            0.0  Winter  No Holiday   \n",
       "1                      0.0           0.0            0.0  Winter  No Holiday   \n",
       "2                      0.0           0.0            0.0  Winter  No Holiday   \n",
       "3                      0.0           0.0            0.0  Winter  No Holiday   \n",
       "4                      0.0           0.0            0.0  Winter  No Holiday   \n",
       "\n",
       "  Functioning Day  Weekday  Day  Month  Year  \n",
       "0             Yes        4    1     12  2017  \n",
       "1             Yes        4    1     12  2017  \n",
       "2             Yes        4    1     12  2017  \n",
       "3             Yes        4    1     12  2017  \n",
       "4             Yes        4    1     12  2017  "
      ]
     },
     "execution_count": 152,
     "metadata": {},
     "output_type": "execute_result"
    }
   ],
   "source": [
    "# Split 'Date' into 'Day', 'Month', and 'Year'\n",
    "df[['Day', 'Month', 'Year']] = df['Date'].str.split('/', expand = True)\n",
    "df[['Day', 'Month', 'Year', 'Weekday']] = df[['Day', 'Month', 'Year', 'Weekday']].astype('int')\n",
    "df.head()"
   ]
  },
  {
   "cell_type": "code",
   "execution_count": 153,
   "id": "a0a75e6b",
   "metadata": {},
   "outputs": [
    {
     "data": {
      "text/plain": [
       "4    1272\n",
       "5    1248\n",
       "6    1248\n",
       "0    1248\n",
       "1    1248\n",
       "2    1248\n",
       "3    1248\n",
       "Name: Weekday, dtype: int64"
      ]
     },
     "execution_count": 153,
     "metadata": {},
     "output_type": "execute_result"
    }
   ],
   "source": [
    "df['Weekday'].value_counts()"
   ]
  },
  {
   "cell_type": "code",
   "execution_count": 154,
   "id": "b5d39a60",
   "metadata": {},
   "outputs": [
    {
     "data": {
      "text/html": [
       "<div>\n",
       "<style scoped>\n",
       "    .dataframe tbody tr th:only-of-type {\n",
       "        vertical-align: middle;\n",
       "    }\n",
       "\n",
       "    .dataframe tbody tr th {\n",
       "        vertical-align: top;\n",
       "    }\n",
       "\n",
       "    .dataframe thead th {\n",
       "        text-align: right;\n",
       "    }\n",
       "</style>\n",
       "<table border=\"1\" class=\"dataframe\">\n",
       "  <thead>\n",
       "    <tr style=\"text-align: right;\">\n",
       "      <th></th>\n",
       "      <th>Date</th>\n",
       "      <th>Weekday</th>\n",
       "      <th>Day</th>\n",
       "      <th>Month</th>\n",
       "      <th>Year</th>\n",
       "      <th>Rented Bike Count</th>\n",
       "      <th>Hour</th>\n",
       "      <th>Temperature(°C)</th>\n",
       "      <th>Humidity(%)</th>\n",
       "      <th>Wind speed (m/s)</th>\n",
       "      <th>Visibility (10m)</th>\n",
       "      <th>Dew point temperature(°C)</th>\n",
       "      <th>Solar Radiation (MJ/m2)</th>\n",
       "      <th>Rainfall(mm)</th>\n",
       "      <th>Snowfall (cm)</th>\n",
       "      <th>Seasons</th>\n",
       "      <th>Holiday</th>\n",
       "      <th>Functioning Day</th>\n",
       "    </tr>\n",
       "  </thead>\n",
       "  <tbody>\n",
       "    <tr>\n",
       "      <th>0</th>\n",
       "      <td>01/12/2017</td>\n",
       "      <td>4</td>\n",
       "      <td>1</td>\n",
       "      <td>12</td>\n",
       "      <td>2017</td>\n",
       "      <td>254</td>\n",
       "      <td>0</td>\n",
       "      <td>-5.2</td>\n",
       "      <td>37</td>\n",
       "      <td>2.2</td>\n",
       "      <td>2000</td>\n",
       "      <td>-17.6</td>\n",
       "      <td>0.0</td>\n",
       "      <td>0.0</td>\n",
       "      <td>0.0</td>\n",
       "      <td>Winter</td>\n",
       "      <td>No Holiday</td>\n",
       "      <td>Yes</td>\n",
       "    </tr>\n",
       "    <tr>\n",
       "      <th>1</th>\n",
       "      <td>01/12/2017</td>\n",
       "      <td>4</td>\n",
       "      <td>1</td>\n",
       "      <td>12</td>\n",
       "      <td>2017</td>\n",
       "      <td>204</td>\n",
       "      <td>1</td>\n",
       "      <td>-5.5</td>\n",
       "      <td>38</td>\n",
       "      <td>0.8</td>\n",
       "      <td>2000</td>\n",
       "      <td>-17.6</td>\n",
       "      <td>0.0</td>\n",
       "      <td>0.0</td>\n",
       "      <td>0.0</td>\n",
       "      <td>Winter</td>\n",
       "      <td>No Holiday</td>\n",
       "      <td>Yes</td>\n",
       "    </tr>\n",
       "    <tr>\n",
       "      <th>2</th>\n",
       "      <td>01/12/2017</td>\n",
       "      <td>4</td>\n",
       "      <td>1</td>\n",
       "      <td>12</td>\n",
       "      <td>2017</td>\n",
       "      <td>173</td>\n",
       "      <td>2</td>\n",
       "      <td>-6.0</td>\n",
       "      <td>39</td>\n",
       "      <td>1.0</td>\n",
       "      <td>2000</td>\n",
       "      <td>-17.7</td>\n",
       "      <td>0.0</td>\n",
       "      <td>0.0</td>\n",
       "      <td>0.0</td>\n",
       "      <td>Winter</td>\n",
       "      <td>No Holiday</td>\n",
       "      <td>Yes</td>\n",
       "    </tr>\n",
       "    <tr>\n",
       "      <th>3</th>\n",
       "      <td>01/12/2017</td>\n",
       "      <td>4</td>\n",
       "      <td>1</td>\n",
       "      <td>12</td>\n",
       "      <td>2017</td>\n",
       "      <td>107</td>\n",
       "      <td>3</td>\n",
       "      <td>-6.2</td>\n",
       "      <td>40</td>\n",
       "      <td>0.9</td>\n",
       "      <td>2000</td>\n",
       "      <td>-17.6</td>\n",
       "      <td>0.0</td>\n",
       "      <td>0.0</td>\n",
       "      <td>0.0</td>\n",
       "      <td>Winter</td>\n",
       "      <td>No Holiday</td>\n",
       "      <td>Yes</td>\n",
       "    </tr>\n",
       "    <tr>\n",
       "      <th>4</th>\n",
       "      <td>01/12/2017</td>\n",
       "      <td>4</td>\n",
       "      <td>1</td>\n",
       "      <td>12</td>\n",
       "      <td>2017</td>\n",
       "      <td>78</td>\n",
       "      <td>4</td>\n",
       "      <td>-6.0</td>\n",
       "      <td>36</td>\n",
       "      <td>2.3</td>\n",
       "      <td>2000</td>\n",
       "      <td>-18.6</td>\n",
       "      <td>0.0</td>\n",
       "      <td>0.0</td>\n",
       "      <td>0.0</td>\n",
       "      <td>Winter</td>\n",
       "      <td>No Holiday</td>\n",
       "      <td>Yes</td>\n",
       "    </tr>\n",
       "  </tbody>\n",
       "</table>\n",
       "</div>"
      ],
      "text/plain": [
       "         Date  Weekday  Day  Month  Year  Rented Bike Count  Hour  \\\n",
       "0  01/12/2017        4    1     12  2017                254     0   \n",
       "1  01/12/2017        4    1     12  2017                204     1   \n",
       "2  01/12/2017        4    1     12  2017                173     2   \n",
       "3  01/12/2017        4    1     12  2017                107     3   \n",
       "4  01/12/2017        4    1     12  2017                 78     4   \n",
       "\n",
       "   Temperature(°C)  Humidity(%)  Wind speed (m/s)  Visibility (10m)  \\\n",
       "0             -5.2           37               2.2              2000   \n",
       "1             -5.5           38               0.8              2000   \n",
       "2             -6.0           39               1.0              2000   \n",
       "3             -6.2           40               0.9              2000   \n",
       "4             -6.0           36               2.3              2000   \n",
       "\n",
       "   Dew point temperature(°C)  Solar Radiation (MJ/m2)  Rainfall(mm)  \\\n",
       "0                      -17.6                      0.0           0.0   \n",
       "1                      -17.6                      0.0           0.0   \n",
       "2                      -17.7                      0.0           0.0   \n",
       "3                      -17.6                      0.0           0.0   \n",
       "4                      -18.6                      0.0           0.0   \n",
       "\n",
       "   Snowfall (cm) Seasons     Holiday Functioning Day  \n",
       "0            0.0  Winter  No Holiday             Yes  \n",
       "1            0.0  Winter  No Holiday             Yes  \n",
       "2            0.0  Winter  No Holiday             Yes  \n",
       "3            0.0  Winter  No Holiday             Yes  \n",
       "4            0.0  Winter  No Holiday             Yes  "
      ]
     },
     "execution_count": 154,
     "metadata": {},
     "output_type": "execute_result"
    }
   ],
   "source": [
    "# Reorder columns for the sake of better visibility\n",
    "cols = df.columns.tolist()\n",
    "cols = cols[0:1] + cols[-4:] + cols[1:-4]\n",
    "df = df[cols]\n",
    "df.head()"
   ]
  },
  {
   "cell_type": "markdown",
   "id": "18f9e69e",
   "metadata": {},
   "source": [
    "# Take a Quick Look at the Data Structure"
   ]
  },
  {
   "cell_type": "code",
   "execution_count": 155,
   "id": "f89d435e",
   "metadata": {},
   "outputs": [
    {
     "name": "stdout",
     "output_type": "stream",
     "text": [
      "<class 'pandas.core.frame.DataFrame'>\n",
      "RangeIndex: 8760 entries, 0 to 8759\n",
      "Data columns (total 18 columns):\n",
      " #   Column                     Non-Null Count  Dtype  \n",
      "---  ------                     --------------  -----  \n",
      " 0   Date                       8760 non-null   object \n",
      " 1   Weekday                    8760 non-null   int32  \n",
      " 2   Day                        8760 non-null   int32  \n",
      " 3   Month                      8760 non-null   int32  \n",
      " 4   Year                       8760 non-null   int32  \n",
      " 5   Rented Bike Count          8760 non-null   int64  \n",
      " 6   Hour                       8760 non-null   int64  \n",
      " 7   Temperature(°C)            8760 non-null   float64\n",
      " 8   Humidity(%)                8760 non-null   int64  \n",
      " 9   Wind speed (m/s)           8760 non-null   float64\n",
      " 10  Visibility (10m)           8760 non-null   int64  \n",
      " 11  Dew point temperature(°C)  8760 non-null   float64\n",
      " 12  Solar Radiation (MJ/m2)    8760 non-null   float64\n",
      " 13  Rainfall(mm)               8760 non-null   float64\n",
      " 14  Snowfall (cm)              8760 non-null   float64\n",
      " 15  Seasons                    8760 non-null   object \n",
      " 16  Holiday                    8760 non-null   object \n",
      " 17  Functioning Day            8760 non-null   object \n",
      "dtypes: float64(6), int32(4), int64(4), object(4)\n",
      "memory usage: 1.1+ MB\n"
     ]
    }
   ],
   "source": [
    "df.info()"
   ]
  },
  {
   "cell_type": "code",
   "execution_count": 156,
   "id": "8dc74c14",
   "metadata": {},
   "outputs": [
    {
     "data": {
      "text/plain": [
       "Spring    2208\n",
       "Summer    2208\n",
       "Autumn    2184\n",
       "Winter    2160\n",
       "Name: Seasons, dtype: int64"
      ]
     },
     "execution_count": 156,
     "metadata": {},
     "output_type": "execute_result"
    }
   ],
   "source": [
    "df['Seasons'].value_counts()"
   ]
  },
  {
   "cell_type": "code",
   "execution_count": 157,
   "id": "93826f0e",
   "metadata": {},
   "outputs": [
    {
     "data": {
      "text/plain": [
       "No Holiday    8328\n",
       "Holiday        432\n",
       "Name: Holiday, dtype: int64"
      ]
     },
     "execution_count": 157,
     "metadata": {},
     "output_type": "execute_result"
    }
   ],
   "source": [
    "df['Holiday'].value_counts()"
   ]
  },
  {
   "cell_type": "code",
   "execution_count": 158,
   "id": "da519cd1",
   "metadata": {},
   "outputs": [
    {
     "data": {
      "text/plain": [
       "Yes    8465\n",
       "No      295\n",
       "Name: Functioning Day, dtype: int64"
      ]
     },
     "execution_count": 158,
     "metadata": {},
     "output_type": "execute_result"
    }
   ],
   "source": [
    "df['Functioning Day'].value_counts()"
   ]
  },
  {
   "cell_type": "code",
   "execution_count": 159,
   "id": "39f481fe",
   "metadata": {},
   "outputs": [
    {
     "data": {
      "text/html": [
       "<div>\n",
       "<style scoped>\n",
       "    .dataframe tbody tr th:only-of-type {\n",
       "        vertical-align: middle;\n",
       "    }\n",
       "\n",
       "    .dataframe tbody tr th {\n",
       "        vertical-align: top;\n",
       "    }\n",
       "\n",
       "    .dataframe thead th {\n",
       "        text-align: right;\n",
       "    }\n",
       "</style>\n",
       "<table border=\"1\" class=\"dataframe\">\n",
       "  <thead>\n",
       "    <tr style=\"text-align: right;\">\n",
       "      <th></th>\n",
       "      <th>Weekday</th>\n",
       "      <th>Day</th>\n",
       "      <th>Month</th>\n",
       "      <th>Year</th>\n",
       "      <th>Rented Bike Count</th>\n",
       "      <th>Hour</th>\n",
       "      <th>Temperature(°C)</th>\n",
       "      <th>Humidity(%)</th>\n",
       "      <th>Wind speed (m/s)</th>\n",
       "      <th>Visibility (10m)</th>\n",
       "      <th>Dew point temperature(°C)</th>\n",
       "      <th>Solar Radiation (MJ/m2)</th>\n",
       "      <th>Rainfall(mm)</th>\n",
       "      <th>Snowfall (cm)</th>\n",
       "    </tr>\n",
       "  </thead>\n",
       "  <tbody>\n",
       "    <tr>\n",
       "      <th>count</th>\n",
       "      <td>8760.000000</td>\n",
       "      <td>8760.000000</td>\n",
       "      <td>8760.000000</td>\n",
       "      <td>8760.000000</td>\n",
       "      <td>8760.000000</td>\n",
       "      <td>8760.000000</td>\n",
       "      <td>8760.000000</td>\n",
       "      <td>8760.000000</td>\n",
       "      <td>8760.000000</td>\n",
       "      <td>8760.000000</td>\n",
       "      <td>8760.000000</td>\n",
       "      <td>8760.000000</td>\n",
       "      <td>8760.000000</td>\n",
       "      <td>8760.000000</td>\n",
       "    </tr>\n",
       "    <tr>\n",
       "      <th>mean</th>\n",
       "      <td>3.002740</td>\n",
       "      <td>15.720548</td>\n",
       "      <td>6.526027</td>\n",
       "      <td>2017.915068</td>\n",
       "      <td>704.602055</td>\n",
       "      <td>11.500000</td>\n",
       "      <td>12.882922</td>\n",
       "      <td>58.226256</td>\n",
       "      <td>1.724909</td>\n",
       "      <td>1436.825799</td>\n",
       "      <td>4.073813</td>\n",
       "      <td>0.569111</td>\n",
       "      <td>0.148687</td>\n",
       "      <td>0.075068</td>\n",
       "    </tr>\n",
       "    <tr>\n",
       "      <th>std</th>\n",
       "      <td>1.998056</td>\n",
       "      <td>8.796749</td>\n",
       "      <td>3.448048</td>\n",
       "      <td>0.278796</td>\n",
       "      <td>644.997468</td>\n",
       "      <td>6.922582</td>\n",
       "      <td>11.944825</td>\n",
       "      <td>20.362413</td>\n",
       "      <td>1.036300</td>\n",
       "      <td>608.298712</td>\n",
       "      <td>13.060369</td>\n",
       "      <td>0.868746</td>\n",
       "      <td>1.128193</td>\n",
       "      <td>0.436746</td>\n",
       "    </tr>\n",
       "    <tr>\n",
       "      <th>min</th>\n",
       "      <td>0.000000</td>\n",
       "      <td>1.000000</td>\n",
       "      <td>1.000000</td>\n",
       "      <td>2017.000000</td>\n",
       "      <td>0.000000</td>\n",
       "      <td>0.000000</td>\n",
       "      <td>-17.800000</td>\n",
       "      <td>0.000000</td>\n",
       "      <td>0.000000</td>\n",
       "      <td>27.000000</td>\n",
       "      <td>-30.600000</td>\n",
       "      <td>0.000000</td>\n",
       "      <td>0.000000</td>\n",
       "      <td>0.000000</td>\n",
       "    </tr>\n",
       "    <tr>\n",
       "      <th>25%</th>\n",
       "      <td>1.000000</td>\n",
       "      <td>8.000000</td>\n",
       "      <td>4.000000</td>\n",
       "      <td>2018.000000</td>\n",
       "      <td>191.000000</td>\n",
       "      <td>5.750000</td>\n",
       "      <td>3.500000</td>\n",
       "      <td>42.000000</td>\n",
       "      <td>0.900000</td>\n",
       "      <td>940.000000</td>\n",
       "      <td>-4.700000</td>\n",
       "      <td>0.000000</td>\n",
       "      <td>0.000000</td>\n",
       "      <td>0.000000</td>\n",
       "    </tr>\n",
       "    <tr>\n",
       "      <th>50%</th>\n",
       "      <td>3.000000</td>\n",
       "      <td>16.000000</td>\n",
       "      <td>7.000000</td>\n",
       "      <td>2018.000000</td>\n",
       "      <td>504.500000</td>\n",
       "      <td>11.500000</td>\n",
       "      <td>13.700000</td>\n",
       "      <td>57.000000</td>\n",
       "      <td>1.500000</td>\n",
       "      <td>1698.000000</td>\n",
       "      <td>5.100000</td>\n",
       "      <td>0.010000</td>\n",
       "      <td>0.000000</td>\n",
       "      <td>0.000000</td>\n",
       "    </tr>\n",
       "    <tr>\n",
       "      <th>75%</th>\n",
       "      <td>5.000000</td>\n",
       "      <td>23.000000</td>\n",
       "      <td>10.000000</td>\n",
       "      <td>2018.000000</td>\n",
       "      <td>1065.250000</td>\n",
       "      <td>17.250000</td>\n",
       "      <td>22.500000</td>\n",
       "      <td>74.000000</td>\n",
       "      <td>2.300000</td>\n",
       "      <td>2000.000000</td>\n",
       "      <td>14.800000</td>\n",
       "      <td>0.930000</td>\n",
       "      <td>0.000000</td>\n",
       "      <td>0.000000</td>\n",
       "    </tr>\n",
       "    <tr>\n",
       "      <th>max</th>\n",
       "      <td>6.000000</td>\n",
       "      <td>31.000000</td>\n",
       "      <td>12.000000</td>\n",
       "      <td>2018.000000</td>\n",
       "      <td>3556.000000</td>\n",
       "      <td>23.000000</td>\n",
       "      <td>39.400000</td>\n",
       "      <td>98.000000</td>\n",
       "      <td>7.400000</td>\n",
       "      <td>2000.000000</td>\n",
       "      <td>27.200000</td>\n",
       "      <td>3.520000</td>\n",
       "      <td>35.000000</td>\n",
       "      <td>8.800000</td>\n",
       "    </tr>\n",
       "  </tbody>\n",
       "</table>\n",
       "</div>"
      ],
      "text/plain": [
       "           Weekday          Day        Month         Year  Rented Bike Count  \\\n",
       "count  8760.000000  8760.000000  8760.000000  8760.000000        8760.000000   \n",
       "mean      3.002740    15.720548     6.526027  2017.915068         704.602055   \n",
       "std       1.998056     8.796749     3.448048     0.278796         644.997468   \n",
       "min       0.000000     1.000000     1.000000  2017.000000           0.000000   \n",
       "25%       1.000000     8.000000     4.000000  2018.000000         191.000000   \n",
       "50%       3.000000    16.000000     7.000000  2018.000000         504.500000   \n",
       "75%       5.000000    23.000000    10.000000  2018.000000        1065.250000   \n",
       "max       6.000000    31.000000    12.000000  2018.000000        3556.000000   \n",
       "\n",
       "              Hour  Temperature(°C)  Humidity(%)  Wind speed (m/s)  \\\n",
       "count  8760.000000      8760.000000  8760.000000       8760.000000   \n",
       "mean     11.500000        12.882922    58.226256          1.724909   \n",
       "std       6.922582        11.944825    20.362413          1.036300   \n",
       "min       0.000000       -17.800000     0.000000          0.000000   \n",
       "25%       5.750000         3.500000    42.000000          0.900000   \n",
       "50%      11.500000        13.700000    57.000000          1.500000   \n",
       "75%      17.250000        22.500000    74.000000          2.300000   \n",
       "max      23.000000        39.400000    98.000000          7.400000   \n",
       "\n",
       "       Visibility (10m)  Dew point temperature(°C)  Solar Radiation (MJ/m2)  \\\n",
       "count       8760.000000                8760.000000              8760.000000   \n",
       "mean        1436.825799                   4.073813                 0.569111   \n",
       "std          608.298712                  13.060369                 0.868746   \n",
       "min           27.000000                 -30.600000                 0.000000   \n",
       "25%          940.000000                  -4.700000                 0.000000   \n",
       "50%         1698.000000                   5.100000                 0.010000   \n",
       "75%         2000.000000                  14.800000                 0.930000   \n",
       "max         2000.000000                  27.200000                 3.520000   \n",
       "\n",
       "       Rainfall(mm)  Snowfall (cm)  \n",
       "count   8760.000000    8760.000000  \n",
       "mean       0.148687       0.075068  \n",
       "std        1.128193       0.436746  \n",
       "min        0.000000       0.000000  \n",
       "25%        0.000000       0.000000  \n",
       "50%        0.000000       0.000000  \n",
       "75%        0.000000       0.000000  \n",
       "max       35.000000       8.800000  "
      ]
     },
     "execution_count": 159,
     "metadata": {},
     "output_type": "execute_result"
    }
   ],
   "source": [
    "df.describe()"
   ]
  },
  {
   "cell_type": "code",
   "execution_count": 160,
   "id": "22fba0f7",
   "metadata": {
    "scrolled": false
   },
   "outputs": [
    {
     "data": {
      "image/png": "[encoded data removed]",
      "text/plain": [
       "<Figure size 864x864 with 16 Axes>"
      ]
     },
     "metadata": {
      "needs_background": "light"
     },
     "output_type": "display_data"
    }
   ],
   "source": [
    "import matplotlib.pyplot as plt\n",
    "\n",
    "# Defining font sizes\n",
    "plt.rc('font', size = 14)\n",
    "plt.rc('axes', labelsize = 14, titlesize = 14)\n",
    "plt.rc('legend', fontsize = 14)\n",
    "plt.rc('xtick', labelsize = 10)\n",
    "plt.rc('ytick', labelsize = 10)\n",
    "\n",
    "df.hist(bins = 40, figsize = (12,12))\n",
    "plt.show()"
   ]
  },
  {
   "cell_type": "markdown",
   "id": "56d7d567",
   "metadata": {},
   "source": [
    "## Remove Outliers"
   ]
  },
  {
   "cell_type": "code",
   "execution_count": 161,
   "id": "bdc9c576",
   "metadata": {
    "scrolled": false
   },
   "outputs": [
    {
     "name": "stderr",
     "output_type": "stream",
     "text": [
      "C:\\Users\\jinho\\AppData\\Local\\Temp\\ipykernel_26356\\1254838191.py:6: FutureWarning: Automatic reindexing on DataFrame vs Series comparisons is deprecated and will raise ValueError in a future version. Do `left, right = left.align(right, axis=1, copy=False)` before e.g. `left == right`\n",
      "  ((df < (Q1 - 1.5 * IQR)) | (df > (Q3 + 1.5 * IQR))).sum()\n"
     ]
    },
    {
     "data": {
      "text/plain": [
       "Date                           0\n",
       "Day                            0\n",
       "Dew point temperature(°C)      0\n",
       "Functioning Day                0\n",
       "Holiday                        0\n",
       "Hour                           0\n",
       "Humidity(%)                    0\n",
       "Month                          0\n",
       "Rainfall(mm)                 528\n",
       "Rented Bike Count            158\n",
       "Seasons                        0\n",
       "Snowfall (cm)                443\n",
       "Solar Radiation (MJ/m2)      641\n",
       "Temperature(°C)                0\n",
       "Visibility (10m)               0\n",
       "Weekday                        0\n",
       "Wind speed (m/s)             161\n",
       "Year                         744\n",
       "dtype: int64"
      ]
     },
     "execution_count": 161,
     "metadata": {},
     "output_type": "execute_result"
    }
   ],
   "source": [
    "# Identify how many outliers there are for each predictor\n",
    "Q1 = df.quantile(0.25)\n",
    "Q3 = df.quantile(0.75)\n",
    "IQR = Q3 - Q1\n",
    "\n",
    "((df < (Q1 - 1.5 * IQR)) | (df > (Q3 + 1.5 * IQR))).sum()"
   ]
  },
  {
   "cell_type": "markdown",
   "id": "e70e0b33",
   "metadata": {},
   "source": [
    "There are 4 predictors with a high amount of outliers that deserves some further observation:\n",
    "- Rainfall(mm)\n",
    "- Snowfall (cm)\n",
    "- Solar Radiation (MJ/m2)\n",
    "- Wind speed (m/s)"
   ]
  },
  {
   "cell_type": "code",
   "execution_count": 162,
   "id": "8f3a3c49",
   "metadata": {},
   "outputs": [
    {
     "name": "stdout",
     "output_type": "stream",
     "text": [
      "Rainfall(mm):\n",
      "count    528.000000\n",
      "mean       2.466856\n",
      "std        3.927524\n",
      "min        0.100000\n",
      "25%        0.500000\n",
      "50%        1.000000\n",
      "75%        2.500000\n",
      "max       35.000000\n",
      "Name: Rainfall(mm), dtype: float64\n",
      "\n",
      "\n",
      "Snowfall (cm):\n",
      "count    443.000000\n",
      "mean       1.484424\n",
      "std        1.297372\n",
      "min        0.100000\n",
      "25%        0.500000\n",
      "50%        1.000000\n",
      "75%        2.200000\n",
      "max        8.800000\n",
      "Name: Snowfall (cm), dtype: float64\n",
      "\n",
      "\n",
      "Solar Radiation (MJ/m2):\n",
      "count    641.000000\n",
      "mean       2.774290\n",
      "std        0.300623\n",
      "min        2.330000\n",
      "25%        2.510000\n",
      "50%        2.740000\n",
      "75%        2.990000\n",
      "max        3.520000\n",
      "Name: Solar Radiation (MJ/m2), dtype: float64\n",
      "\n",
      "\n",
      "Wind speed (m/s):\n",
      "count    161.000000\n",
      "mean       4.885093\n",
      "std        0.542127\n",
      "min        4.400000\n",
      "25%        4.500000\n",
      "50%        4.700000\n",
      "75%        5.000000\n",
      "max        7.400000\n",
      "Name: Wind speed (m/s), dtype: float64\n",
      "\n",
      "\n"
     ]
    }
   ],
   "source": [
    "# Look at the distribution of the outliers\n",
    "pred_with_out = ['Rainfall(mm)', 'Snowfall (cm)', 'Solar Radiation (MJ/m2)', 'Wind speed (m/s)']\n",
    "df_outliers = pd.DataFrame()\n",
    "\n",
    "for i in pred_with_out:\n",
    "    Q1 = df[i].quantile(0.25)\n",
    "    Q3 = df[i].quantile(0.75)\n",
    "    IQR = Q3 - Q1\n",
    "    \n",
    "    series = df[(df[i] < (Q1 - 1.5 * IQR)) | (df[i] > (Q3 + 1.5 * IQR))][i]\n",
    "    print(i + ':')\n",
    "    print(series.describe())\n",
    "    print('\\n')"
   ]
  },
  {
   "cell_type": "markdown",
   "id": "6b32425d",
   "metadata": {},
   "source": [
    "We can see that for Rainfall and Snowfall, even 0.1mm and 0.1cm respectively are considered outliers, so removing all the values that would be considered outliers from these predictors would leave us with only the value 0, rendering these predictors useless. As such, I will be only be removing values of these columns that are greater than the respective Q3 of outliers i.e. 2.5 and 2.2 respectively.<br>\n",
    "<br>\n",
    "In terms of Solar Radiation and Wind speed, I think that we can safely remove all proposed outliers as the minimum of the outliers are both quite high indeed."
   ]
  },
  {
   "cell_type": "code",
   "execution_count": 163,
   "id": "986e953c",
   "metadata": {},
   "outputs": [
    {
     "data": {
      "text/plain": [
       "(7793, 18)"
      ]
     },
     "execution_count": 163,
     "metadata": {},
     "output_type": "execute_result"
    }
   ],
   "source": [
    "df = df[(df['Rainfall(mm)'] <= 2.5)]\n",
    "df = df[(df['Snowfall (cm)'] <= 2.2)]\n",
    "df = df[(df['Solar Radiation (MJ/m2)'] <= 2.33)]\n",
    "df = df[(df['Wind speed (m/s)'] <= 4.4)]\n",
    "df.shape"
   ]
  },
  {
   "cell_type": "markdown",
   "id": "b11b7a08",
   "metadata": {},
   "source": [
    "## Create a Test Set"
   ]
  },
  {
   "cell_type": "code",
   "execution_count": 164,
   "id": "a11435a5",
   "metadata": {},
   "outputs": [
    {
     "name": "stdout",
     "output_type": "stream",
     "text": [
      "Training set: 6235\n",
      "Testing set: 1558\n"
     ]
    }
   ],
   "source": [
    "# Method 1\n",
    "import numpy as np\n",
    "\n",
    "# Set random seed\n",
    "np.random.seed(119)\n",
    "\n",
    "def shuffle_and_split_data(data, test_ratio):\n",
    "    shuffled_indices = np.random.permutation(len(data))\n",
    "    test_set_size = int(len(data) * test_ratio)\n",
    "    test_indices = shuffled_indices[:test_set_size]\n",
    "    train_indices = shuffled_indices[test_set_size:]\n",
    "    return data.iloc[train_indices], data.iloc[test_indices]\n",
    "\n",
    "train_set, test_set = shuffle_and_split_data(df, 0.2)\n",
    "print('Training set:', len(train_set))\n",
    "print('Testing set:', len(test_set))"
   ]
  },
  {
   "cell_type": "code",
   "execution_count": 171,
   "id": "b71cfa5e",
   "metadata": {},
   "outputs": [
    {
     "name": "stdout",
     "output_type": "stream",
     "text": [
      "Training set: 6237\n",
      "Testing set: 1556\n"
     ]
    }
   ],
   "source": [
    "# Method 2\n",
    "from zlib import crc32\n",
    "\n",
    "def is_id_in_test_set(identifier, test_ratio):\n",
    "    return crc32(np.int64(identifier)) < test_ratio * 2 ** 32\n",
    "\n",
    "def split_data_with_id_hash(data, test_ratio, id_column):\n",
    "    ids = data[id_column]\n",
    "    in_test_set = ids.apply(lambda id_: is_id_in_test_set(id_, test_ratio))\n",
    "    return data.loc[~in_test_set], data.loc[in_test_set]\n",
    "\n",
    "df_with_id = df.reset_index()\n",
    "\n",
    "train_set1, test_set1 = split_data_with_id_hash(df_with_id, 0.2, 'index')\n",
    "print('Training set:', len(train_set1))\n",
    "print('Testing set:', len(test_set1))"
   ]
  },
  {
   "cell_type": "code",
   "execution_count": 172,
   "id": "0061ce82",
   "metadata": {},
   "outputs": [
    {
     "name": "stdout",
     "output_type": "stream",
     "text": [
      "Training set: 6234\n",
      "Testing set: 1559\n"
     ]
    }
   ],
   "source": [
    "# Method 3\n",
    "from sklearn.model_selection import train_test_split\n",
    "train_set2, test_set2 = train_test_split(df, test_size = 0.2, random_state = 119)\n",
    "print('Training set:', len(train_set2))\n",
    "print('Testing set:', len(test_set2))"
   ]
  },
  {
   "cell_type": "markdown",
   "id": "e698c249",
   "metadata": {},
   "source": [
    "## Look for Correlations"
   ]
  },
  {
   "cell_type": "code",
   "execution_count": 175,
   "id": "3c049c8b",
   "metadata": {},
   "outputs": [
    {
     "data": {
      "text/html": [
       "<style type=\"text/css\">\n",
       "#T_60e53_row0_col0, #T_60e53_row1_col1, #T_60e53_row2_col2, #T_60e53_row3_col3, #T_60e53_row4_col4, #T_60e53_row5_col5, #T_60e53_row6_col6, #T_60e53_row7_col7, #T_60e53_row8_col8, #T_60e53_row9_col9, #T_60e53_row10_col10, #T_60e53_row11_col11, #T_60e53_row12_col12, #T_60e53_row13_col13 {\n",
       "  background-color: #fde725;\n",
       "  color: #000000;\n",
       "}\n",
       "#T_60e53_row0_col1, #T_60e53_row5_col1, #T_60e53_row10_col1, #T_60e53_row11_col1, #T_60e53_row11_col12 {\n",
       "  background-color: #481f70;\n",
       "  color: #f1f1f1;\n",
       "}\n",
       "#T_60e53_row0_col2, #T_60e53_row4_col8, #T_60e53_row11_col4 {\n",
       "  background-color: #30698e;\n",
       "  color: #f1f1f1;\n",
       "}\n",
       "#T_60e53_row0_col3, #T_60e53_row6_col5 {\n",
       "  background-color: #365d8d;\n",
       "  color: #f1f1f1;\n",
       "}\n",
       "#T_60e53_row0_col4 {\n",
       "  background-color: #482071;\n",
       "  color: #f1f1f1;\n",
       "}\n",
       "#T_60e53_row0_col5, #T_60e53_row1_col5, #T_60e53_row2_col5, #T_60e53_row10_col5 {\n",
       "  background-color: #414287;\n",
       "  color: #f1f1f1;\n",
       "}\n",
       "#T_60e53_row0_col6 {\n",
       "  background-color: #424086;\n",
       "  color: #f1f1f1;\n",
       "}\n",
       "#T_60e53_row0_col7, #T_60e53_row1_col2, #T_60e53_row13_col2 {\n",
       "  background-color: #306a8e;\n",
       "  color: #f1f1f1;\n",
       "}\n",
       "#T_60e53_row0_col8, #T_60e53_row1_col8, #T_60e53_row3_col8 {\n",
       "  background-color: #3e4c8a;\n",
       "  color: #f1f1f1;\n",
       "}\n",
       "#T_60e53_row0_col9, #T_60e53_row5_col3, #T_60e53_row10_col11, #T_60e53_row11_col2 {\n",
       "  background-color: #32658e;\n",
       "  color: #f1f1f1;\n",
       "}\n",
       "#T_60e53_row0_col10 {\n",
       "  background-color: #453781;\n",
       "  color: #f1f1f1;\n",
       "}\n",
       "#T_60e53_row0_col11 {\n",
       "  background-color: #375a8c;\n",
       "  color: #f1f1f1;\n",
       "}\n",
       "#T_60e53_row0_col12, #T_60e53_row8_col6 {\n",
       "  background-color: #46337f;\n",
       "  color: #f1f1f1;\n",
       "}\n",
       "#T_60e53_row0_col13, #T_60e53_row1_col10, #T_60e53_row5_col10 {\n",
       "  background-color: #443b84;\n",
       "  color: #f1f1f1;\n",
       "}\n",
       "#T_60e53_row1_col0 {\n",
       "  background-color: #481467;\n",
       "  color: #f1f1f1;\n",
       "}\n",
       "#T_60e53_row1_col3, #T_60e53_row8_col3, #T_60e53_row13_col9 {\n",
       "  background-color: #32648e;\n",
       "  color: #f1f1f1;\n",
       "}\n",
       "#T_60e53_row1_col4, #T_60e53_row2_col12 {\n",
       "  background-color: #453581;\n",
       "  color: #f1f1f1;\n",
       "}\n",
       "#T_60e53_row1_col6 {\n",
       "  background-color: #3f4889;\n",
       "  color: #f1f1f1;\n",
       "}\n",
       "#T_60e53_row1_col7, #T_60e53_row3_col4, #T_60e53_row11_col5 {\n",
       "  background-color: #33638d;\n",
       "  color: #f1f1f1;\n",
       "}\n",
       "#T_60e53_row1_col9, #T_60e53_row2_col11, #T_60e53_row9_col4, #T_60e53_row10_col12 {\n",
       "  background-color: #375b8d;\n",
       "  color: #f1f1f1;\n",
       "}\n",
       "#T_60e53_row1_col11 {\n",
       "  background-color: #365c8d;\n",
       "  color: #f1f1f1;\n",
       "}\n",
       "#T_60e53_row1_col12 {\n",
       "  background-color: #472e7c;\n",
       "  color: #f1f1f1;\n",
       "}\n",
       "#T_60e53_row1_col13 {\n",
       "  background-color: #39558c;\n",
       "  color: #f1f1f1;\n",
       "}\n",
       "#T_60e53_row2_col0 {\n",
       "  background-color: #481a6c;\n",
       "  color: #f1f1f1;\n",
       "}\n",
       "#T_60e53_row2_col1, #T_60e53_row6_col1 {\n",
       "  background-color: #482576;\n",
       "  color: #f1f1f1;\n",
       "}\n",
       "#T_60e53_row2_col3, #T_60e53_row3_col0, #T_60e53_row3_col2, #T_60e53_row3_col13, #T_60e53_row4_col0, #T_60e53_row7_col4, #T_60e53_row7_col5, #T_60e53_row7_col8, #T_60e53_row7_col9, #T_60e53_row7_col11, #T_60e53_row9_col1, #T_60e53_row9_col7, #T_60e53_row9_col12, #T_60e53_row12_col4, #T_60e53_row13_col6, #T_60e53_row13_col10 {\n",
       "  background-color: #440154;\n",
       "  color: #f1f1f1;\n",
       "}\n",
       "#T_60e53_row2_col4 {\n",
       "  background-color: #3a548c;\n",
       "  color: #f1f1f1;\n",
       "}\n",
       "#T_60e53_row2_col6 {\n",
       "  background-color: #2b748e;\n",
       "  color: #f1f1f1;\n",
       "}\n",
       "#T_60e53_row2_col7 {\n",
       "  background-color: #277f8e;\n",
       "  color: #f1f1f1;\n",
       "}\n",
       "#T_60e53_row2_col8, #T_60e53_row8_col12 {\n",
       "  background-color: #472a7a;\n",
       "  color: #f1f1f1;\n",
       "}\n",
       "#T_60e53_row2_col9 {\n",
       "  background-color: #2b758e;\n",
       "  color: #f1f1f1;\n",
       "}\n",
       "#T_60e53_row2_col10, #T_60e53_row3_col9, #T_60e53_row9_col2 {\n",
       "  background-color: #2c718e;\n",
       "  color: #f1f1f1;\n",
       "}\n",
       "#T_60e53_row2_col13, #T_60e53_row10_col9, #T_60e53_row12_col9, #T_60e53_row12_col11 {\n",
       "  background-color: #3e4a89;\n",
       "  color: #f1f1f1;\n",
       "}\n",
       "#T_60e53_row3_col1 {\n",
       "  background-color: #481b6d;\n",
       "  color: #f1f1f1;\n",
       "}\n",
       "#T_60e53_row3_col5, #T_60e53_row5_col13, #T_60e53_row12_col13 {\n",
       "  background-color: #424186;\n",
       "  color: #f1f1f1;\n",
       "}\n",
       "#T_60e53_row3_col6, #T_60e53_row5_col4 {\n",
       "  background-color: #21908d;\n",
       "  color: #f1f1f1;\n",
       "}\n",
       "#T_60e53_row3_col7 {\n",
       "  background-color: #2c738e;\n",
       "  color: #f1f1f1;\n",
       "}\n",
       "#T_60e53_row3_col10 {\n",
       "  background-color: #25848e;\n",
       "  color: #f1f1f1;\n",
       "}\n",
       "#T_60e53_row3_col11, #T_60e53_row9_col3 {\n",
       "  background-color: #2e6e8e;\n",
       "  color: #f1f1f1;\n",
       "}\n",
       "#T_60e53_row3_col12, #T_60e53_row6_col8, #T_60e53_row12_col5 {\n",
       "  background-color: #423f85;\n",
       "  color: #f1f1f1;\n",
       "}\n",
       "#T_60e53_row4_col1 {\n",
       "  background-color: #482677;\n",
       "  color: #f1f1f1;\n",
       "}\n",
       "#T_60e53_row4_col2 {\n",
       "  background-color: #277e8e;\n",
       "  color: #f1f1f1;\n",
       "}\n",
       "#T_60e53_row4_col3, #T_60e53_row11_col8 {\n",
       "  background-color: #23888e;\n",
       "  color: #f1f1f1;\n",
       "}\n",
       "#T_60e53_row4_col5 {\n",
       "  background-color: #1f998a;\n",
       "  color: #f1f1f1;\n",
       "}\n",
       "#T_60e53_row4_col6 {\n",
       "  background-color: #2ab07f;\n",
       "  color: #f1f1f1;\n",
       "}\n",
       "#T_60e53_row4_col7 {\n",
       "  background-color: #3c508b;\n",
       "  color: #f1f1f1;\n",
       "}\n",
       "#T_60e53_row4_col9, #T_60e53_row4_col11 {\n",
       "  background-color: #25858e;\n",
       "  color: #f1f1f1;\n",
       "}\n",
       "#T_60e53_row4_col10, #T_60e53_row8_col11 {\n",
       "  background-color: #21918c;\n",
       "  color: #f1f1f1;\n",
       "}\n",
       "#T_60e53_row4_col12, #T_60e53_row8_col10, #T_60e53_row9_col0 {\n",
       "  background-color: #46085c;\n",
       "  color: #f1f1f1;\n",
       "}\n",
       "#T_60e53_row4_col13, #T_60e53_row10_col8 {\n",
       "  background-color: #482475;\n",
       "  color: #f1f1f1;\n",
       "}\n",
       "#T_60e53_row5_col0, #T_60e53_row7_col0 {\n",
       "  background-color: #471365;\n",
       "  color: #f1f1f1;\n",
       "}\n",
       "#T_60e53_row5_col2, #T_60e53_row12_col2 {\n",
       "  background-color: #31668e;\n",
       "  color: #f1f1f1;\n",
       "}\n",
       "#T_60e53_row5_col6 {\n",
       "  background-color: #355e8d;\n",
       "  color: #f1f1f1;\n",
       "}\n",
       "#T_60e53_row5_col7, #T_60e53_row13_col5 {\n",
       "  background-color: #433e85;\n",
       "  color: #f1f1f1;\n",
       "}\n",
       "#T_60e53_row5_col8 {\n",
       "  background-color: #24878e;\n",
       "  color: #f1f1f1;\n",
       "}\n",
       "#T_60e53_row5_col9, #T_60e53_row7_col12, #T_60e53_row11_col6 {\n",
       "  background-color: #297a8e;\n",
       "  color: #f1f1f1;\n",
       "}\n",
       "#T_60e53_row5_col11, #T_60e53_row11_col3 {\n",
       "  background-color: #2a768e;\n",
       "  color: #f1f1f1;\n",
       "}\n",
       "#T_60e53_row5_col12 {\n",
       "  background-color: #46327e;\n",
       "  color: #f1f1f1;\n",
       "}\n",
       "#T_60e53_row6_col0 {\n",
       "  background-color: #470d60;\n",
       "  color: #f1f1f1;\n",
       "}\n",
       "#T_60e53_row6_col2 {\n",
       "  background-color: #228c8d;\n",
       "  color: #f1f1f1;\n",
       "}\n",
       "#T_60e53_row6_col3 {\n",
       "  background-color: #1fa287;\n",
       "  color: #f1f1f1;\n",
       "}\n",
       "#T_60e53_row6_col4 {\n",
       "  background-color: #23a983;\n",
       "  color: #f1f1f1;\n",
       "}\n",
       "#T_60e53_row6_col7 {\n",
       "  background-color: #20928c;\n",
       "  color: #f1f1f1;\n",
       "}\n",
       "#T_60e53_row6_col9 {\n",
       "  background-color: #2f6c8e;\n",
       "  color: #f1f1f1;\n",
       "}\n",
       "#T_60e53_row6_col10, #T_60e53_row10_col6 {\n",
       "  background-color: #d8e219;\n",
       "  color: #000000;\n",
       "}\n",
       "#T_60e53_row6_col11 {\n",
       "  background-color: #23898e;\n",
       "  color: #f1f1f1;\n",
       "}\n",
       "#T_60e53_row6_col12, #T_60e53_row12_col8 {\n",
       "  background-color: #404588;\n",
       "  color: #f1f1f1;\n",
       "}\n",
       "#T_60e53_row6_col13 {\n",
       "  background-color: #440256;\n",
       "  color: #f1f1f1;\n",
       "}\n",
       "#T_60e53_row7_col1, #T_60e53_row12_col0 {\n",
       "  background-color: #471164;\n",
       "  color: #f1f1f1;\n",
       "}\n",
       "#T_60e53_row7_col2 {\n",
       "  background-color: #297b8e;\n",
       "  color: #f1f1f1;\n",
       "}\n",
       "#T_60e53_row7_col3 {\n",
       "  background-color: #2d708e;\n",
       "  color: #f1f1f1;\n",
       "}\n",
       "#T_60e53_row7_col6 {\n",
       "  background-color: #2a778e;\n",
       "  color: #f1f1f1;\n",
       "}\n",
       "#T_60e53_row7_col10 {\n",
       "  background-color: #31b57b;\n",
       "  color: #f1f1f1;\n",
       "}\n",
       "#T_60e53_row7_col13, #T_60e53_row9_col6 {\n",
       "  background-color: #404688;\n",
       "  color: #f1f1f1;\n",
       "}\n",
       "#T_60e53_row8_col0, #T_60e53_row10_col13 {\n",
       "  background-color: #470e61;\n",
       "  color: #f1f1f1;\n",
       "}\n",
       "#T_60e53_row8_col1 {\n",
       "  background-color: #481c6e;\n",
       "  color: #f1f1f1;\n",
       "}\n",
       "#T_60e53_row8_col2 {\n",
       "  background-color: #3e4989;\n",
       "  color: #f1f1f1;\n",
       "}\n",
       "#T_60e53_row8_col4 {\n",
       "  background-color: #3b518b;\n",
       "  color: #f1f1f1;\n",
       "}\n",
       "#T_60e53_row8_col5 {\n",
       "  background-color: #27808e;\n",
       "  color: #f1f1f1;\n",
       "}\n",
       "#T_60e53_row8_col7, #T_60e53_row13_col12 {\n",
       "  background-color: #46307e;\n",
       "  color: #f1f1f1;\n",
       "}\n",
       "#T_60e53_row8_col9 {\n",
       "  background-color: #25838e;\n",
       "  color: #f1f1f1;\n",
       "}\n",
       "#T_60e53_row8_col13 {\n",
       "  background-color: #3c4f8a;\n",
       "  color: #f1f1f1;\n",
       "}\n",
       "#T_60e53_row9_col5 {\n",
       "  background-color: #38598c;\n",
       "  color: #f1f1f1;\n",
       "}\n",
       "#T_60e53_row9_col8, #T_60e53_row9_col11 {\n",
       "  background-color: #2e6f8e;\n",
       "  color: #f1f1f1;\n",
       "}\n",
       "#T_60e53_row9_col10 {\n",
       "  background-color: #460a5d;\n",
       "  color: #f1f1f1;\n",
       "}\n",
       "#T_60e53_row9_col13 {\n",
       "  background-color: #433d84;\n",
       "  color: #f1f1f1;\n",
       "}\n",
       "#T_60e53_row10_col0 {\n",
       "  background-color: #460b5e;\n",
       "  color: #f1f1f1;\n",
       "}\n",
       "#T_60e53_row10_col2 {\n",
       "  background-color: #218e8d;\n",
       "  color: #f1f1f1;\n",
       "}\n",
       "#T_60e53_row10_col3 {\n",
       "  background-color: #1e9c89;\n",
       "  color: #f1f1f1;\n",
       "}\n",
       "#T_60e53_row10_col4 {\n",
       "  background-color: #228b8d;\n",
       "  color: #f1f1f1;\n",
       "}\n",
       "#T_60e53_row10_col7 {\n",
       "  background-color: #50c46a;\n",
       "  color: #000000;\n",
       "}\n",
       "#T_60e53_row11_col0 {\n",
       "  background-color: #471063;\n",
       "  color: #f1f1f1;\n",
       "}\n",
       "#T_60e53_row11_col7 {\n",
       "  background-color: #481d6f;\n",
       "  color: #f1f1f1;\n",
       "}\n",
       "#T_60e53_row11_col9 {\n",
       "  background-color: #287c8e;\n",
       "  color: #f1f1f1;\n",
       "}\n",
       "#T_60e53_row11_col10 {\n",
       "  background-color: #3f4788;\n",
       "  color: #f1f1f1;\n",
       "}\n",
       "#T_60e53_row11_col13 {\n",
       "  background-color: #443a83;\n",
       "  color: #f1f1f1;\n",
       "}\n",
       "#T_60e53_row12_col1 {\n",
       "  background-color: #481769;\n",
       "  color: #f1f1f1;\n",
       "}\n",
       "#T_60e53_row12_col3 {\n",
       "  background-color: #2e6d8e;\n",
       "  color: #f1f1f1;\n",
       "}\n",
       "#T_60e53_row12_col6, #T_60e53_row13_col11 {\n",
       "  background-color: #3b528b;\n",
       "  color: #f1f1f1;\n",
       "}\n",
       "#T_60e53_row12_col7 {\n",
       "  background-color: #1f9a8a;\n",
       "  color: #f1f1f1;\n",
       "}\n",
       "#T_60e53_row12_col10 {\n",
       "  background-color: #355f8d;\n",
       "  color: #f1f1f1;\n",
       "}\n",
       "#T_60e53_row13_col0 {\n",
       "  background-color: #450559;\n",
       "  color: #f1f1f1;\n",
       "}\n",
       "#T_60e53_row13_col1, #T_60e53_row13_col3 {\n",
       "  background-color: #463480;\n",
       "  color: #f1f1f1;\n",
       "}\n",
       "#T_60e53_row13_col4 {\n",
       "  background-color: #46075a;\n",
       "  color: #f1f1f1;\n",
       "}\n",
       "#T_60e53_row13_col7 {\n",
       "  background-color: #2f6b8e;\n",
       "  color: #f1f1f1;\n",
       "}\n",
       "#T_60e53_row13_col8 {\n",
       "  background-color: #38588c;\n",
       "  color: #f1f1f1;\n",
       "}\n",
       "</style>\n",
       "<table id=\"T_60e53\">\n",
       "  <thead>\n",
       "    <tr>\n",
       "      <th class=\"blank level0\" >&nbsp;</th>\n",
       "      <th id=\"T_60e53_level0_col0\" class=\"col_heading level0 col0\" >Weekday</th>\n",
       "      <th id=\"T_60e53_level0_col1\" class=\"col_heading level0 col1\" >Day</th>\n",
       "      <th id=\"T_60e53_level0_col2\" class=\"col_heading level0 col2\" >Month</th>\n",
       "      <th id=\"T_60e53_level0_col3\" class=\"col_heading level0 col3\" >Year</th>\n",
       "      <th id=\"T_60e53_level0_col4\" class=\"col_heading level0 col4\" >Rented Bike Count</th>\n",
       "      <th id=\"T_60e53_level0_col5\" class=\"col_heading level0 col5\" >Hour</th>\n",
       "      <th id=\"T_60e53_level0_col6\" class=\"col_heading level0 col6\" >Temperature(°C)</th>\n",
       "      <th id=\"T_60e53_level0_col7\" class=\"col_heading level0 col7\" >Humidity(%)</th>\n",
       "      <th id=\"T_60e53_level0_col8\" class=\"col_heading level0 col8\" >Wind speed (m/s)</th>\n",
       "      <th id=\"T_60e53_level0_col9\" class=\"col_heading level0 col9\" >Visibility (10m)</th>\n",
       "      <th id=\"T_60e53_level0_col10\" class=\"col_heading level0 col10\" >Dew point temperature(°C)</th>\n",
       "      <th id=\"T_60e53_level0_col11\" class=\"col_heading level0 col11\" >Solar Radiation (MJ/m2)</th>\n",
       "      <th id=\"T_60e53_level0_col12\" class=\"col_heading level0 col12\" >Rainfall(mm)</th>\n",
       "      <th id=\"T_60e53_level0_col13\" class=\"col_heading level0 col13\" >Snowfall (cm)</th>\n",
       "    </tr>\n",
       "  </thead>\n",
       "  <tbody>\n",
       "    <tr>\n",
       "      <th id=\"T_60e53_level0_row0\" class=\"row_heading level0 row0\" >Weekday</th>\n",
       "      <td id=\"T_60e53_row0_col0\" class=\"data row0 col0\" >1.000000</td>\n",
       "      <td id=\"T_60e53_row0_col1\" class=\"data row0 col1\" >0.002602</td>\n",
       "      <td id=\"T_60e53_row0_col2\" class=\"data row0 col2\" >0.019649</td>\n",
       "      <td id=\"T_60e53_row0_col3\" class=\"data row0 col3\" >-0.050531</td>\n",
       "      <td id=\"T_60e53_row0_col4\" class=\"data row0 col4\" >-0.051004</td>\n",
       "      <td id=\"T_60e53_row0_col5\" class=\"data row0 col5\" >-0.000773</td>\n",
       "      <td id=\"T_60e53_row0_col6\" class=\"data row0 col6\" >-0.014646</td>\n",
       "      <td id=\"T_60e53_row0_col7\" class=\"data row0 col7\" >-0.000460</td>\n",
       "      <td id=\"T_60e53_row0_col8\" class=\"data row0 col8\" >-0.012134</td>\n",
       "      <td id=\"T_60e53_row0_col9\" class=\"data row0 col9\" >-0.029791</td>\n",
       "      <td id=\"T_60e53_row0_col10\" class=\"data row0 col10\" >-0.018514</td>\n",
       "      <td id=\"T_60e53_row0_col11\" class=\"data row0 col11\" >-0.006120</td>\n",
       "      <td id=\"T_60e53_row0_col12\" class=\"data row0 col12\" >-0.005595</td>\n",
       "      <td id=\"T_60e53_row0_col13\" class=\"data row0 col13\" >-0.037562</td>\n",
       "    </tr>\n",
       "    <tr>\n",
       "      <th id=\"T_60e53_level0_row1\" class=\"row_heading level0 row1\" >Day</th>\n",
       "      <td id=\"T_60e53_row1_col0\" class=\"data row1 col0\" >0.002602</td>\n",
       "      <td id=\"T_60e53_row1_col1\" class=\"data row1 col1\" >1.000000</td>\n",
       "      <td id=\"T_60e53_row1_col2\" class=\"data row1 col2\" >0.023189</td>\n",
       "      <td id=\"T_60e53_row1_col3\" class=\"data row1 col3\" >-0.011696</td>\n",
       "      <td id=\"T_60e53_row1_col4\" class=\"data row1 col4\" >0.024611</td>\n",
       "      <td id=\"T_60e53_row1_col5\" class=\"data row1 col5\" >0.001114</td>\n",
       "      <td id=\"T_60e53_row1_col6\" class=\"data row1 col6\" >0.021933</td>\n",
       "      <td id=\"T_60e53_row1_col7\" class=\"data row1 col7\" >-0.041783</td>\n",
       "      <td id=\"T_60e53_row1_col8\" class=\"data row1 col8\" >-0.009763</td>\n",
       "      <td id=\"T_60e53_row1_col9\" class=\"data row1 col9\" >-0.090814</td>\n",
       "      <td id=\"T_60e53_row1_col10\" class=\"data row1 col10\" >0.002244</td>\n",
       "      <td id=\"T_60e53_row1_col11\" class=\"data row1 col11\" >0.000415</td>\n",
       "      <td id=\"T_60e53_row1_col12\" class=\"data row1 col12\" >-0.024156</td>\n",
       "      <td id=\"T_60e53_row1_col13\" class=\"data row1 col13\" >0.072214</td>\n",
       "    </tr>\n",
       "    <tr>\n",
       "      <th id=\"T_60e53_level0_row2\" class=\"row_heading level0 row2\" >Month</th>\n",
       "      <td id=\"T_60e53_row2_col0\" class=\"data row2 col0\" >0.019649</td>\n",
       "      <td id=\"T_60e53_row2_col1\" class=\"data row2 col1\" >0.023189</td>\n",
       "      <td id=\"T_60e53_row2_col2\" class=\"data row2 col2\" >1.000000</td>\n",
       "      <td id=\"T_60e53_row2_col3\" class=\"data row2 col3\" >-0.480819</td>\n",
       "      <td id=\"T_60e53_row2_col4\" class=\"data row2 col4\" >0.147837</td>\n",
       "      <td id=\"T_60e53_row2_col5\" class=\"data row2 col5\" >0.001623</td>\n",
       "      <td id=\"T_60e53_row2_col6\" class=\"data row2 col6\" >0.231651</td>\n",
       "      <td id=\"T_60e53_row2_col7\" class=\"data row2 col7\" >0.131274</td>\n",
       "      <td id=\"T_60e53_row2_col8\" class=\"data row2 col8\" >-0.154935</td>\n",
       "      <td id=\"T_60e53_row2_col9\" class=\"data row2 col9\" >0.070827</td>\n",
       "      <td id=\"T_60e53_row2_col10\" class=\"data row2 col10\" >0.243679</td>\n",
       "      <td id=\"T_60e53_row2_col11\" class=\"data row2 col11\" >-0.003007</td>\n",
       "      <td id=\"T_60e53_row2_col12\" class=\"data row2 col12\" >0.001695</td>\n",
       "      <td id=\"T_60e53_row2_col13\" class=\"data row2 col13\" >0.026558</td>\n",
       "    </tr>\n",
       "    <tr>\n",
       "      <th id=\"T_60e53_level0_row3\" class=\"row_heading level0 row3\" >Year</th>\n",
       "      <td id=\"T_60e53_row3_col0\" class=\"data row3 col0\" >-0.050531</td>\n",
       "      <td id=\"T_60e53_row3_col1\" class=\"data row3 col1\" >-0.011696</td>\n",
       "      <td id=\"T_60e53_row3_col2\" class=\"data row3 col2\" >-0.480819</td>\n",
       "      <td id=\"T_60e53_row3_col3\" class=\"data row3 col3\" >1.000000</td>\n",
       "      <td id=\"T_60e53_row3_col4\" class=\"data row3 col4\" >0.208840</td>\n",
       "      <td id=\"T_60e53_row3_col5\" class=\"data row3 col5\" >-0.002572</td>\n",
       "      <td id=\"T_60e53_row3_col6\" class=\"data row3 col6\" >0.371977</td>\n",
       "      <td id=\"T_60e53_row3_col7\" class=\"data row3 col7\" >0.059666</td>\n",
       "      <td id=\"T_60e53_row3_col8\" class=\"data row3 col8\" >-0.010585</td>\n",
       "      <td id=\"T_60e53_row3_col9\" class=\"data row3 col9\" >0.046040</td>\n",
       "      <td id=\"T_60e53_row3_col10\" class=\"data row3 col10\" >0.333637</td>\n",
       "      <td id=\"T_60e53_row3_col11\" class=\"data row3 col11\" >0.100765</td>\n",
       "      <td id=\"T_60e53_row3_col12\" class=\"data row3 col12\" >0.040038</td>\n",
       "      <td id=\"T_60e53_row3_col13\" class=\"data row3 col13\" >-0.258333</td>\n",
       "    </tr>\n",
       "    <tr>\n",
       "      <th id=\"T_60e53_level0_row4\" class=\"row_heading level0 row4\" >Rented Bike Count</th>\n",
       "      <td id=\"T_60e53_row4_col0\" class=\"data row4 col0\" >-0.051004</td>\n",
       "      <td id=\"T_60e53_row4_col1\" class=\"data row4 col1\" >0.024611</td>\n",
       "      <td id=\"T_60e53_row4_col2\" class=\"data row4 col2\" >0.147837</td>\n",
       "      <td id=\"T_60e53_row4_col3\" class=\"data row4 col3\" >0.208840</td>\n",
       "      <td id=\"T_60e53_row4_col4\" class=\"data row4 col4\" >1.000000</td>\n",
       "      <td id=\"T_60e53_row4_col5\" class=\"data row4 col5\" >0.422279</td>\n",
       "      <td id=\"T_60e53_row4_col6\" class=\"data row4 col6\" >0.544612</td>\n",
       "      <td id=\"T_60e53_row4_col7\" class=\"data row4 col7\" >-0.149470</td>\n",
       "      <td id=\"T_60e53_row4_col8\" class=\"data row4 col8\" >0.130850</td>\n",
       "      <td id=\"T_60e53_row4_col9\" class=\"data row4 col9\" >0.171537</td>\n",
       "      <td id=\"T_60e53_row4_col10\" class=\"data row4 col10\" >0.398137</td>\n",
       "      <td id=\"T_60e53_row4_col11\" class=\"data row4 col11\" >0.236774</td>\n",
       "      <td id=\"T_60e53_row4_col12\" class=\"data row4 col12\" >-0.153248</td>\n",
       "      <td id=\"T_60e53_row4_col13\" class=\"data row4 col13\" >-0.135025</td>\n",
       "    </tr>\n",
       "    <tr>\n",
       "      <th id=\"T_60e53_level0_row5\" class=\"row_heading level0 row5\" >Hour</th>\n",
       "      <td id=\"T_60e53_row5_col0\" class=\"data row5 col0\" >-0.000773</td>\n",
       "      <td id=\"T_60e53_row5_col1\" class=\"data row5 col1\" >0.001114</td>\n",
       "      <td id=\"T_60e53_row5_col2\" class=\"data row5 col2\" >0.001623</td>\n",
       "      <td id=\"T_60e53_row5_col3\" class=\"data row5 col3\" >-0.002572</td>\n",
       "      <td id=\"T_60e53_row5_col4\" class=\"data row5 col4\" >0.422279</td>\n",
       "      <td id=\"T_60e53_row5_col5\" class=\"data row5 col5\" >1.000000</td>\n",
       "      <td id=\"T_60e53_row5_col6\" class=\"data row5 col6\" >0.115897</td>\n",
       "      <td id=\"T_60e53_row5_col7\" class=\"data row5 col7\" >-0.245356</td>\n",
       "      <td id=\"T_60e53_row5_col8\" class=\"data row5 col8\" >0.293651</td>\n",
       "      <td id=\"T_60e53_row5_col9\" class=\"data row5 col9\" >0.097207</td>\n",
       "      <td id=\"T_60e53_row5_col10\" class=\"data row5 col10\" >-0.001945</td>\n",
       "      <td id=\"T_60e53_row5_col11\" class=\"data row5 col11\" >0.148411</td>\n",
       "      <td id=\"T_60e53_row5_col12\" class=\"data row5 col12\" >-0.013619</td>\n",
       "      <td id=\"T_60e53_row5_col13\" class=\"data row5 col13\" >-0.017027</td>\n",
       "    </tr>\n",
       "    <tr>\n",
       "      <th id=\"T_60e53_level0_row6\" class=\"row_heading level0 row6\" >Temperature(°C)</th>\n",
       "      <td id=\"T_60e53_row6_col0\" class=\"data row6 col0\" >-0.014646</td>\n",
       "      <td id=\"T_60e53_row6_col1\" class=\"data row6 col1\" >0.021933</td>\n",
       "      <td id=\"T_60e53_row6_col2\" class=\"data row6 col2\" >0.231651</td>\n",
       "      <td id=\"T_60e53_row6_col3\" class=\"data row6 col3\" >0.371977</td>\n",
       "      <td id=\"T_60e53_row6_col4\" class=\"data row6 col4\" >0.544612</td>\n",
       "      <td id=\"T_60e53_row6_col5\" class=\"data row6 col5\" >0.115897</td>\n",
       "      <td id=\"T_60e53_row6_col6\" class=\"data row6 col6\" >1.000000</td>\n",
       "      <td id=\"T_60e53_row6_col7\" class=\"data row6 col7\" >0.246199</td>\n",
       "      <td id=\"T_60e53_row6_col8\" class=\"data row6 col8\" >-0.066661</td>\n",
       "      <td id=\"T_60e53_row6_col9\" class=\"data row6 col9\" >0.011996</td>\n",
       "      <td id=\"T_60e53_row6_col10\" class=\"data row6 col10\" >0.926629</td>\n",
       "      <td id=\"T_60e53_row6_col11\" class=\"data row6 col11\" >0.259805</td>\n",
       "      <td id=\"T_60e53_row6_col12\" class=\"data row6 col12\" >0.063196</td>\n",
       "      <td id=\"T_60e53_row6_col13\" class=\"data row6 col13\" >-0.251663</td>\n",
       "    </tr>\n",
       "    <tr>\n",
       "      <th id=\"T_60e53_level0_row7\" class=\"row_heading level0 row7\" >Humidity(%)</th>\n",
       "      <td id=\"T_60e53_row7_col0\" class=\"data row7 col0\" >-0.000460</td>\n",
       "      <td id=\"T_60e53_row7_col1\" class=\"data row7 col1\" >-0.041783</td>\n",
       "      <td id=\"T_60e53_row7_col2\" class=\"data row7 col2\" >0.131274</td>\n",
       "      <td id=\"T_60e53_row7_col3\" class=\"data row7 col3\" >0.059666</td>\n",
       "      <td id=\"T_60e53_row7_col4\" class=\"data row7 col4\" >-0.149470</td>\n",
       "      <td id=\"T_60e53_row7_col5\" class=\"data row7 col5\" >-0.245356</td>\n",
       "      <td id=\"T_60e53_row7_col6\" class=\"data row7 col6\" >0.246199</td>\n",
       "      <td id=\"T_60e53_row7_col7\" class=\"data row7 col7\" >1.000000</td>\n",
       "      <td id=\"T_60e53_row7_col8\" class=\"data row7 col8\" >-0.311937</td>\n",
       "      <td id=\"T_60e53_row7_col9\" class=\"data row7 col9\" >-0.520948</td>\n",
       "      <td id=\"T_60e53_row7_col10\" class=\"data row7 col10\" >0.581472</td>\n",
       "      <td id=\"T_60e53_row7_col11\" class=\"data row7 col11\" >-0.398439</td>\n",
       "      <td id=\"T_60e53_row7_col12\" class=\"data row7 col12\" >0.300106</td>\n",
       "      <td id=\"T_60e53_row7_col13\" class=\"data row7 col13\" >0.006285</td>\n",
       "    </tr>\n",
       "    <tr>\n",
       "      <th id=\"T_60e53_level0_row8\" class=\"row_heading level0 row8\" >Wind speed (m/s)</th>\n",
       "      <td id=\"T_60e53_row8_col0\" class=\"data row8 col0\" >-0.012134</td>\n",
       "      <td id=\"T_60e53_row8_col1\" class=\"data row8 col1\" >-0.009763</td>\n",
       "      <td id=\"T_60e53_row8_col2\" class=\"data row8 col2\" >-0.154935</td>\n",
       "      <td id=\"T_60e53_row8_col3\" class=\"data row8 col3\" >-0.010585</td>\n",
       "      <td id=\"T_60e53_row8_col4\" class=\"data row8 col4\" >0.130850</td>\n",
       "      <td id=\"T_60e53_row8_col5\" class=\"data row8 col5\" >0.293651</td>\n",
       "      <td id=\"T_60e53_row8_col6\" class=\"data row8 col6\" >-0.066661</td>\n",
       "      <td id=\"T_60e53_row8_col7\" class=\"data row8 col7\" >-0.311937</td>\n",
       "      <td id=\"T_60e53_row8_col8\" class=\"data row8 col8\" >1.000000</td>\n",
       "      <td id=\"T_60e53_row8_col9\" class=\"data row8 col9\" >0.160417</td>\n",
       "      <td id=\"T_60e53_row8_col10\" class=\"data row8 col10\" >-0.182436</td>\n",
       "      <td id=\"T_60e53_row8_col11\" class=\"data row8 col11\" >0.301784</td>\n",
       "      <td id=\"T_60e53_row8_col12\" class=\"data row8 col12\" >-0.040347</td>\n",
       "      <td id=\"T_60e53_row8_col13\" class=\"data row8 col13\" >0.045501</td>\n",
       "    </tr>\n",
       "    <tr>\n",
       "      <th id=\"T_60e53_level0_row9\" class=\"row_heading level0 row9\" >Visibility (10m)</th>\n",
       "      <td id=\"T_60e53_row9_col0\" class=\"data row9 col0\" >-0.029791</td>\n",
       "      <td id=\"T_60e53_row9_col1\" class=\"data row9 col1\" >-0.090814</td>\n",
       "      <td id=\"T_60e53_row9_col2\" class=\"data row9 col2\" >0.070827</td>\n",
       "      <td id=\"T_60e53_row9_col3\" class=\"data row9 col3\" >0.046040</td>\n",
       "      <td id=\"T_60e53_row9_col4\" class=\"data row9 col4\" >0.171537</td>\n",
       "      <td id=\"T_60e53_row9_col5\" class=\"data row9 col5\" >0.097207</td>\n",
       "      <td id=\"T_60e53_row9_col6\" class=\"data row9 col6\" >0.011996</td>\n",
       "      <td id=\"T_60e53_row9_col7\" class=\"data row9 col7\" >-0.520948</td>\n",
       "      <td id=\"T_60e53_row9_col8\" class=\"data row9 col8\" >0.160417</td>\n",
       "      <td id=\"T_60e53_row9_col9\" class=\"data row9 col9\" >1.000000</td>\n",
       "      <td id=\"T_60e53_row9_col10\" class=\"data row9 col10\" >-0.177160</td>\n",
       "      <td id=\"T_60e53_row9_col11\" class=\"data row9 col11\" >0.108902</td>\n",
       "      <td id=\"T_60e53_row9_col12\" class=\"data row9 col12\" >-0.180542</td>\n",
       "      <td id=\"T_60e53_row9_col13\" class=\"data row9 col13\" >-0.036254</td>\n",
       "    </tr>\n",
       "    <tr>\n",
       "      <th id=\"T_60e53_level0_row10\" class=\"row_heading level0 row10\" >Dew point temperature(°C)</th>\n",
       "      <td id=\"T_60e53_row10_col0\" class=\"data row10 col0\" >-0.018514</td>\n",
       "      <td id=\"T_60e53_row10_col1\" class=\"data row10 col1\" >0.002244</td>\n",
       "      <td id=\"T_60e53_row10_col2\" class=\"data row10 col2\" >0.243679</td>\n",
       "      <td id=\"T_60e53_row10_col3\" class=\"data row10 col3\" >0.333637</td>\n",
       "      <td id=\"T_60e53_row10_col4\" class=\"data row10 col4\" >0.398137</td>\n",
       "      <td id=\"T_60e53_row10_col5\" class=\"data row10 col5\" >-0.001945</td>\n",
       "      <td id=\"T_60e53_row10_col6\" class=\"data row10 col6\" >0.926629</td>\n",
       "      <td id=\"T_60e53_row10_col7\" class=\"data row10 col7\" >0.581472</td>\n",
       "      <td id=\"T_60e53_row10_col8\" class=\"data row10 col8\" >-0.182436</td>\n",
       "      <td id=\"T_60e53_row10_col9\" class=\"data row10 col9\" >-0.177160</td>\n",
       "      <td id=\"T_60e53_row10_col10\" class=\"data row10 col10\" >1.000000</td>\n",
       "      <td id=\"T_60e53_row10_col11\" class=\"data row10 col11\" >0.049979</td>\n",
       "      <td id=\"T_60e53_row10_col12\" class=\"data row10 col12\" >0.151943</td>\n",
       "      <td id=\"T_60e53_row10_col13\" class=\"data row10 col13\" >-0.209926</td>\n",
       "    </tr>\n",
       "    <tr>\n",
       "      <th id=\"T_60e53_level0_row11\" class=\"row_heading level0 row11\" >Solar Radiation (MJ/m2)</th>\n",
       "      <td id=\"T_60e53_row11_col0\" class=\"data row11 col0\" >-0.006120</td>\n",
       "      <td id=\"T_60e53_row11_col1\" class=\"data row11 col1\" >0.000415</td>\n",
       "      <td id=\"T_60e53_row11_col2\" class=\"data row11 col2\" >-0.003007</td>\n",
       "      <td id=\"T_60e53_row11_col3\" class=\"data row11 col3\" >0.100765</td>\n",
       "      <td id=\"T_60e53_row11_col4\" class=\"data row11 col4\" >0.236774</td>\n",
       "      <td id=\"T_60e53_row11_col5\" class=\"data row11 col5\" >0.148411</td>\n",
       "      <td id=\"T_60e53_row11_col6\" class=\"data row11 col6\" >0.259805</td>\n",
       "      <td id=\"T_60e53_row11_col7\" class=\"data row11 col7\" >-0.398439</td>\n",
       "      <td id=\"T_60e53_row11_col8\" class=\"data row11 col8\" >0.301784</td>\n",
       "      <td id=\"T_60e53_row11_col9\" class=\"data row11 col9\" >0.108902</td>\n",
       "      <td id=\"T_60e53_row11_col10\" class=\"data row11 col10\" >0.049979</td>\n",
       "      <td id=\"T_60e53_row11_col11\" class=\"data row11 col11\" >1.000000</td>\n",
       "      <td id=\"T_60e53_row11_col12\" class=\"data row11 col12\" >-0.083460</td>\n",
       "      <td id=\"T_60e53_row11_col13\" class=\"data row11 col13\" >-0.043673</td>\n",
       "    </tr>\n",
       "    <tr>\n",
       "      <th id=\"T_60e53_level0_row12\" class=\"row_heading level0 row12\" >Rainfall(mm)</th>\n",
       "      <td id=\"T_60e53_row12_col0\" class=\"data row12 col0\" >-0.005595</td>\n",
       "      <td id=\"T_60e53_row12_col1\" class=\"data row12 col1\" >-0.024156</td>\n",
       "      <td id=\"T_60e53_row12_col2\" class=\"data row12 col2\" >0.001695</td>\n",
       "      <td id=\"T_60e53_row12_col3\" class=\"data row12 col3\" >0.040038</td>\n",
       "      <td id=\"T_60e53_row12_col4\" class=\"data row12 col4\" >-0.153248</td>\n",
       "      <td id=\"T_60e53_row12_col5\" class=\"data row12 col5\" >-0.013619</td>\n",
       "      <td id=\"T_60e53_row12_col6\" class=\"data row12 col6\" >0.063196</td>\n",
       "      <td id=\"T_60e53_row12_col7\" class=\"data row12 col7\" >0.300106</td>\n",
       "      <td id=\"T_60e53_row12_col8\" class=\"data row12 col8\" >-0.040347</td>\n",
       "      <td id=\"T_60e53_row12_col9\" class=\"data row12 col9\" >-0.180542</td>\n",
       "      <td id=\"T_60e53_row12_col10\" class=\"data row12 col10\" >0.151943</td>\n",
       "      <td id=\"T_60e53_row12_col11\" class=\"data row12 col11\" >-0.083460</td>\n",
       "      <td id=\"T_60e53_row12_col12\" class=\"data row12 col12\" >1.000000</td>\n",
       "      <td id=\"T_60e53_row12_col13\" class=\"data row12 col13\" >-0.016297</td>\n",
       "    </tr>\n",
       "    <tr>\n",
       "      <th id=\"T_60e53_level0_row13\" class=\"row_heading level0 row13\" >Snowfall (cm)</th>\n",
       "      <td id=\"T_60e53_row13_col0\" class=\"data row13 col0\" >-0.037562</td>\n",
       "      <td id=\"T_60e53_row13_col1\" class=\"data row13 col1\" >0.072214</td>\n",
       "      <td id=\"T_60e53_row13_col2\" class=\"data row13 col2\" >0.026558</td>\n",
       "      <td id=\"T_60e53_row13_col3\" class=\"data row13 col3\" >-0.258333</td>\n",
       "      <td id=\"T_60e53_row13_col4\" class=\"data row13 col4\" >-0.135025</td>\n",
       "      <td id=\"T_60e53_row13_col5\" class=\"data row13 col5\" >-0.017027</td>\n",
       "      <td id=\"T_60e53_row13_col6\" class=\"data row13 col6\" >-0.251663</td>\n",
       "      <td id=\"T_60e53_row13_col7\" class=\"data row13 col7\" >0.006285</td>\n",
       "      <td id=\"T_60e53_row13_col8\" class=\"data row13 col8\" >0.045501</td>\n",
       "      <td id=\"T_60e53_row13_col9\" class=\"data row13 col9\" >-0.036254</td>\n",
       "      <td id=\"T_60e53_row13_col10\" class=\"data row13 col10\" >-0.209926</td>\n",
       "      <td id=\"T_60e53_row13_col11\" class=\"data row13 col11\" >-0.043673</td>\n",
       "      <td id=\"T_60e53_row13_col12\" class=\"data row13 col12\" >-0.016297</td>\n",
       "      <td id=\"T_60e53_row13_col13\" class=\"data row13 col13\" >1.000000</td>\n",
       "    </tr>\n",
       "  </tbody>\n",
       "</table>\n"
      ],
      "text/plain": [
       "<pandas.io.formats.style.Styler at 0x19d54714f10>"
      ]
     },
     "execution_count": 175,
     "metadata": {},
     "output_type": "execute_result"
    }
   ],
   "source": [
    "corr_matrix = df.corr()\n",
    "corr_matrix.style.background_gradient(cmap = 'viridis')"
   ]
  },
  {
   "cell_type": "markdown",
   "id": "277ca6d8",
   "metadata": {},
   "source": [
    "We should definitely remove \"Dew point temperature(°C)\" due to the very high correlation it has with \"Temperature(°C)\" as it could cause multicollinearity issues"
   ]
  },
  {
   "cell_type": "code",
   "execution_count": 176,
   "id": "364fe165",
   "metadata": {},
   "outputs": [
    {
     "data": {
      "text/plain": [
       "Rented Bike Count            1.000000\n",
       "Temperature(°C)              0.544612\n",
       "Hour                         0.422279\n",
       "Dew point temperature(°C)    0.398137\n",
       "Solar Radiation (MJ/m2)      0.236774\n",
       "Year                         0.208840\n",
       "Visibility (10m)             0.171537\n",
       "Month                        0.147837\n",
       "Wind speed (m/s)             0.130850\n",
       "Day                          0.024611\n",
       "Weekday                     -0.051004\n",
       "Snowfall (cm)               -0.135025\n",
       "Humidity(%)                 -0.149470\n",
       "Rainfall(mm)                -0.153248\n",
       "Name: Rented Bike Count, dtype: float64"
      ]
     },
     "execution_count": 176,
     "metadata": {},
     "output_type": "execute_result"
    }
   ],
   "source": [
    "corr_matrix['Rented Bike Count'].sort_values(ascending = False)"
   ]
  },
  {
   "cell_type": "code",
   "execution_count": 186,
   "id": "02d2d50e",
   "metadata": {},
   "outputs": [
    {
     "data": {
      "image/png": "[encoded data removed]",
      "text/plain": [
       "<Figure size 864x576 with 16 Axes>"
      ]
     },
     "metadata": {
      "needs_background": "light"
     },
     "output_type": "display_data"
    }
   ],
   "source": [
    "from pandas.plotting import scatter_matrix\n",
    "\n",
    "attributes = ['Rented Bike Count', 'Temperature(°C)', 'Hour', 'Solar Radiation (MJ/m2)']\n",
    "scatter_matrix(df[attributes], figsize = (12, 8))\n",
    "plt.show()"
   ]
  },
  {
   "cell_type": "code",
   "execution_count": 187,
   "id": "c226e204",
   "metadata": {},
   "outputs": [
    {
     "data": {
      "image/png": "[encoded data removed]",
      "text/plain": [
       "<Figure size 432x288 with 1 Axes>"
      ]
     },
     "metadata": {
      "needs_background": "light"
     },
     "output_type": "display_data"
    }
   ],
   "source": [
    "df.plot(kind = 'scatter', x = 'Temperature(°C)', y = 'Rented Bike Count',\n",
    "             alpha = 0.1, grid = True)\n",
    "plt.show()"
   ]
  },
  {
   "cell_type": "markdown",
   "id": "db9bd7f4",
   "metadata": {},
   "source": [
    "## Prepare the Data for Machine Learning Algorithms (Data Cleaning)"
   ]
  },
  {
   "cell_type": "code",
   "execution_count": 188,
   "id": "495bf69c",
   "metadata": {},
   "outputs": [],
   "source": [
    "bike = train_set2.drop('Rented Bike Count', axis = 1)\n",
    "bike_labels = train_set2['Rented Bike Count'].copy()"
   ]
  },
  {
   "cell_type": "markdown",
   "id": "275a5387",
   "metadata": {},
   "source": [
    "### Handle NaN Values"
   ]
  },
  {
   "cell_type": "code",
   "execution_count": 189,
   "id": "262c825a",
   "metadata": {},
   "outputs": [
    {
     "data": {
      "text/plain": [
       "Date                         0\n",
       "Weekday                      0\n",
       "Day                          0\n",
       "Month                        0\n",
       "Year                         0\n",
       "Rented Bike Count            0\n",
       "Hour                         0\n",
       "Temperature(°C)              0\n",
       "Humidity(%)                  0\n",
       "Wind speed (m/s)             0\n",
       "Visibility (10m)             0\n",
       "Dew point temperature(°C)    0\n",
       "Solar Radiation (MJ/m2)      0\n",
       "Rainfall(mm)                 0\n",
       "Snowfall (cm)                0\n",
       "Seasons                      0\n",
       "Holiday                      0\n",
       "Functioning Day              0\n",
       "dtype: int64"
      ]
     },
     "execution_count": 189,
     "metadata": {},
     "output_type": "execute_result"
    }
   ],
   "source": [
    "df.isnull().sum()"
   ]
  },
  {
   "cell_type": "markdown",
   "id": "42910527",
   "metadata": {},
   "source": [
    "There are actually no NULL values in our dataset, but for the sake of practice, let us take a look at the medians of the predictors"
   ]
  },
  {
   "cell_type": "code",
   "execution_count": 196,
   "id": "9dd3b2c3",
   "metadata": {},
   "outputs": [
    {
     "name": "stdout",
     "output_type": "stream",
     "text": [
      "[3.000e+00 1.500e+01 7.000e+00 2.018e+03 1.100e+01 1.270e+01 5.900e+01\n",
      " 1.400e+00 1.702e+03 4.800e+00 0.000e+00 0.000e+00 0.000e+00]\n",
      "\n",
      " We can also confirm manually:\n",
      "[3.000e+00 1.500e+01 7.000e+00 2.018e+03 1.100e+01 1.270e+01 5.900e+01\n",
      " 1.400e+00 1.702e+03 4.800e+00 0.000e+00 0.000e+00 0.000e+00]\n"
     ]
    }
   ],
   "source": [
    "from sklearn.impute import SimpleImputer\n",
    "\n",
    "imputer = SimpleImputer(strategy = 'median')\n",
    "\n",
    "bike_num = bike.select_dtypes(include = [np.number])\n",
    "\n",
    "imputer.fit(bike_num)\n",
    "print(imputer.statistics_)\n",
    "print('\\n We can also confirm manually:')\n",
    "print(bike_num.median().values)"
   ]
  },
  {
   "cell_type": "code",
   "execution_count": 197,
   "id": "a3908df3",
   "metadata": {},
   "outputs": [],
   "source": [
    "# We can transform our training data with the following line of code but it is not necessary for us\n",
    "# X = imputer.transform(bike_num)"
   ]
  },
  {
   "cell_type": "code",
   "execution_count": 198,
   "id": "e1fd64c7",
   "metadata": {},
   "outputs": [],
   "source": [
    "# Filling NaNs with the median:\n",
    "# bike_without_nan = bike.copy()\n",
    "# medians = bike['Rented Bike Count'].median()\n",
    "# bike_without_nan['Rented Bike Count'].fillna(medians, inplace = True)"
   ]
  },
  {
   "cell_type": "markdown",
   "id": "9684062c",
   "metadata": {},
   "source": [
    "### Drop Outliers"
   ]
  },
  {
   "cell_type": "code",
   "execution_count": 206,
   "id": "54df4379",
   "metadata": {},
   "outputs": [
    {
     "data": {
      "text/plain": [
       "(4856, 17)"
      ]
     },
     "execution_count": 206,
     "metadata": {},
     "output_type": "execute_result"
    }
   ],
   "source": [
    "from sklearn.ensemble import IsolationForest\n",
    "\n",
    "isolation_forest = IsolationForest(random_state = 119)\n",
    "outlier_pred = isolation_forest.fit_predict(bike_num)\n",
    "\n",
    "bike1 = bike.iloc[outlier_pred == 1]\n",
    "bike1_labels = bike_labels.iloc[outlier_pred == 1]"
   ]
  },
  {
   "cell_type": "markdown",
   "id": "917be383",
   "metadata": {},
   "source": [
    "I am concerned about isolation forest removing all outliers because you are going to have a very high number of rows with 0mm of rainfall and 0 cm of snowfall. As such, I want to try using another approach (even though it is quite subjective in comparison)"
   ]
  },
  {
   "cell_type": "code",
   "execution_count": 208,
   "id": "6503765a",
   "metadata": {},
   "outputs": [
    {
     "name": "stderr",
     "output_type": "stream",
     "text": [
      "C:\\Users\\jinho\\AppData\\Local\\Temp\\ipykernel_26356\\1254838191.py:6: FutureWarning: Automatic reindexing on DataFrame vs Series comparisons is deprecated and will raise ValueError in a future version. Do `left, right = left.align(right, axis=1, copy=False)` before e.g. `left == right`\n",
      "  ((df < (Q1 - 1.5 * IQR)) | (df > (Q3 + 1.5 * IQR))).sum()\n"
     ]
    },
    {
     "data": {
      "text/plain": [
       "Date                           0\n",
       "Day                            0\n",
       "Dew point temperature(°C)      0\n",
       "Functioning Day                0\n",
       "Holiday                        0\n",
       "Hour                           0\n",
       "Humidity(%)                    0\n",
       "Month                          0\n",
       "Rainfall(mm)                 381\n",
       "Rented Bike Count            207\n",
       "Seasons                        0\n",
       "Snowfall (cm)                327\n",
       "Solar Radiation (MJ/m2)      753\n",
       "Temperature(°C)                0\n",
       "Visibility (10m)               0\n",
       "Weekday                        0\n",
       "Wind speed (m/s)              68\n",
       "Year                         682\n",
       "dtype: int64"
      ]
     },
     "execution_count": 208,
     "metadata": {},
     "output_type": "execute_result"
    }
   ],
   "source": [
    "# Identify how many outliers there are for each predictor\n",
    "Q1 = df.quantile(0.25)\n",
    "Q3 = df.quantile(0.75)\n",
    "IQR = Q3 - Q1\n",
    "\n",
    "((df < (Q1 - 1.5 * IQR)) | (df > (Q3 + 1.5 * IQR))).sum()"
   ]
  },
  {
   "cell_type": "code",
   "execution_count": 209,
   "id": "603093c2",
   "metadata": {},
   "outputs": [
    {
     "name": "stdout",
     "output_type": "stream",
     "text": [
      "Rainfall(mm):\n",
      "count    381.000000\n",
      "mean       0.910761\n",
      "std        0.685884\n",
      "min        0.100000\n",
      "25%        0.500000\n",
      "50%        0.500000\n",
      "75%        1.500000\n",
      "max        2.500000\n",
      "Name: Rainfall(mm), dtype: float64\n",
      "\n",
      "\n",
      "Snowfall (cm):\n",
      "count    327.000000\n",
      "mean       0.942202\n",
      "std        0.598099\n",
      "min        0.100000\n",
      "25%        0.500000\n",
      "50%        0.800000\n",
      "75%        1.200000\n",
      "max        2.200000\n",
      "Name: Snowfall (cm), dtype: float64\n",
      "\n",
      "\n",
      "Solar Radiation (MJ/m2):\n",
      "count    753.000000\n",
      "mean       1.929216\n",
      "std        0.225835\n",
      "min        1.550000\n",
      "25%        1.740000\n",
      "50%        1.910000\n",
      "75%        2.120000\n",
      "max        2.330000\n",
      "Name: Solar Radiation (MJ/m2), dtype: float64\n",
      "\n",
      "\n",
      "Wind speed (m/s):\n",
      "count    68.000000\n",
      "mean      4.286765\n",
      "std       0.073107\n",
      "min       4.200000\n",
      "25%       4.200000\n",
      "50%       4.300000\n",
      "75%       4.300000\n",
      "max       4.400000\n",
      "Name: Wind speed (m/s), dtype: float64\n",
      "\n",
      "\n"
     ]
    }
   ],
   "source": [
    "# Look at the distribution of the outliers\n",
    "pred_with_out = ['Rainfall(mm)', 'Snowfall (cm)', 'Solar Radiation (MJ/m2)', 'Wind speed (m/s)']\n",
    "df_without_outliers = df.copy()\n",
    "\n",
    "for i in pred_with_out:\n",
    "    Q1 = df[i].quantile(0.25)\n",
    "    Q3 = df[i].quantile(0.75)\n",
    "    IQR = Q3 - Q1\n",
    "    \n",
    "    series = df[(df[i] < (Q1 - 1.5 * IQR)) | (df[i] > (Q3 + 1.5 * IQR))][i]\n",
    "    print(i + ':')\n",
    "    print(series.describe())\n",
    "    print('\\n')"
   ]
  },
  {
   "cell_type": "markdown",
   "id": "6cd7438b",
   "metadata": {},
   "source": [
    "We can see that for Rainfall and Snowfall, even 0.1mm and 0.1cm respectively are considered outliers, so removing all the values that would be considered outliers from these predictors would leave us with only the value 0, rendering these predictors useless. As such, I will be only be removing values of these columns that are greater than the respective Q3 of outliers i.e. 2.5 and 2.2 respectively.<br>\n",
    "<br>\n",
    "In terms of Solar Radiation and Wind speed, I think that we can safely remove all proposed outliers as the minimum of the outliers are both quite high indeed."
   ]
  },
  {
   "cell_type": "code",
   "execution_count": 211,
   "id": "be882811",
   "metadata": {},
   "outputs": [],
   "source": [
    "df_without_outliers = df[(df['Rainfall(mm)'] <= 2.5)]\n",
    "df_without_outliers = df[(df['Snowfall (cm)'] <= 2.2)]\n",
    "df_without_outliers = df[(df['Solar Radiation (MJ/m2)'] <= 2.33)]\n",
    "df_without_outliers = df[(df['Wind speed (m/s)'] <= 4.4)]\n",
    "\n",
    "from sklearn.model_selection import train_test_split\n",
    "train_set3, test_set3 = train_test_split(df_without_outliers, test_size = 0.2, random_state = 119)\n",
    "\n",
    "bike2 = train_set3.drop('Rented Bike Count', axis = 1)\n",
    "bike2_labels = train_set3['Rented Bike Count'].copy()"
   ]
  },
  {
   "cell_type": "code",
   "execution_count": 215,
   "id": "39a7000b",
   "metadata": {},
   "outputs": [
    {
     "name": "stdout",
     "output_type": "stream",
     "text": [
      "Shape without outliers (Isolation Forest): (4856, 17)\n",
      "Shape without outliers (Manual): (6234, 17)\n"
     ]
    }
   ],
   "source": [
    "print('Shape without outliers (Isolation Forest):', bike1.shape)\n",
    "print('Shape without outliers (Manual):', bike2.shape)"
   ]
  },
  {
   "cell_type": "markdown",
   "id": "3e767e09",
   "metadata": {},
   "source": [
    "### Handling Text & Categorical Attributes"
   ]
  },
  {
   "cell_type": "code",
   "execution_count": 246,
   "id": "d646761a",
   "metadata": {},
   "outputs": [],
   "source": [
    "from sklearn.preprocessing import OrdinalEncoder\n",
    "\n",
    "bike_cat1 = bike1[['Seasons', 'Holiday', 'Functioning Day']]\n",
    "bike_cat2 = bike2[['Seasons', 'Holiday', 'Functioning Day']]\n",
    "\n",
    "ordinal_encoder = OrdinalEncoder()\n",
    "bike_cat_encoded1 = ordinal_encoder.fit_transform(bike_cat1)\n",
    "bike_cat_encoded2 = ordinal_encoder.fit_transform(bike_cat2)"
   ]
  },
  {
   "cell_type": "markdown",
   "id": "24ed15ea",
   "metadata": {},
   "source": [
    "### Feature Scaling"
   ]
  },
  {
   "cell_type": "code",
   "execution_count": 222,
   "id": "bb388dfe",
   "metadata": {},
   "outputs": [],
   "source": [
    "from sklearn.preprocessing import MinMaxScaler\n",
    "\n",
    "min_max_scaler = MinMaxScaler(feature_range = (-1, 1))\n",
    "bike_num_min_max_scaled = min_max_scaler.fit_transform(bike_num)"
   ]
  },
  {
   "cell_type": "code",
   "execution_count": 224,
   "id": "150c26c6",
   "metadata": {},
   "outputs": [],
   "source": [
    "from sklearn.preprocessing import StandardScaler\n",
    "\n",
    "std_scaler = StandardScaler()\n",
    "bike_num_std_scaled = std_scaler.fit_transform(bike_num)"
   ]
  },
  {
   "cell_type": "markdown",
   "id": "92e50676",
   "metadata": {},
   "source": [
    "My data does not contain any predictors that would require any sort of custom transformation"
   ]
  },
  {
   "cell_type": "markdown",
   "id": "95bcc63c",
   "metadata": {},
   "source": [
    "## Transformation Pipelines"
   ]
  },
  {
   "cell_type": "code",
   "execution_count": 225,
   "id": "9f7b2c6b",
   "metadata": {},
   "outputs": [],
   "source": [
    "from sklearn.pipeline import Pipeline\n",
    "\n",
    "num_pipeline = Pipeline([\n",
    "    ('impute', SimpleImputer(strategy = 'median')),\n",
    "    ('standardize', StandardScaler()),\n",
    "])"
   ]
  },
  {
   "cell_type": "code",
   "execution_count": 226,
   "id": "a7652a7f",
   "metadata": {},
   "outputs": [],
   "source": [
    "from sklearn.pipeline import make_pipeline\n",
    "\n",
    "num_pipeline = make_pipeline(SimpleImputer(strategy = 'median'), StandardScaler())"
   ]
  },
  {
   "cell_type": "code",
   "execution_count": 228,
   "id": "2202a548",
   "metadata": {},
   "outputs": [
    {
     "data": {
      "text/html": [
       "<style>#sk-6dd0c624-a3c2-498f-b858-039d828970d3 {color: black;background-color: white;}#sk-6dd0c624-a3c2-498f-b858-039d828970d3 pre{padding: 0;}#sk-6dd0c624-a3c2-498f-b858-039d828970d3 div.sk-toggleable {background-color: white;}#sk-6dd0c624-a3c2-498f-b858-039d828970d3 label.sk-toggleable__label {cursor: pointer;display: block;width: 100%;margin-bottom: 0;padding: 0.3em;box-sizing: border-box;text-align: center;}#sk-6dd0c624-a3c2-498f-b858-039d828970d3 label.sk-toggleable__label-arrow:before {content: \"▸\";float: left;margin-right: 0.25em;color: #696969;}#sk-6dd0c624-a3c2-498f-b858-039d828970d3 label.sk-toggleable__label-arrow:hover:before {color: black;}#sk-6dd0c624-a3c2-498f-b858-039d828970d3 div.sk-estimator:hover label.sk-toggleable__label-arrow:before {color: black;}#sk-6dd0c624-a3c2-498f-b858-039d828970d3 div.sk-toggleable__content {max-height: 0;max-width: 0;overflow: hidden;text-align: left;background-color: #f0f8ff;}#sk-6dd0c624-a3c2-498f-b858-039d828970d3 div.sk-toggleable__content pre {margin: 0.2em;color: black;border-radius: 0.25em;background-color: #f0f8ff;}#sk-6dd0c624-a3c2-498f-b858-039d828970d3 input.sk-toggleable__control:checked~div.sk-toggleable__content {max-height: 200px;max-width: 100%;overflow: auto;}#sk-6dd0c624-a3c2-498f-b858-039d828970d3 input.sk-toggleable__control:checked~label.sk-toggleable__label-arrow:before {content: \"▾\";}#sk-6dd0c624-a3c2-498f-b858-039d828970d3 div.sk-estimator input.sk-toggleable__control:checked~label.sk-toggleable__label {background-color: #d4ebff;}#sk-6dd0c624-a3c2-498f-b858-039d828970d3 div.sk-label input.sk-toggleable__control:checked~label.sk-toggleable__label {background-color: #d4ebff;}#sk-6dd0c624-a3c2-498f-b858-039d828970d3 input.sk-hidden--visually {border: 0;clip: rect(1px 1px 1px 1px);clip: rect(1px, 1px, 1px, 1px);height: 1px;margin: -1px;overflow: hidden;padding: 0;position: absolute;width: 1px;}#sk-6dd0c624-a3c2-498f-b858-039d828970d3 div.sk-estimator {font-family: monospace;background-color: #f0f8ff;border: 1px dotted black;border-radius: 0.25em;box-sizing: border-box;margin-bottom: 0.5em;}#sk-6dd0c624-a3c2-498f-b858-039d828970d3 div.sk-estimator:hover {background-color: #d4ebff;}#sk-6dd0c624-a3c2-498f-b858-039d828970d3 div.sk-parallel-item::after {content: \"\";width: 100%;border-bottom: 1px solid gray;flex-grow: 1;}#sk-6dd0c624-a3c2-498f-b858-039d828970d3 div.sk-label:hover label.sk-toggleable__label {background-color: #d4ebff;}#sk-6dd0c624-a3c2-498f-b858-039d828970d3 div.sk-serial::before {content: \"\";position: absolute;border-left: 1px solid gray;box-sizing: border-box;top: 2em;bottom: 0;left: 50%;}#sk-6dd0c624-a3c2-498f-b858-039d828970d3 div.sk-serial {display: flex;flex-direction: column;align-items: center;background-color: white;padding-right: 0.2em;padding-left: 0.2em;}#sk-6dd0c624-a3c2-498f-b858-039d828970d3 div.sk-item {z-index: 1;}#sk-6dd0c624-a3c2-498f-b858-039d828970d3 div.sk-parallel {display: flex;align-items: stretch;justify-content: center;background-color: white;}#sk-6dd0c624-a3c2-498f-b858-039d828970d3 div.sk-parallel::before {content: \"\";position: absolute;border-left: 1px solid gray;box-sizing: border-box;top: 2em;bottom: 0;left: 50%;}#sk-6dd0c624-a3c2-498f-b858-039d828970d3 div.sk-parallel-item {display: flex;flex-direction: column;position: relative;background-color: white;}#sk-6dd0c624-a3c2-498f-b858-039d828970d3 div.sk-parallel-item:first-child::after {align-self: flex-end;width: 50%;}#sk-6dd0c624-a3c2-498f-b858-039d828970d3 div.sk-parallel-item:last-child::after {align-self: flex-start;width: 50%;}#sk-6dd0c624-a3c2-498f-b858-039d828970d3 div.sk-parallel-item:only-child::after {width: 0;}#sk-6dd0c624-a3c2-498f-b858-039d828970d3 div.sk-dashed-wrapped {border: 1px dashed gray;margin: 0 0.4em 0.5em 0.4em;box-sizing: border-box;padding-bottom: 0.4em;background-color: white;position: relative;}#sk-6dd0c624-a3c2-498f-b858-039d828970d3 div.sk-label label {font-family: monospace;font-weight: bold;background-color: white;display: inline-block;line-height: 1.2em;}#sk-6dd0c624-a3c2-498f-b858-039d828970d3 div.sk-label-container {position: relative;z-index: 2;text-align: center;}#sk-6dd0c624-a3c2-498f-b858-039d828970d3 div.sk-container {/* jupyter's `normalize.less` sets `[hidden] { display: none; }` but bootstrap.min.css set `[hidden] { display: none !important; }` so we also need the `!important` here to be able to override the default hidden behavior on the sphinx rendered scikit-learn.org. See: https://github.com/scikit-learn/scikit-learn/issues/21755 */display: inline-block !important;position: relative;}#sk-6dd0c624-a3c2-498f-b858-039d828970d3 div.sk-text-repr-fallback {display: none;}</style><div id=\"sk-6dd0c624-a3c2-498f-b858-039d828970d3\" class=\"sk-top-container\"><div class=\"sk-text-repr-fallback\"><pre>Pipeline(steps=[(&#x27;simpleimputer&#x27;, SimpleImputer(strategy=&#x27;median&#x27;)),\n",
       "                (&#x27;standardscaler&#x27;, StandardScaler())])</pre><b>Please rerun this cell to show the HTML repr or trust the notebook.</b></div><div class=\"sk-container\" hidden><div class=\"sk-item sk-dashed-wrapped\"><div class=\"sk-label-container\"><div class=\"sk-label sk-toggleable\"><input class=\"sk-toggleable__control sk-hidden--visually\" id=\"f3f86024-304b-4346-835c-87bb8a356ee6\" type=\"checkbox\" ><label for=\"f3f86024-304b-4346-835c-87bb8a356ee6\" class=\"sk-toggleable__label sk-toggleable__label-arrow\">Pipeline</label><div class=\"sk-toggleable__content\"><pre>Pipeline(steps=[(&#x27;simpleimputer&#x27;, SimpleImputer(strategy=&#x27;median&#x27;)),\n",
       "                (&#x27;standardscaler&#x27;, StandardScaler())])</pre></div></div></div><div class=\"sk-serial\"><div class=\"sk-item\"><div class=\"sk-estimator sk-toggleable\"><input class=\"sk-toggleable__control sk-hidden--visually\" id=\"0fa3d504-abf6-4f89-9a85-094e322fe78d\" type=\"checkbox\" ><label for=\"0fa3d504-abf6-4f89-9a85-094e322fe78d\" class=\"sk-toggleable__label sk-toggleable__label-arrow\">SimpleImputer</label><div class=\"sk-toggleable__content\"><pre>SimpleImputer(strategy=&#x27;median&#x27;)</pre></div></div></div><div class=\"sk-item\"><div class=\"sk-estimator sk-toggleable\"><input class=\"sk-toggleable__control sk-hidden--visually\" id=\"fe02476e-1c78-4fa1-beb1-95fc12613bbe\" type=\"checkbox\" ><label for=\"fe02476e-1c78-4fa1-beb1-95fc12613bbe\" class=\"sk-toggleable__label sk-toggleable__label-arrow\">StandardScaler</label><div class=\"sk-toggleable__content\"><pre>StandardScaler()</pre></div></div></div></div></div></div></div>"
      ],
      "text/plain": [
       "Pipeline(steps=[('simpleimputer', SimpleImputer(strategy='median')),\n",
       "                ('standardscaler', StandardScaler())])"
      ]
     },
     "execution_count": 228,
     "metadata": {},
     "output_type": "execute_result"
    }
   ],
   "source": [
    "from sklearn import set_config\n",
    "\n",
    "set_config(display = 'diagram')\n",
    "num_pipeline"
   ]
  },
  {
   "cell_type": "code",
   "execution_count": 231,
   "id": "abbb2721",
   "metadata": {},
   "outputs": [
    {
     "data": {
      "text/plain": [
       "array([[-1.01, -1.21,  1.56, ..., -0.63, -0.18, -0.17],\n",
       "       [-1.51,  0.38,  1.28, ...,  1.06, -0.18, -0.17],\n",
       "       [-0.5 ,  1.63, -0.43, ...,  2.36, -0.18, -0.17],\n",
       "       ...,\n",
       "       [-0.5 ,  0.61,  1.28, ..., -0.63, -0.18, -0.17],\n",
       "       [-0.5 ,  0.61, -1.01, ..., -0.52, -0.18, -0.17],\n",
       "       [ 0.5 ,  0.83, -1.01, ..., -0.63, -0.18, -0.17]])"
      ]
     },
     "execution_count": 231,
     "metadata": {},
     "output_type": "execute_result"
    }
   ],
   "source": [
    "bike_num_prepared = num_pipeline.fit_transform(bike_num)\n",
    "bike_num_prepared.round(2)"
   ]
  },
  {
   "cell_type": "code",
   "execution_count": 240,
   "id": "403059b2",
   "metadata": {},
   "outputs": [
    {
     "data": {
      "text/html": [
       "<div>\n",
       "<style scoped>\n",
       "    .dataframe tbody tr th:only-of-type {\n",
       "        vertical-align: middle;\n",
       "    }\n",
       "\n",
       "    .dataframe tbody tr th {\n",
       "        vertical-align: top;\n",
       "    }\n",
       "\n",
       "    .dataframe thead th {\n",
       "        text-align: right;\n",
       "    }\n",
       "</style>\n",
       "<table border=\"1\" class=\"dataframe\">\n",
       "  <thead>\n",
       "    <tr style=\"text-align: right;\">\n",
       "      <th></th>\n",
       "      <th>Weekday</th>\n",
       "      <th>Day</th>\n",
       "      <th>Month</th>\n",
       "      <th>Year</th>\n",
       "      <th>Hour</th>\n",
       "      <th>Temperature(°C)</th>\n",
       "      <th>Humidity(%)</th>\n",
       "      <th>Wind speed (m/s)</th>\n",
       "      <th>Visibility (10m)</th>\n",
       "      <th>Dew point temperature(°C)</th>\n",
       "      <th>Solar Radiation (MJ/m2)</th>\n",
       "      <th>Rainfall(mm)</th>\n",
       "      <th>Snowfall (cm)</th>\n",
       "    </tr>\n",
       "  </thead>\n",
       "  <tbody>\n",
       "    <tr>\n",
       "      <th>0</th>\n",
       "      <td>-1.006173</td>\n",
       "      <td>-1.207988</td>\n",
       "      <td>1.563015</td>\n",
       "      <td>-3.234124</td>\n",
       "      <td>-1.011668</td>\n",
       "      <td>-1.641680</td>\n",
       "      <td>-1.291095</td>\n",
       "      <td>1.452268</td>\n",
       "      <td>0.919984</td>\n",
       "      <td>-1.835538</td>\n",
       "      <td>-0.626638</td>\n",
       "      <td>-0.177791</td>\n",
       "      <td>-0.172022</td>\n",
       "    </tr>\n",
       "    <tr>\n",
       "      <th>1</th>\n",
       "      <td>-1.508292</td>\n",
       "      <td>0.380434</td>\n",
       "      <td>1.277657</td>\n",
       "      <td>0.309203</td>\n",
       "      <td>0.372269</td>\n",
       "      <td>-0.136938</td>\n",
       "      <td>-1.291095</td>\n",
       "      <td>1.241153</td>\n",
       "      <td>-0.855277</td>\n",
       "      <td>-0.638704</td>\n",
       "      <td>1.058043</td>\n",
       "      <td>-0.177791</td>\n",
       "      <td>-0.172022</td>\n",
       "    </tr>\n",
       "    <tr>\n",
       "      <th>2</th>\n",
       "      <td>-0.504053</td>\n",
       "      <td>1.628480</td>\n",
       "      <td>-0.434491</td>\n",
       "      <td>0.309203</td>\n",
       "      <td>0.787450</td>\n",
       "      <td>1.004299</td>\n",
       "      <td>-0.933634</td>\n",
       "      <td>0.607810</td>\n",
       "      <td>0.887108</td>\n",
       "      <td>0.467232</td>\n",
       "      <td>2.364852</td>\n",
       "      <td>-0.177791</td>\n",
       "      <td>-0.172022</td>\n",
       "    </tr>\n",
       "    <tr>\n",
       "      <th>3</th>\n",
       "      <td>-0.001933</td>\n",
       "      <td>-0.186859</td>\n",
       "      <td>-0.149133</td>\n",
       "      <td>0.309203</td>\n",
       "      <td>1.202631</td>\n",
       "      <td>0.877495</td>\n",
       "      <td>0.751537</td>\n",
       "      <td>-0.447763</td>\n",
       "      <td>0.252617</td>\n",
       "      <td>1.050499</td>\n",
       "      <td>-0.610893</td>\n",
       "      <td>-0.177791</td>\n",
       "      <td>-0.172022</td>\n",
       "    </tr>\n",
       "    <tr>\n",
       "      <th>4</th>\n",
       "      <td>-0.504053</td>\n",
       "      <td>1.174645</td>\n",
       "      <td>0.706941</td>\n",
       "      <td>0.309203</td>\n",
       "      <td>0.649056</td>\n",
       "      <td>1.029660</td>\n",
       "      <td>-1.240029</td>\n",
       "      <td>0.185580</td>\n",
       "      <td>0.919984</td>\n",
       "      <td>0.308159</td>\n",
       "      <td>2.065703</td>\n",
       "      <td>-0.177791</td>\n",
       "      <td>-0.172022</td>\n",
       "    </tr>\n",
       "  </tbody>\n",
       "</table>\n",
       "</div>"
      ],
      "text/plain": [
       "    Weekday       Day     Month      Year      Hour  Temperature(°C)  \\\n",
       "0 -1.006173 -1.207988  1.563015 -3.234124 -1.011668        -1.641680   \n",
       "1 -1.508292  0.380434  1.277657  0.309203  0.372269        -0.136938   \n",
       "2 -0.504053  1.628480 -0.434491  0.309203  0.787450         1.004299   \n",
       "3 -0.001933 -0.186859 -0.149133  0.309203  1.202631         0.877495   \n",
       "4 -0.504053  1.174645  0.706941  0.309203  0.649056         1.029660   \n",
       "\n",
       "   Humidity(%)  Wind speed (m/s)  Visibility (10m)  Dew point temperature(°C)  \\\n",
       "0    -1.291095          1.452268          0.919984                  -1.835538   \n",
       "1    -1.291095          1.241153         -0.855277                  -0.638704   \n",
       "2    -0.933634          0.607810          0.887108                   0.467232   \n",
       "3     0.751537         -0.447763          0.252617                   1.050499   \n",
       "4    -1.240029          0.185580          0.919984                   0.308159   \n",
       "\n",
       "   Solar Radiation (MJ/m2)  Rainfall(mm)  Snowfall (cm)  \n",
       "0                -0.626638     -0.177791      -0.172022  \n",
       "1                 1.058043     -0.177791      -0.172022  \n",
       "2                 2.364852     -0.177791      -0.172022  \n",
       "3                -0.610893     -0.177791      -0.172022  \n",
       "4                 2.065703     -0.177791      -0.172022  "
      ]
     },
     "execution_count": 240,
     "metadata": {},
     "output_type": "execute_result"
    }
   ],
   "source": [
    "df_bike_num_prepared = pd.DataFrame(\n",
    "    bike_num_prepared, columns = list(bike_num.columns))\n",
    "df_bike_num_prepared.head()"
   ]
  },
  {
   "cell_type": "code",
   "execution_count": 243,
   "id": "1feb54a5",
   "metadata": {},
   "outputs": [
    {
     "name": "stdout",
     "output_type": "stream",
     "text": [
      "[('simpleimputer', SimpleImputer(strategy='median')), ('standardscaler', StandardScaler())] \n",
      "\n",
      "StandardScaler() \n",
      "\n",
      "Pipeline(steps=[('simpleimputer', SimpleImputer(strategy='median'))]) \n",
      "\n",
      "SimpleImputer(strategy='median') \n",
      "\n",
      "Pipeline(steps=[('simpleimputer', SimpleImputer(strategy='median')),\n",
      "                ('standardscaler', StandardScaler())])\n"
     ]
    }
   ],
   "source": [
    "print(num_pipeline.steps,'\\n')\n",
    "\n",
    "print(num_pipeline[1],'\\n')\n",
    "print(num_pipeline[:-1],'\\n')\n",
    "print(num_pipeline.named_steps['simpleimputer'],'\\n')\n",
    "print(num_pipeline.set_params(simpleimputer__strategy = 'median'))"
   ]
  },
  {
   "cell_type": "code",
   "execution_count": 248,
   "id": "ca6d9b27",
   "metadata": {},
   "outputs": [],
   "source": [
    "from sklearn.compose import ColumnTransformer\n",
    "from sklearn.preprocessing import OneHotEncoder\n",
    "\n",
    "num_attribs = list(bike_num.columns)\n",
    "cat_attribs = ['Seasons', 'Holiday', 'Functioning Day']\n",
    "\n",
    "cat_pipeline = make_pipeline(\n",
    "    SimpleImputer(strategy = 'most_frequent'),\n",
    "    OneHotEncoder(handle_unknown = 'ignore'))\n",
    "\n",
    "preprocessing = ColumnTransformer([\n",
    "    ('num', num_pipeline, num_attribs),\n",
    "    ('cat', cat_pipeline, cat_attribs),\n",
    "])"
   ]
  },
  {
   "cell_type": "code",
   "execution_count": 249,
   "id": "e121169f",
   "metadata": {},
   "outputs": [],
   "source": [
    "from sklearn.compose import make_column_selector, make_column_transformer\n",
    "\n",
    "preprocessing = make_column_transformer(\n",
    "    (num_pipeline, make_column_selector(dtype_include = np.number)),\n",
    "    (cat_pipeline, make_column_selector(dtype_include = object)),\n",
    ")"
   ]
  },
  {
   "cell_type": "code",
   "execution_count": 263,
   "id": "e0370e54",
   "metadata": {},
   "outputs": [],
   "source": [
    "bike1_prepared = preprocessing.fit_transform(bike1)\n",
    "bike2_prepared = preprocessing.fit_transform(bike2)"
   ]
  },
  {
   "cell_type": "markdown",
   "id": "8c3c9fb8",
   "metadata": {},
   "source": [
    "## Select and Train a Model"
   ]
  },
  {
   "cell_type": "markdown",
   "id": "757a4ca4",
   "metadata": {},
   "source": [
    "### Training & Evaluating on the Training Set"
   ]
  },
  {
   "cell_type": "markdown",
   "id": "0c9cc768",
   "metadata": {},
   "source": [
    "#### Model 1 – All Outliers Removed"
   ]
  },
  {
   "cell_type": "code",
   "execution_count": 271,
   "id": "0ce45242",
   "metadata": {},
   "outputs": [
    {
     "data": {
      "text/html": [
       "<style>#sk-dff57703-e80b-4cd4-8914-2b5292aab39e {color: black;background-color: white;}#sk-dff57703-e80b-4cd4-8914-2b5292aab39e pre{padding: 0;}#sk-dff57703-e80b-4cd4-8914-2b5292aab39e div.sk-toggleable {background-color: white;}#sk-dff57703-e80b-4cd4-8914-2b5292aab39e label.sk-toggleable__label {cursor: pointer;display: block;width: 100%;margin-bottom: 0;padding: 0.3em;box-sizing: border-box;text-align: center;}#sk-dff57703-e80b-4cd4-8914-2b5292aab39e label.sk-toggleable__label-arrow:before {content: \"▸\";float: left;margin-right: 0.25em;color: #696969;}#sk-dff57703-e80b-4cd4-8914-2b5292aab39e label.sk-toggleable__label-arrow:hover:before {color: black;}#sk-dff57703-e80b-4cd4-8914-2b5292aab39e div.sk-estimator:hover label.sk-toggleable__label-arrow:before {color: black;}#sk-dff57703-e80b-4cd4-8914-2b5292aab39e div.sk-toggleable__content {max-height: 0;max-width: 0;overflow: hidden;text-align: left;background-color: #f0f8ff;}#sk-dff57703-e80b-4cd4-8914-2b5292aab39e div.sk-toggleable__content pre {margin: 0.2em;color: black;border-radius: 0.25em;background-color: #f0f8ff;}#sk-dff57703-e80b-4cd4-8914-2b5292aab39e input.sk-toggleable__control:checked~div.sk-toggleable__content {max-height: 200px;max-width: 100%;overflow: auto;}#sk-dff57703-e80b-4cd4-8914-2b5292aab39e input.sk-toggleable__control:checked~label.sk-toggleable__label-arrow:before {content: \"▾\";}#sk-dff57703-e80b-4cd4-8914-2b5292aab39e div.sk-estimator input.sk-toggleable__control:checked~label.sk-toggleable__label {background-color: #d4ebff;}#sk-dff57703-e80b-4cd4-8914-2b5292aab39e div.sk-label input.sk-toggleable__control:checked~label.sk-toggleable__label {background-color: #d4ebff;}#sk-dff57703-e80b-4cd4-8914-2b5292aab39e input.sk-hidden--visually {border: 0;clip: rect(1px 1px 1px 1px);clip: rect(1px, 1px, 1px, 1px);height: 1px;margin: -1px;overflow: hidden;padding: 0;position: absolute;width: 1px;}#sk-dff57703-e80b-4cd4-8914-2b5292aab39e div.sk-estimator {font-family: monospace;background-color: #f0f8ff;border: 1px dotted black;border-radius: 0.25em;box-sizing: border-box;margin-bottom: 0.5em;}#sk-dff57703-e80b-4cd4-8914-2b5292aab39e div.sk-estimator:hover {background-color: #d4ebff;}#sk-dff57703-e80b-4cd4-8914-2b5292aab39e div.sk-parallel-item::after {content: \"\";width: 100%;border-bottom: 1px solid gray;flex-grow: 1;}#sk-dff57703-e80b-4cd4-8914-2b5292aab39e div.sk-label:hover label.sk-toggleable__label {background-color: #d4ebff;}#sk-dff57703-e80b-4cd4-8914-2b5292aab39e div.sk-serial::before {content: \"\";position: absolute;border-left: 1px solid gray;box-sizing: border-box;top: 2em;bottom: 0;left: 50%;}#sk-dff57703-e80b-4cd4-8914-2b5292aab39e div.sk-serial {display: flex;flex-direction: column;align-items: center;background-color: white;padding-right: 0.2em;padding-left: 0.2em;}#sk-dff57703-e80b-4cd4-8914-2b5292aab39e div.sk-item {z-index: 1;}#sk-dff57703-e80b-4cd4-8914-2b5292aab39e div.sk-parallel {display: flex;align-items: stretch;justify-content: center;background-color: white;}#sk-dff57703-e80b-4cd4-8914-2b5292aab39e div.sk-parallel::before {content: \"\";position: absolute;border-left: 1px solid gray;box-sizing: border-box;top: 2em;bottom: 0;left: 50%;}#sk-dff57703-e80b-4cd4-8914-2b5292aab39e div.sk-parallel-item {display: flex;flex-direction: column;position: relative;background-color: white;}#sk-dff57703-e80b-4cd4-8914-2b5292aab39e div.sk-parallel-item:first-child::after {align-self: flex-end;width: 50%;}#sk-dff57703-e80b-4cd4-8914-2b5292aab39e div.sk-parallel-item:last-child::after {align-self: flex-start;width: 50%;}#sk-dff57703-e80b-4cd4-8914-2b5292aab39e div.sk-parallel-item:only-child::after {width: 0;}#sk-dff57703-e80b-4cd4-8914-2b5292aab39e div.sk-dashed-wrapped {border: 1px dashed gray;margin: 0 0.4em 0.5em 0.4em;box-sizing: border-box;padding-bottom: 0.4em;background-color: white;position: relative;}#sk-dff57703-e80b-4cd4-8914-2b5292aab39e div.sk-label label {font-family: monospace;font-weight: bold;background-color: white;display: inline-block;line-height: 1.2em;}#sk-dff57703-e80b-4cd4-8914-2b5292aab39e div.sk-label-container {position: relative;z-index: 2;text-align: center;}#sk-dff57703-e80b-4cd4-8914-2b5292aab39e div.sk-container {/* jupyter's `normalize.less` sets `[hidden] { display: none; }` but bootstrap.min.css set `[hidden] { display: none !important; }` so we also need the `!important` here to be able to override the default hidden behavior on the sphinx rendered scikit-learn.org. See: https://github.com/scikit-learn/scikit-learn/issues/21755 */display: inline-block !important;position: relative;}#sk-dff57703-e80b-4cd4-8914-2b5292aab39e div.sk-text-repr-fallback {display: none;}</style><div id=\"sk-dff57703-e80b-4cd4-8914-2b5292aab39e\" class=\"sk-top-container\"><div class=\"sk-text-repr-fallback\"><pre>Pipeline(steps=[(&#x27;columntransformer&#x27;,\n",
       "                 ColumnTransformer(transformers=[(&#x27;pipeline-1&#x27;,\n",
       "                                                  Pipeline(steps=[(&#x27;simpleimputer&#x27;,\n",
       "                                                                   SimpleImputer(strategy=&#x27;median&#x27;)),\n",
       "                                                                  (&#x27;standardscaler&#x27;,\n",
       "                                                                   StandardScaler())]),\n",
       "                                                  &lt;sklearn.compose._column_transformer.make_column_selector object at 0x0000019D516867C0&gt;),\n",
       "                                                 (&#x27;pipeline-2&#x27;,\n",
       "                                                  Pipeline(steps=[(&#x27;simpleimputer&#x27;,\n",
       "                                                                   SimpleImputer(strategy=&#x27;most_frequent&#x27;)),\n",
       "                                                                  (&#x27;onehotencoder&#x27;,\n",
       "                                                                   OneHotEncoder(handle_unknown=&#x27;ignore&#x27;))]),\n",
       "                                                  &lt;sklearn.compose._column_transformer.make_column_selector object at 0x0000019D51686250&gt;)])),\n",
       "                (&#x27;linearregression&#x27;, LinearRegression())])</pre><b>Please rerun this cell to show the HTML repr or trust the notebook.</b></div><div class=\"sk-container\" hidden><div class=\"sk-item sk-dashed-wrapped\"><div class=\"sk-label-container\"><div class=\"sk-label sk-toggleable\"><input class=\"sk-toggleable__control sk-hidden--visually\" id=\"14d480cd-e67a-4b97-9197-624bef05d342\" type=\"checkbox\" ><label for=\"14d480cd-e67a-4b97-9197-624bef05d342\" class=\"sk-toggleable__label sk-toggleable__label-arrow\">Pipeline</label><div class=\"sk-toggleable__content\"><pre>Pipeline(steps=[(&#x27;columntransformer&#x27;,\n",
       "                 ColumnTransformer(transformers=[(&#x27;pipeline-1&#x27;,\n",
       "                                                  Pipeline(steps=[(&#x27;simpleimputer&#x27;,\n",
       "                                                                   SimpleImputer(strategy=&#x27;median&#x27;)),\n",
       "                                                                  (&#x27;standardscaler&#x27;,\n",
       "                                                                   StandardScaler())]),\n",
       "                                                  &lt;sklearn.compose._column_transformer.make_column_selector object at 0x0000019D516867C0&gt;),\n",
       "                                                 (&#x27;pipeline-2&#x27;,\n",
       "                                                  Pipeline(steps=[(&#x27;simpleimputer&#x27;,\n",
       "                                                                   SimpleImputer(strategy=&#x27;most_frequent&#x27;)),\n",
       "                                                                  (&#x27;onehotencoder&#x27;,\n",
       "                                                                   OneHotEncoder(handle_unknown=&#x27;ignore&#x27;))]),\n",
       "                                                  &lt;sklearn.compose._column_transformer.make_column_selector object at 0x0000019D51686250&gt;)])),\n",
       "                (&#x27;linearregression&#x27;, LinearRegression())])</pre></div></div></div><div class=\"sk-serial\"><div class=\"sk-item sk-dashed-wrapped\"><div class=\"sk-label-container\"><div class=\"sk-label sk-toggleable\"><input class=\"sk-toggleable__control sk-hidden--visually\" id=\"4a93c159-006d-400c-bcb7-0c039ad52965\" type=\"checkbox\" ><label for=\"4a93c159-006d-400c-bcb7-0c039ad52965\" class=\"sk-toggleable__label sk-toggleable__label-arrow\">columntransformer: ColumnTransformer</label><div class=\"sk-toggleable__content\"><pre>ColumnTransformer(transformers=[(&#x27;pipeline-1&#x27;,\n",
       "                                 Pipeline(steps=[(&#x27;simpleimputer&#x27;,\n",
       "                                                  SimpleImputer(strategy=&#x27;median&#x27;)),\n",
       "                                                 (&#x27;standardscaler&#x27;,\n",
       "                                                  StandardScaler())]),\n",
       "                                 &lt;sklearn.compose._column_transformer.make_column_selector object at 0x0000019D516867C0&gt;),\n",
       "                                (&#x27;pipeline-2&#x27;,\n",
       "                                 Pipeline(steps=[(&#x27;simpleimputer&#x27;,\n",
       "                                                  SimpleImputer(strategy=&#x27;most_frequent&#x27;)),\n",
       "                                                 (&#x27;onehotencoder&#x27;,\n",
       "                                                  OneHotEncoder(handle_unknown=&#x27;ignore&#x27;))]),\n",
       "                                 &lt;sklearn.compose._column_transformer.make_column_selector object at 0x0000019D51686250&gt;)])</pre></div></div></div><div class=\"sk-parallel\"><div class=\"sk-parallel-item\"><div class=\"sk-item\"><div class=\"sk-label-container\"><div class=\"sk-label sk-toggleable\"><input class=\"sk-toggleable__control sk-hidden--visually\" id=\"c53493c4-dfd9-4875-a285-08809fdbfdc3\" type=\"checkbox\" ><label for=\"c53493c4-dfd9-4875-a285-08809fdbfdc3\" class=\"sk-toggleable__label sk-toggleable__label-arrow\">pipeline-1</label><div class=\"sk-toggleable__content\"><pre>&lt;sklearn.compose._column_transformer.make_column_selector object at 0x0000019D516867C0&gt;</pre></div></div></div><div class=\"sk-serial\"><div class=\"sk-item\"><div class=\"sk-serial\"><div class=\"sk-item\"><div class=\"sk-estimator sk-toggleable\"><input class=\"sk-toggleable__control sk-hidden--visually\" id=\"48e85b70-68ed-4e9d-a499-379a5648febd\" type=\"checkbox\" ><label for=\"48e85b70-68ed-4e9d-a499-379a5648febd\" class=\"sk-toggleable__label sk-toggleable__label-arrow\">SimpleImputer</label><div class=\"sk-toggleable__content\"><pre>SimpleImputer(strategy=&#x27;median&#x27;)</pre></div></div></div><div class=\"sk-item\"><div class=\"sk-estimator sk-toggleable\"><input class=\"sk-toggleable__control sk-hidden--visually\" id=\"16ccc51f-6ac9-4f16-9178-191c6abe6771\" type=\"checkbox\" ><label for=\"16ccc51f-6ac9-4f16-9178-191c6abe6771\" class=\"sk-toggleable__label sk-toggleable__label-arrow\">StandardScaler</label><div class=\"sk-toggleable__content\"><pre>StandardScaler()</pre></div></div></div></div></div></div></div></div><div class=\"sk-parallel-item\"><div class=\"sk-item\"><div class=\"sk-label-container\"><div class=\"sk-label sk-toggleable\"><input class=\"sk-toggleable__control sk-hidden--visually\" id=\"d30fbae0-aac5-4077-8d0c-4df598099376\" type=\"checkbox\" ><label for=\"d30fbae0-aac5-4077-8d0c-4df598099376\" class=\"sk-toggleable__label sk-toggleable__label-arrow\">pipeline-2</label><div class=\"sk-toggleable__content\"><pre>&lt;sklearn.compose._column_transformer.make_column_selector object at 0x0000019D51686250&gt;</pre></div></div></div><div class=\"sk-serial\"><div class=\"sk-item\"><div class=\"sk-serial\"><div class=\"sk-item\"><div class=\"sk-estimator sk-toggleable\"><input class=\"sk-toggleable__control sk-hidden--visually\" id=\"dfb9b6d8-fc75-4edb-a6ab-1ae51b08e199\" type=\"checkbox\" ><label for=\"dfb9b6d8-fc75-4edb-a6ab-1ae51b08e199\" class=\"sk-toggleable__label sk-toggleable__label-arrow\">SimpleImputer</label><div class=\"sk-toggleable__content\"><pre>SimpleImputer(strategy=&#x27;most_frequent&#x27;)</pre></div></div></div><div class=\"sk-item\"><div class=\"sk-estimator sk-toggleable\"><input class=\"sk-toggleable__control sk-hidden--visually\" id=\"bd198f1b-c0fe-4e3d-9405-e2005e17c1a3\" type=\"checkbox\" ><label for=\"bd198f1b-c0fe-4e3d-9405-e2005e17c1a3\" class=\"sk-toggleable__label sk-toggleable__label-arrow\">OneHotEncoder</label><div class=\"sk-toggleable__content\"><pre>OneHotEncoder(handle_unknown=&#x27;ignore&#x27;)</pre></div></div></div></div></div></div></div></div></div></div><div class=\"sk-item\"><div class=\"sk-estimator sk-toggleable\"><input class=\"sk-toggleable__control sk-hidden--visually\" id=\"0e30bbb0-7576-47d4-a332-dfd68f810890\" type=\"checkbox\" ><label for=\"0e30bbb0-7576-47d4-a332-dfd68f810890\" class=\"sk-toggleable__label sk-toggleable__label-arrow\">LinearRegression</label><div class=\"sk-toggleable__content\"><pre>LinearRegression()</pre></div></div></div></div></div></div></div>"
      ],
      "text/plain": [
       "Pipeline(steps=[('columntransformer',\n",
       "                 ColumnTransformer(transformers=[('pipeline-1',\n",
       "                                                  Pipeline(steps=[('simpleimputer',\n",
       "                                                                   SimpleImputer(strategy='median')),\n",
       "                                                                  ('standardscaler',\n",
       "                                                                   StandardScaler())]),\n",
       "                                                  <sklearn.compose._column_transformer.make_column_selector object at 0x0000019D516867C0>),\n",
       "                                                 ('pipeline-2',\n",
       "                                                  Pipeline(steps=[('simpleimputer',\n",
       "                                                                   SimpleImputer(strategy='most_frequent')),\n",
       "                                                                  ('onehotencoder',\n",
       "                                                                   OneHotEncoder(handle_unknown='ignore'))]),\n",
       "                                                  <sklearn.compose._column_transformer.make_column_selector object at 0x0000019D51686250>)])),\n",
       "                ('linearregression', LinearRegression())])"
      ]
     },
     "execution_count": 271,
     "metadata": {},
     "output_type": "execute_result"
    }
   ],
   "source": [
    "from sklearn.linear_model import LinearRegression\n",
    "\n",
    "lin_reg = make_pipeline(preprocessing, LinearRegression())\n",
    "lin_reg.fit(bike1, bike1_labels)"
   ]
  },
  {
   "cell_type": "code",
   "execution_count": 272,
   "id": "39e28b90",
   "metadata": {},
   "outputs": [
    {
     "name": "stdout",
     "output_type": "stream",
     "text": [
      "[1172.46 1852.93 1513.78 1522.39  567.08]\n",
      "[ 793 2166 1557 2270  785]\n"
     ]
    }
   ],
   "source": [
    "bike1_predictions = lin_reg.predict(bike1)\n",
    "\n",
    "# Let's look at a few instances\n",
    "print(bike1_predictions[:5].round(2))\n",
    "\n",
    "# and compare to the actual values\n",
    "print(bike1_labels.iloc[:5].values.round(2))"
   ]
  },
  {
   "cell_type": "code",
   "execution_count": 273,
   "id": "31175cf5",
   "metadata": {},
   "outputs": [
    {
     "data": {
      "text/plain": [
       "389.7611943148908"
      ]
     },
     "execution_count": 273,
     "metadata": {},
     "output_type": "execute_result"
    }
   ],
   "source": [
    "from sklearn.metrics import mean_squared_error\n",
    "\n",
    "lin_rmse = mean_squared_error(bike1_labels, bike1_predictions,\n",
    "                              squared = False)\n",
    "lin_rmse"
   ]
  },
  {
   "cell_type": "code",
   "execution_count": 274,
   "id": "ecd029ab",
   "metadata": {},
   "outputs": [
    {
     "data": {
      "text/html": [
       "<style>#sk-8988aa28-3db1-4947-b4e5-6a80abae6d23 {color: black;background-color: white;}#sk-8988aa28-3db1-4947-b4e5-6a80abae6d23 pre{padding: 0;}#sk-8988aa28-3db1-4947-b4e5-6a80abae6d23 div.sk-toggleable {background-color: white;}#sk-8988aa28-3db1-4947-b4e5-6a80abae6d23 label.sk-toggleable__label {cursor: pointer;display: block;width: 100%;margin-bottom: 0;padding: 0.3em;box-sizing: border-box;text-align: center;}#sk-8988aa28-3db1-4947-b4e5-6a80abae6d23 label.sk-toggleable__label-arrow:before {content: \"▸\";float: left;margin-right: 0.25em;color: #696969;}#sk-8988aa28-3db1-4947-b4e5-6a80abae6d23 label.sk-toggleable__label-arrow:hover:before {color: black;}#sk-8988aa28-3db1-4947-b4e5-6a80abae6d23 div.sk-estimator:hover label.sk-toggleable__label-arrow:before {color: black;}#sk-8988aa28-3db1-4947-b4e5-6a80abae6d23 div.sk-toggleable__content {max-height: 0;max-width: 0;overflow: hidden;text-align: left;background-color: #f0f8ff;}#sk-8988aa28-3db1-4947-b4e5-6a80abae6d23 div.sk-toggleable__content pre {margin: 0.2em;color: black;border-radius: 0.25em;background-color: #f0f8ff;}#sk-8988aa28-3db1-4947-b4e5-6a80abae6d23 input.sk-toggleable__control:checked~div.sk-toggleable__content {max-height: 200px;max-width: 100%;overflow: auto;}#sk-8988aa28-3db1-4947-b4e5-6a80abae6d23 input.sk-toggleable__control:checked~label.sk-toggleable__label-arrow:before {content: \"▾\";}#sk-8988aa28-3db1-4947-b4e5-6a80abae6d23 div.sk-estimator input.sk-toggleable__control:checked~label.sk-toggleable__label {background-color: #d4ebff;}#sk-8988aa28-3db1-4947-b4e5-6a80abae6d23 div.sk-label input.sk-toggleable__control:checked~label.sk-toggleable__label {background-color: #d4ebff;}#sk-8988aa28-3db1-4947-b4e5-6a80abae6d23 input.sk-hidden--visually {border: 0;clip: rect(1px 1px 1px 1px);clip: rect(1px, 1px, 1px, 1px);height: 1px;margin: -1px;overflow: hidden;padding: 0;position: absolute;width: 1px;}#sk-8988aa28-3db1-4947-b4e5-6a80abae6d23 div.sk-estimator {font-family: monospace;background-color: #f0f8ff;border: 1px dotted black;border-radius: 0.25em;box-sizing: border-box;margin-bottom: 0.5em;}#sk-8988aa28-3db1-4947-b4e5-6a80abae6d23 div.sk-estimator:hover {background-color: #d4ebff;}#sk-8988aa28-3db1-4947-b4e5-6a80abae6d23 div.sk-parallel-item::after {content: \"\";width: 100%;border-bottom: 1px solid gray;flex-grow: 1;}#sk-8988aa28-3db1-4947-b4e5-6a80abae6d23 div.sk-label:hover label.sk-toggleable__label {background-color: #d4ebff;}#sk-8988aa28-3db1-4947-b4e5-6a80abae6d23 div.sk-serial::before {content: \"\";position: absolute;border-left: 1px solid gray;box-sizing: border-box;top: 2em;bottom: 0;left: 50%;}#sk-8988aa28-3db1-4947-b4e5-6a80abae6d23 div.sk-serial {display: flex;flex-direction: column;align-items: center;background-color: white;padding-right: 0.2em;padding-left: 0.2em;}#sk-8988aa28-3db1-4947-b4e5-6a80abae6d23 div.sk-item {z-index: 1;}#sk-8988aa28-3db1-4947-b4e5-6a80abae6d23 div.sk-parallel {display: flex;align-items: stretch;justify-content: center;background-color: white;}#sk-8988aa28-3db1-4947-b4e5-6a80abae6d23 div.sk-parallel::before {content: \"\";position: absolute;border-left: 1px solid gray;box-sizing: border-box;top: 2em;bottom: 0;left: 50%;}#sk-8988aa28-3db1-4947-b4e5-6a80abae6d23 div.sk-parallel-item {display: flex;flex-direction: column;position: relative;background-color: white;}#sk-8988aa28-3db1-4947-b4e5-6a80abae6d23 div.sk-parallel-item:first-child::after {align-self: flex-end;width: 50%;}#sk-8988aa28-3db1-4947-b4e5-6a80abae6d23 div.sk-parallel-item:last-child::after {align-self: flex-start;width: 50%;}#sk-8988aa28-3db1-4947-b4e5-6a80abae6d23 div.sk-parallel-item:only-child::after {width: 0;}#sk-8988aa28-3db1-4947-b4e5-6a80abae6d23 div.sk-dashed-wrapped {border: 1px dashed gray;margin: 0 0.4em 0.5em 0.4em;box-sizing: border-box;padding-bottom: 0.4em;background-color: white;position: relative;}#sk-8988aa28-3db1-4947-b4e5-6a80abae6d23 div.sk-label label {font-family: monospace;font-weight: bold;background-color: white;display: inline-block;line-height: 1.2em;}#sk-8988aa28-3db1-4947-b4e5-6a80abae6d23 div.sk-label-container {position: relative;z-index: 2;text-align: center;}#sk-8988aa28-3db1-4947-b4e5-6a80abae6d23 div.sk-container {/* jupyter's `normalize.less` sets `[hidden] { display: none; }` but bootstrap.min.css set `[hidden] { display: none !important; }` so we also need the `!important` here to be able to override the default hidden behavior on the sphinx rendered scikit-learn.org. See: https://github.com/scikit-learn/scikit-learn/issues/21755 */display: inline-block !important;position: relative;}#sk-8988aa28-3db1-4947-b4e5-6a80abae6d23 div.sk-text-repr-fallback {display: none;}</style><div id=\"sk-8988aa28-3db1-4947-b4e5-6a80abae6d23\" class=\"sk-top-container\"><div class=\"sk-text-repr-fallback\"><pre>Pipeline(steps=[(&#x27;columntransformer&#x27;,\n",
       "                 ColumnTransformer(transformers=[(&#x27;pipeline-1&#x27;,\n",
       "                                                  Pipeline(steps=[(&#x27;simpleimputer&#x27;,\n",
       "                                                                   SimpleImputer(strategy=&#x27;median&#x27;)),\n",
       "                                                                  (&#x27;standardscaler&#x27;,\n",
       "                                                                   StandardScaler())]),\n",
       "                                                  &lt;sklearn.compose._column_transformer.make_column_selector object at 0x0000019D516867C0&gt;),\n",
       "                                                 (&#x27;pipeline-2&#x27;,\n",
       "                                                  Pipeline(steps=[(&#x27;simpleimputer&#x27;,\n",
       "                                                                   SimpleImputer(strategy=&#x27;most_frequent&#x27;)),\n",
       "                                                                  (&#x27;onehotencoder&#x27;,\n",
       "                                                                   OneHotEncoder(handle_unknown=&#x27;ignore&#x27;))]),\n",
       "                                                  &lt;sklearn.compose._column_transformer.make_column_selector object at 0x0000019D51686250&gt;)])),\n",
       "                (&#x27;decisiontreeregressor&#x27;,\n",
       "                 DecisionTreeRegressor(random_state=119))])</pre><b>Please rerun this cell to show the HTML repr or trust the notebook.</b></div><div class=\"sk-container\" hidden><div class=\"sk-item sk-dashed-wrapped\"><div class=\"sk-label-container\"><div class=\"sk-label sk-toggleable\"><input class=\"sk-toggleable__control sk-hidden--visually\" id=\"d94684f6-2c88-448c-be0e-d8823f75f163\" type=\"checkbox\" ><label for=\"d94684f6-2c88-448c-be0e-d8823f75f163\" class=\"sk-toggleable__label sk-toggleable__label-arrow\">Pipeline</label><div class=\"sk-toggleable__content\"><pre>Pipeline(steps=[(&#x27;columntransformer&#x27;,\n",
       "                 ColumnTransformer(transformers=[(&#x27;pipeline-1&#x27;,\n",
       "                                                  Pipeline(steps=[(&#x27;simpleimputer&#x27;,\n",
       "                                                                   SimpleImputer(strategy=&#x27;median&#x27;)),\n",
       "                                                                  (&#x27;standardscaler&#x27;,\n",
       "                                                                   StandardScaler())]),\n",
       "                                                  &lt;sklearn.compose._column_transformer.make_column_selector object at 0x0000019D516867C0&gt;),\n",
       "                                                 (&#x27;pipeline-2&#x27;,\n",
       "                                                  Pipeline(steps=[(&#x27;simpleimputer&#x27;,\n",
       "                                                                   SimpleImputer(strategy=&#x27;most_frequent&#x27;)),\n",
       "                                                                  (&#x27;onehotencoder&#x27;,\n",
       "                                                                   OneHotEncoder(handle_unknown=&#x27;ignore&#x27;))]),\n",
       "                                                  &lt;sklearn.compose._column_transformer.make_column_selector object at 0x0000019D51686250&gt;)])),\n",
       "                (&#x27;decisiontreeregressor&#x27;,\n",
       "                 DecisionTreeRegressor(random_state=119))])</pre></div></div></div><div class=\"sk-serial\"><div class=\"sk-item sk-dashed-wrapped\"><div class=\"sk-label-container\"><div class=\"sk-label sk-toggleable\"><input class=\"sk-toggleable__control sk-hidden--visually\" id=\"217adcf7-f76b-47c0-a9dc-3c02341488a7\" type=\"checkbox\" ><label for=\"217adcf7-f76b-47c0-a9dc-3c02341488a7\" class=\"sk-toggleable__label sk-toggleable__label-arrow\">columntransformer: ColumnTransformer</label><div class=\"sk-toggleable__content\"><pre>ColumnTransformer(transformers=[(&#x27;pipeline-1&#x27;,\n",
       "                                 Pipeline(steps=[(&#x27;simpleimputer&#x27;,\n",
       "                                                  SimpleImputer(strategy=&#x27;median&#x27;)),\n",
       "                                                 (&#x27;standardscaler&#x27;,\n",
       "                                                  StandardScaler())]),\n",
       "                                 &lt;sklearn.compose._column_transformer.make_column_selector object at 0x0000019D516867C0&gt;),\n",
       "                                (&#x27;pipeline-2&#x27;,\n",
       "                                 Pipeline(steps=[(&#x27;simpleimputer&#x27;,\n",
       "                                                  SimpleImputer(strategy=&#x27;most_frequent&#x27;)),\n",
       "                                                 (&#x27;onehotencoder&#x27;,\n",
       "                                                  OneHotEncoder(handle_unknown=&#x27;ignore&#x27;))]),\n",
       "                                 &lt;sklearn.compose._column_transformer.make_column_selector object at 0x0000019D51686250&gt;)])</pre></div></div></div><div class=\"sk-parallel\"><div class=\"sk-parallel-item\"><div class=\"sk-item\"><div class=\"sk-label-container\"><div class=\"sk-label sk-toggleable\"><input class=\"sk-toggleable__control sk-hidden--visually\" id=\"ffe34041-9cb5-4158-b71f-bab819be96ba\" type=\"checkbox\" ><label for=\"ffe34041-9cb5-4158-b71f-bab819be96ba\" class=\"sk-toggleable__label sk-toggleable__label-arrow\">pipeline-1</label><div class=\"sk-toggleable__content\"><pre>&lt;sklearn.compose._column_transformer.make_column_selector object at 0x0000019D516867C0&gt;</pre></div></div></div><div class=\"sk-serial\"><div class=\"sk-item\"><div class=\"sk-serial\"><div class=\"sk-item\"><div class=\"sk-estimator sk-toggleable\"><input class=\"sk-toggleable__control sk-hidden--visually\" id=\"9df59384-7070-4acb-bd0a-a916321e159f\" type=\"checkbox\" ><label for=\"9df59384-7070-4acb-bd0a-a916321e159f\" class=\"sk-toggleable__label sk-toggleable__label-arrow\">SimpleImputer</label><div class=\"sk-toggleable__content\"><pre>SimpleImputer(strategy=&#x27;median&#x27;)</pre></div></div></div><div class=\"sk-item\"><div class=\"sk-estimator sk-toggleable\"><input class=\"sk-toggleable__control sk-hidden--visually\" id=\"078634c0-7685-4d83-b191-08c089eb9910\" type=\"checkbox\" ><label for=\"078634c0-7685-4d83-b191-08c089eb9910\" class=\"sk-toggleable__label sk-toggleable__label-arrow\">StandardScaler</label><div class=\"sk-toggleable__content\"><pre>StandardScaler()</pre></div></div></div></div></div></div></div></div><div class=\"sk-parallel-item\"><div class=\"sk-item\"><div class=\"sk-label-container\"><div class=\"sk-label sk-toggleable\"><input class=\"sk-toggleable__control sk-hidden--visually\" id=\"cfc7d8b5-2d19-4730-bf53-fce702981a41\" type=\"checkbox\" ><label for=\"cfc7d8b5-2d19-4730-bf53-fce702981a41\" class=\"sk-toggleable__label sk-toggleable__label-arrow\">pipeline-2</label><div class=\"sk-toggleable__content\"><pre>&lt;sklearn.compose._column_transformer.make_column_selector object at 0x0000019D51686250&gt;</pre></div></div></div><div class=\"sk-serial\"><div class=\"sk-item\"><div class=\"sk-serial\"><div class=\"sk-item\"><div class=\"sk-estimator sk-toggleable\"><input class=\"sk-toggleable__control sk-hidden--visually\" id=\"d9d0254f-13ad-453d-acb7-83c9d0759adb\" type=\"checkbox\" ><label for=\"d9d0254f-13ad-453d-acb7-83c9d0759adb\" class=\"sk-toggleable__label sk-toggleable__label-arrow\">SimpleImputer</label><div class=\"sk-toggleable__content\"><pre>SimpleImputer(strategy=&#x27;most_frequent&#x27;)</pre></div></div></div><div class=\"sk-item\"><div class=\"sk-estimator sk-toggleable\"><input class=\"sk-toggleable__control sk-hidden--visually\" id=\"cc4fcc7d-6d06-4e4c-bbe3-e87232501c19\" type=\"checkbox\" ><label for=\"cc4fcc7d-6d06-4e4c-bbe3-e87232501c19\" class=\"sk-toggleable__label sk-toggleable__label-arrow\">OneHotEncoder</label><div class=\"sk-toggleable__content\"><pre>OneHotEncoder(handle_unknown=&#x27;ignore&#x27;)</pre></div></div></div></div></div></div></div></div></div></div><div class=\"sk-item\"><div class=\"sk-estimator sk-toggleable\"><input class=\"sk-toggleable__control sk-hidden--visually\" id=\"5930c223-9061-4efc-af76-23a7a0d7b892\" type=\"checkbox\" ><label for=\"5930c223-9061-4efc-af76-23a7a0d7b892\" class=\"sk-toggleable__label sk-toggleable__label-arrow\">DecisionTreeRegressor</label><div class=\"sk-toggleable__content\"><pre>DecisionTreeRegressor(random_state=119)</pre></div></div></div></div></div></div></div>"
      ],
      "text/plain": [
       "Pipeline(steps=[('columntransformer',\n",
       "                 ColumnTransformer(transformers=[('pipeline-1',\n",
       "                                                  Pipeline(steps=[('simpleimputer',\n",
       "                                                                   SimpleImputer(strategy='median')),\n",
       "                                                                  ('standardscaler',\n",
       "                                                                   StandardScaler())]),\n",
       "                                                  <sklearn.compose._column_transformer.make_column_selector object at 0x0000019D516867C0>),\n",
       "                                                 ('pipeline-2',\n",
       "                                                  Pipeline(steps=[('simpleimputer',\n",
       "                                                                   SimpleImputer(strategy='most_frequent')),\n",
       "                                                                  ('onehotencoder',\n",
       "                                                                   OneHotEncoder(handle_unknown='ignore'))]),\n",
       "                                                  <sklearn.compose._column_transformer.make_column_selector object at 0x0000019D51686250>)])),\n",
       "                ('decisiontreeregressor',\n",
       "                 DecisionTreeRegressor(random_state=119))])"
      ]
     },
     "execution_count": 274,
     "metadata": {},
     "output_type": "execute_result"
    }
   ],
   "source": [
    "from sklearn.tree import DecisionTreeRegressor\n",
    "\n",
    "tree_reg = make_pipeline(preprocessing, DecisionTreeRegressor(random_state = 119))\n",
    "tree_reg.fit(bike1, bike1_labels)"
   ]
  },
  {
   "cell_type": "code",
   "execution_count": 275,
   "id": "c0154521",
   "metadata": {},
   "outputs": [
    {
     "data": {
      "text/plain": [
       "0.0"
      ]
     },
     "execution_count": 275,
     "metadata": {},
     "output_type": "execute_result"
    }
   ],
   "source": [
    "bike1_predictions = tree_reg.predict(bike1)\n",
    "tree_rmse = mean_squared_error(bike1_labels, bike1_predictions,\n",
    "                              squared = False)\n",
    "tree_rmse"
   ]
  },
  {
   "cell_type": "markdown",
   "id": "f613b14b",
   "metadata": {},
   "source": [
    "#### Model 2 – Selected Outliers Removed"
   ]
  },
  {
   "cell_type": "code",
   "execution_count": 276,
   "id": "9602d6f9",
   "metadata": {
    "scrolled": true
   },
   "outputs": [
    {
     "data": {
      "text/html": [
       "<style>#sk-53d3d00a-3a8e-487f-9e60-0f47ff6f6b7e {color: black;background-color: white;}#sk-53d3d00a-3a8e-487f-9e60-0f47ff6f6b7e pre{padding: 0;}#sk-53d3d00a-3a8e-487f-9e60-0f47ff6f6b7e div.sk-toggleable {background-color: white;}#sk-53d3d00a-3a8e-487f-9e60-0f47ff6f6b7e label.sk-toggleable__label {cursor: pointer;display: block;width: 100%;margin-bottom: 0;padding: 0.3em;box-sizing: border-box;text-align: center;}#sk-53d3d00a-3a8e-487f-9e60-0f47ff6f6b7e label.sk-toggleable__label-arrow:before {content: \"▸\";float: left;margin-right: 0.25em;color: #696969;}#sk-53d3d00a-3a8e-487f-9e60-0f47ff6f6b7e label.sk-toggleable__label-arrow:hover:before {color: black;}#sk-53d3d00a-3a8e-487f-9e60-0f47ff6f6b7e div.sk-estimator:hover label.sk-toggleable__label-arrow:before {color: black;}#sk-53d3d00a-3a8e-487f-9e60-0f47ff6f6b7e div.sk-toggleable__content {max-height: 0;max-width: 0;overflow: hidden;text-align: left;background-color: #f0f8ff;}#sk-53d3d00a-3a8e-487f-9e60-0f47ff6f6b7e div.sk-toggleable__content pre {margin: 0.2em;color: black;border-radius: 0.25em;background-color: #f0f8ff;}#sk-53d3d00a-3a8e-487f-9e60-0f47ff6f6b7e input.sk-toggleable__control:checked~div.sk-toggleable__content {max-height: 200px;max-width: 100%;overflow: auto;}#sk-53d3d00a-3a8e-487f-9e60-0f47ff6f6b7e input.sk-toggleable__control:checked~label.sk-toggleable__label-arrow:before {content: \"▾\";}#sk-53d3d00a-3a8e-487f-9e60-0f47ff6f6b7e div.sk-estimator input.sk-toggleable__control:checked~label.sk-toggleable__label {background-color: #d4ebff;}#sk-53d3d00a-3a8e-487f-9e60-0f47ff6f6b7e div.sk-label input.sk-toggleable__control:checked~label.sk-toggleable__label {background-color: #d4ebff;}#sk-53d3d00a-3a8e-487f-9e60-0f47ff6f6b7e input.sk-hidden--visually {border: 0;clip: rect(1px 1px 1px 1px);clip: rect(1px, 1px, 1px, 1px);height: 1px;margin: -1px;overflow: hidden;padding: 0;position: absolute;width: 1px;}#sk-53d3d00a-3a8e-487f-9e60-0f47ff6f6b7e div.sk-estimator {font-family: monospace;background-color: #f0f8ff;border: 1px dotted black;border-radius: 0.25em;box-sizing: border-box;margin-bottom: 0.5em;}#sk-53d3d00a-3a8e-487f-9e60-0f47ff6f6b7e div.sk-estimator:hover {background-color: #d4ebff;}#sk-53d3d00a-3a8e-487f-9e60-0f47ff6f6b7e div.sk-parallel-item::after {content: \"\";width: 100%;border-bottom: 1px solid gray;flex-grow: 1;}#sk-53d3d00a-3a8e-487f-9e60-0f47ff6f6b7e div.sk-label:hover label.sk-toggleable__label {background-color: #d4ebff;}#sk-53d3d00a-3a8e-487f-9e60-0f47ff6f6b7e div.sk-serial::before {content: \"\";position: absolute;border-left: 1px solid gray;box-sizing: border-box;top: 2em;bottom: 0;left: 50%;}#sk-53d3d00a-3a8e-487f-9e60-0f47ff6f6b7e div.sk-serial {display: flex;flex-direction: column;align-items: center;background-color: white;padding-right: 0.2em;padding-left: 0.2em;}#sk-53d3d00a-3a8e-487f-9e60-0f47ff6f6b7e div.sk-item {z-index: 1;}#sk-53d3d00a-3a8e-487f-9e60-0f47ff6f6b7e div.sk-parallel {display: flex;align-items: stretch;justify-content: center;background-color: white;}#sk-53d3d00a-3a8e-487f-9e60-0f47ff6f6b7e div.sk-parallel::before {content: \"\";position: absolute;border-left: 1px solid gray;box-sizing: border-box;top: 2em;bottom: 0;left: 50%;}#sk-53d3d00a-3a8e-487f-9e60-0f47ff6f6b7e div.sk-parallel-item {display: flex;flex-direction: column;position: relative;background-color: white;}#sk-53d3d00a-3a8e-487f-9e60-0f47ff6f6b7e div.sk-parallel-item:first-child::after {align-self: flex-end;width: 50%;}#sk-53d3d00a-3a8e-487f-9e60-0f47ff6f6b7e div.sk-parallel-item:last-child::after {align-self: flex-start;width: 50%;}#sk-53d3d00a-3a8e-487f-9e60-0f47ff6f6b7e div.sk-parallel-item:only-child::after {width: 0;}#sk-53d3d00a-3a8e-487f-9e60-0f47ff6f6b7e div.sk-dashed-wrapped {border: 1px dashed gray;margin: 0 0.4em 0.5em 0.4em;box-sizing: border-box;padding-bottom: 0.4em;background-color: white;position: relative;}#sk-53d3d00a-3a8e-487f-9e60-0f47ff6f6b7e div.sk-label label {font-family: monospace;font-weight: bold;background-color: white;display: inline-block;line-height: 1.2em;}#sk-53d3d00a-3a8e-487f-9e60-0f47ff6f6b7e div.sk-label-container {position: relative;z-index: 2;text-align: center;}#sk-53d3d00a-3a8e-487f-9e60-0f47ff6f6b7e div.sk-container {/* jupyter's `normalize.less` sets `[hidden] { display: none; }` but bootstrap.min.css set `[hidden] { display: none !important; }` so we also need the `!important` here to be able to override the default hidden behavior on the sphinx rendered scikit-learn.org. See: https://github.com/scikit-learn/scikit-learn/issues/21755 */display: inline-block !important;position: relative;}#sk-53d3d00a-3a8e-487f-9e60-0f47ff6f6b7e div.sk-text-repr-fallback {display: none;}</style><div id=\"sk-53d3d00a-3a8e-487f-9e60-0f47ff6f6b7e\" class=\"sk-top-container\"><div class=\"sk-text-repr-fallback\"><pre>Pipeline(steps=[(&#x27;columntransformer&#x27;,\n",
       "                 ColumnTransformer(transformers=[(&#x27;pipeline-1&#x27;,\n",
       "                                                  Pipeline(steps=[(&#x27;simpleimputer&#x27;,\n",
       "                                                                   SimpleImputer(strategy=&#x27;median&#x27;)),\n",
       "                                                                  (&#x27;standardscaler&#x27;,\n",
       "                                                                   StandardScaler())]),\n",
       "                                                  &lt;sklearn.compose._column_transformer.make_column_selector object at 0x0000019D516867C0&gt;),\n",
       "                                                 (&#x27;pipeline-2&#x27;,\n",
       "                                                  Pipeline(steps=[(&#x27;simpleimputer&#x27;,\n",
       "                                                                   SimpleImputer(strategy=&#x27;most_frequent&#x27;)),\n",
       "                                                                  (&#x27;onehotencoder&#x27;,\n",
       "                                                                   OneHotEncoder(handle_unknown=&#x27;ignore&#x27;))]),\n",
       "                                                  &lt;sklearn.compose._column_transformer.make_column_selector object at 0x0000019D51686250&gt;)])),\n",
       "                (&#x27;linearregression&#x27;, LinearRegression())])</pre><b>Please rerun this cell to show the HTML repr or trust the notebook.</b></div><div class=\"sk-container\" hidden><div class=\"sk-item sk-dashed-wrapped\"><div class=\"sk-label-container\"><div class=\"sk-label sk-toggleable\"><input class=\"sk-toggleable__control sk-hidden--visually\" id=\"ddaa6dcc-2c6c-4fe9-a7cd-76f0926e7c92\" type=\"checkbox\" ><label for=\"ddaa6dcc-2c6c-4fe9-a7cd-76f0926e7c92\" class=\"sk-toggleable__label sk-toggleable__label-arrow\">Pipeline</label><div class=\"sk-toggleable__content\"><pre>Pipeline(steps=[(&#x27;columntransformer&#x27;,\n",
       "                 ColumnTransformer(transformers=[(&#x27;pipeline-1&#x27;,\n",
       "                                                  Pipeline(steps=[(&#x27;simpleimputer&#x27;,\n",
       "                                                                   SimpleImputer(strategy=&#x27;median&#x27;)),\n",
       "                                                                  (&#x27;standardscaler&#x27;,\n",
       "                                                                   StandardScaler())]),\n",
       "                                                  &lt;sklearn.compose._column_transformer.make_column_selector object at 0x0000019D516867C0&gt;),\n",
       "                                                 (&#x27;pipeline-2&#x27;,\n",
       "                                                  Pipeline(steps=[(&#x27;simpleimputer&#x27;,\n",
       "                                                                   SimpleImputer(strategy=&#x27;most_frequent&#x27;)),\n",
       "                                                                  (&#x27;onehotencoder&#x27;,\n",
       "                                                                   OneHotEncoder(handle_unknown=&#x27;ignore&#x27;))]),\n",
       "                                                  &lt;sklearn.compose._column_transformer.make_column_selector object at 0x0000019D51686250&gt;)])),\n",
       "                (&#x27;linearregression&#x27;, LinearRegression())])</pre></div></div></div><div class=\"sk-serial\"><div class=\"sk-item sk-dashed-wrapped\"><div class=\"sk-label-container\"><div class=\"sk-label sk-toggleable\"><input class=\"sk-toggleable__control sk-hidden--visually\" id=\"57983e29-5206-4a22-bddd-6468b9c0bf60\" type=\"checkbox\" ><label for=\"57983e29-5206-4a22-bddd-6468b9c0bf60\" class=\"sk-toggleable__label sk-toggleable__label-arrow\">columntransformer: ColumnTransformer</label><div class=\"sk-toggleable__content\"><pre>ColumnTransformer(transformers=[(&#x27;pipeline-1&#x27;,\n",
       "                                 Pipeline(steps=[(&#x27;simpleimputer&#x27;,\n",
       "                                                  SimpleImputer(strategy=&#x27;median&#x27;)),\n",
       "                                                 (&#x27;standardscaler&#x27;,\n",
       "                                                  StandardScaler())]),\n",
       "                                 &lt;sklearn.compose._column_transformer.make_column_selector object at 0x0000019D516867C0&gt;),\n",
       "                                (&#x27;pipeline-2&#x27;,\n",
       "                                 Pipeline(steps=[(&#x27;simpleimputer&#x27;,\n",
       "                                                  SimpleImputer(strategy=&#x27;most_frequent&#x27;)),\n",
       "                                                 (&#x27;onehotencoder&#x27;,\n",
       "                                                  OneHotEncoder(handle_unknown=&#x27;ignore&#x27;))]),\n",
       "                                 &lt;sklearn.compose._column_transformer.make_column_selector object at 0x0000019D51686250&gt;)])</pre></div></div></div><div class=\"sk-parallel\"><div class=\"sk-parallel-item\"><div class=\"sk-item\"><div class=\"sk-label-container\"><div class=\"sk-label sk-toggleable\"><input class=\"sk-toggleable__control sk-hidden--visually\" id=\"6e3b0d55-dc7e-41c0-9263-d60337475f0b\" type=\"checkbox\" ><label for=\"6e3b0d55-dc7e-41c0-9263-d60337475f0b\" class=\"sk-toggleable__label sk-toggleable__label-arrow\">pipeline-1</label><div class=\"sk-toggleable__content\"><pre>&lt;sklearn.compose._column_transformer.make_column_selector object at 0x0000019D516867C0&gt;</pre></div></div></div><div class=\"sk-serial\"><div class=\"sk-item\"><div class=\"sk-serial\"><div class=\"sk-item\"><div class=\"sk-estimator sk-toggleable\"><input class=\"sk-toggleable__control sk-hidden--visually\" id=\"722c8f3f-b8fd-4509-b5f8-1e6701668659\" type=\"checkbox\" ><label for=\"722c8f3f-b8fd-4509-b5f8-1e6701668659\" class=\"sk-toggleable__label sk-toggleable__label-arrow\">SimpleImputer</label><div class=\"sk-toggleable__content\"><pre>SimpleImputer(strategy=&#x27;median&#x27;)</pre></div></div></div><div class=\"sk-item\"><div class=\"sk-estimator sk-toggleable\"><input class=\"sk-toggleable__control sk-hidden--visually\" id=\"958c64f3-3f17-4054-b776-c4f405ef7918\" type=\"checkbox\" ><label for=\"958c64f3-3f17-4054-b776-c4f405ef7918\" class=\"sk-toggleable__label sk-toggleable__label-arrow\">StandardScaler</label><div class=\"sk-toggleable__content\"><pre>StandardScaler()</pre></div></div></div></div></div></div></div></div><div class=\"sk-parallel-item\"><div class=\"sk-item\"><div class=\"sk-label-container\"><div class=\"sk-label sk-toggleable\"><input class=\"sk-toggleable__control sk-hidden--visually\" id=\"6fd79c88-9564-4015-a153-964f8b4f4288\" type=\"checkbox\" ><label for=\"6fd79c88-9564-4015-a153-964f8b4f4288\" class=\"sk-toggleable__label sk-toggleable__label-arrow\">pipeline-2</label><div class=\"sk-toggleable__content\"><pre>&lt;sklearn.compose._column_transformer.make_column_selector object at 0x0000019D51686250&gt;</pre></div></div></div><div class=\"sk-serial\"><div class=\"sk-item\"><div class=\"sk-serial\"><div class=\"sk-item\"><div class=\"sk-estimator sk-toggleable\"><input class=\"sk-toggleable__control sk-hidden--visually\" id=\"a0628353-dbad-43f9-ba00-d66002033ff2\" type=\"checkbox\" ><label for=\"a0628353-dbad-43f9-ba00-d66002033ff2\" class=\"sk-toggleable__label sk-toggleable__label-arrow\">SimpleImputer</label><div class=\"sk-toggleable__content\"><pre>SimpleImputer(strategy=&#x27;most_frequent&#x27;)</pre></div></div></div><div class=\"sk-item\"><div class=\"sk-estimator sk-toggleable\"><input class=\"sk-toggleable__control sk-hidden--visually\" id=\"8c09a964-7593-45ab-9ba4-eb155d990e94\" type=\"checkbox\" ><label for=\"8c09a964-7593-45ab-9ba4-eb155d990e94\" class=\"sk-toggleable__label sk-toggleable__label-arrow\">OneHotEncoder</label><div class=\"sk-toggleable__content\"><pre>OneHotEncoder(handle_unknown=&#x27;ignore&#x27;)</pre></div></div></div></div></div></div></div></div></div></div><div class=\"sk-item\"><div class=\"sk-estimator sk-toggleable\"><input class=\"sk-toggleable__control sk-hidden--visually\" id=\"8ba58109-3717-4eab-b12d-1a588f179a4f\" type=\"checkbox\" ><label for=\"8ba58109-3717-4eab-b12d-1a588f179a4f\" class=\"sk-toggleable__label sk-toggleable__label-arrow\">LinearRegression</label><div class=\"sk-toggleable__content\"><pre>LinearRegression()</pre></div></div></div></div></div></div></div>"
      ],
      "text/plain": [
       "Pipeline(steps=[('columntransformer',\n",
       "                 ColumnTransformer(transformers=[('pipeline-1',\n",
       "                                                  Pipeline(steps=[('simpleimputer',\n",
       "                                                                   SimpleImputer(strategy='median')),\n",
       "                                                                  ('standardscaler',\n",
       "                                                                   StandardScaler())]),\n",
       "                                                  <sklearn.compose._column_transformer.make_column_selector object at 0x0000019D516867C0>),\n",
       "                                                 ('pipeline-2',\n",
       "                                                  Pipeline(steps=[('simpleimputer',\n",
       "                                                                   SimpleImputer(strategy='most_frequent')),\n",
       "                                                                  ('onehotencoder',\n",
       "                                                                   OneHotEncoder(handle_unknown='ignore'))]),\n",
       "                                                  <sklearn.compose._column_transformer.make_column_selector object at 0x0000019D51686250>)])),\n",
       "                ('linearregression', LinearRegression())])"
      ]
     },
     "execution_count": 276,
     "metadata": {},
     "output_type": "execute_result"
    }
   ],
   "source": [
    "from sklearn.linear_model import LinearRegression\n",
    "\n",
    "lin_reg2 = make_pipeline(preprocessing, LinearRegression())\n",
    "lin_reg2.fit(bike2, bike2_labels)"
   ]
  },
  {
   "cell_type": "code",
   "execution_count": 280,
   "id": "2a7caf24",
   "metadata": {},
   "outputs": [
    {
     "data": {
      "text/plain": [
       "((6234, 17), (6234,))"
      ]
     },
     "execution_count": 280,
     "metadata": {},
     "output_type": "execute_result"
    }
   ],
   "source": [
    "bike2.shape, bike2_labels.shape"
   ]
  },
  {
   "cell_type": "code",
   "execution_count": 281,
   "id": "f4b3c997",
   "metadata": {},
   "outputs": [
    {
     "name": "stdout",
     "output_type": "stream",
     "text": [
      "[ 105.68 1096.64 1776.78 1489.4  1443.67]\n",
      "[  42  793 2166 1557 2270]\n"
     ]
    }
   ],
   "source": [
    "bike2_predictions = lin_reg2.predict(bike2)\n",
    "\n",
    "# Let's look at a few instances\n",
    "print(bike2_predictions[:5].round(2))\n",
    "\n",
    "# and compare to the actual values\n",
    "print(bike2_labels.iloc[:5].values.round(2))"
   ]
  },
  {
   "cell_type": "code",
   "execution_count": 282,
   "id": "618f7970",
   "metadata": {},
   "outputs": [
    {
     "data": {
      "text/plain": [
       "370.6167836219066"
      ]
     },
     "execution_count": 282,
     "metadata": {},
     "output_type": "execute_result"
    }
   ],
   "source": [
    "lin_rmse2 = mean_squared_error(bike2_labels, bike2_predictions,\n",
    "                              squared = False)\n",
    "lin_rmse2"
   ]
  },
  {
   "cell_type": "code",
   "execution_count": 283,
   "id": "f68aea19",
   "metadata": {},
   "outputs": [
    {
     "data": {
      "text/html": [
       "<style>#sk-1beb0aed-7b9d-4ab9-80c5-4c267ab644b5 {color: black;background-color: white;}#sk-1beb0aed-7b9d-4ab9-80c5-4c267ab644b5 pre{padding: 0;}#sk-1beb0aed-7b9d-4ab9-80c5-4c267ab644b5 div.sk-toggleable {background-color: white;}#sk-1beb0aed-7b9d-4ab9-80c5-4c267ab644b5 label.sk-toggleable__label {cursor: pointer;display: block;width: 100%;margin-bottom: 0;padding: 0.3em;box-sizing: border-box;text-align: center;}#sk-1beb0aed-7b9d-4ab9-80c5-4c267ab644b5 label.sk-toggleable__label-arrow:before {content: \"▸\";float: left;margin-right: 0.25em;color: #696969;}#sk-1beb0aed-7b9d-4ab9-80c5-4c267ab644b5 label.sk-toggleable__label-arrow:hover:before {color: black;}#sk-1beb0aed-7b9d-4ab9-80c5-4c267ab644b5 div.sk-estimator:hover label.sk-toggleable__label-arrow:before {color: black;}#sk-1beb0aed-7b9d-4ab9-80c5-4c267ab644b5 div.sk-toggleable__content {max-height: 0;max-width: 0;overflow: hidden;text-align: left;background-color: #f0f8ff;}#sk-1beb0aed-7b9d-4ab9-80c5-4c267ab644b5 div.sk-toggleable__content pre {margin: 0.2em;color: black;border-radius: 0.25em;background-color: #f0f8ff;}#sk-1beb0aed-7b9d-4ab9-80c5-4c267ab644b5 input.sk-toggleable__control:checked~div.sk-toggleable__content {max-height: 200px;max-width: 100%;overflow: auto;}#sk-1beb0aed-7b9d-4ab9-80c5-4c267ab644b5 input.sk-toggleable__control:checked~label.sk-toggleable__label-arrow:before {content: \"▾\";}#sk-1beb0aed-7b9d-4ab9-80c5-4c267ab644b5 div.sk-estimator input.sk-toggleable__control:checked~label.sk-toggleable__label {background-color: #d4ebff;}#sk-1beb0aed-7b9d-4ab9-80c5-4c267ab644b5 div.sk-label input.sk-toggleable__control:checked~label.sk-toggleable__label {background-color: #d4ebff;}#sk-1beb0aed-7b9d-4ab9-80c5-4c267ab644b5 input.sk-hidden--visually {border: 0;clip: rect(1px 1px 1px 1px);clip: rect(1px, 1px, 1px, 1px);height: 1px;margin: -1px;overflow: hidden;padding: 0;position: absolute;width: 1px;}#sk-1beb0aed-7b9d-4ab9-80c5-4c267ab644b5 div.sk-estimator {font-family: monospace;background-color: #f0f8ff;border: 1px dotted black;border-radius: 0.25em;box-sizing: border-box;margin-bottom: 0.5em;}#sk-1beb0aed-7b9d-4ab9-80c5-4c267ab644b5 div.sk-estimator:hover {background-color: #d4ebff;}#sk-1beb0aed-7b9d-4ab9-80c5-4c267ab644b5 div.sk-parallel-item::after {content: \"\";width: 100%;border-bottom: 1px solid gray;flex-grow: 1;}#sk-1beb0aed-7b9d-4ab9-80c5-4c267ab644b5 div.sk-label:hover label.sk-toggleable__label {background-color: #d4ebff;}#sk-1beb0aed-7b9d-4ab9-80c5-4c267ab644b5 div.sk-serial::before {content: \"\";position: absolute;border-left: 1px solid gray;box-sizing: border-box;top: 2em;bottom: 0;left: 50%;}#sk-1beb0aed-7b9d-4ab9-80c5-4c267ab644b5 div.sk-serial {display: flex;flex-direction: column;align-items: center;background-color: white;padding-right: 0.2em;padding-left: 0.2em;}#sk-1beb0aed-7b9d-4ab9-80c5-4c267ab644b5 div.sk-item {z-index: 1;}#sk-1beb0aed-7b9d-4ab9-80c5-4c267ab644b5 div.sk-parallel {display: flex;align-items: stretch;justify-content: center;background-color: white;}#sk-1beb0aed-7b9d-4ab9-80c5-4c267ab644b5 div.sk-parallel::before {content: \"\";position: absolute;border-left: 1px solid gray;box-sizing: border-box;top: 2em;bottom: 0;left: 50%;}#sk-1beb0aed-7b9d-4ab9-80c5-4c267ab644b5 div.sk-parallel-item {display: flex;flex-direction: column;position: relative;background-color: white;}#sk-1beb0aed-7b9d-4ab9-80c5-4c267ab644b5 div.sk-parallel-item:first-child::after {align-self: flex-end;width: 50%;}#sk-1beb0aed-7b9d-4ab9-80c5-4c267ab644b5 div.sk-parallel-item:last-child::after {align-self: flex-start;width: 50%;}#sk-1beb0aed-7b9d-4ab9-80c5-4c267ab644b5 div.sk-parallel-item:only-child::after {width: 0;}#sk-1beb0aed-7b9d-4ab9-80c5-4c267ab644b5 div.sk-dashed-wrapped {border: 1px dashed gray;margin: 0 0.4em 0.5em 0.4em;box-sizing: border-box;padding-bottom: 0.4em;background-color: white;position: relative;}#sk-1beb0aed-7b9d-4ab9-80c5-4c267ab644b5 div.sk-label label {font-family: monospace;font-weight: bold;background-color: white;display: inline-block;line-height: 1.2em;}#sk-1beb0aed-7b9d-4ab9-80c5-4c267ab644b5 div.sk-label-container {position: relative;z-index: 2;text-align: center;}#sk-1beb0aed-7b9d-4ab9-80c5-4c267ab644b5 div.sk-container {/* jupyter's `normalize.less` sets `[hidden] { display: none; }` but bootstrap.min.css set `[hidden] { display: none !important; }` so we also need the `!important` here to be able to override the default hidden behavior on the sphinx rendered scikit-learn.org. See: https://github.com/scikit-learn/scikit-learn/issues/21755 */display: inline-block !important;position: relative;}#sk-1beb0aed-7b9d-4ab9-80c5-4c267ab644b5 div.sk-text-repr-fallback {display: none;}</style><div id=\"sk-1beb0aed-7b9d-4ab9-80c5-4c267ab644b5\" class=\"sk-top-container\"><div class=\"sk-text-repr-fallback\"><pre>Pipeline(steps=[(&#x27;columntransformer&#x27;,\n",
       "                 ColumnTransformer(transformers=[(&#x27;pipeline-1&#x27;,\n",
       "                                                  Pipeline(steps=[(&#x27;simpleimputer&#x27;,\n",
       "                                                                   SimpleImputer(strategy=&#x27;median&#x27;)),\n",
       "                                                                  (&#x27;standardscaler&#x27;,\n",
       "                                                                   StandardScaler())]),\n",
       "                                                  &lt;sklearn.compose._column_transformer.make_column_selector object at 0x0000019D516867C0&gt;),\n",
       "                                                 (&#x27;pipeline-2&#x27;,\n",
       "                                                  Pipeline(steps=[(&#x27;simpleimputer&#x27;,\n",
       "                                                                   SimpleImputer(strategy=&#x27;most_frequent&#x27;)),\n",
       "                                                                  (&#x27;onehotencoder&#x27;,\n",
       "                                                                   OneHotEncoder(handle_unknown=&#x27;ignore&#x27;))]),\n",
       "                                                  &lt;sklearn.compose._column_transformer.make_column_selector object at 0x0000019D51686250&gt;)])),\n",
       "                (&#x27;decisiontreeregressor&#x27;,\n",
       "                 DecisionTreeRegressor(random_state=119))])</pre><b>Please rerun this cell to show the HTML repr or trust the notebook.</b></div><div class=\"sk-container\" hidden><div class=\"sk-item sk-dashed-wrapped\"><div class=\"sk-label-container\"><div class=\"sk-label sk-toggleable\"><input class=\"sk-toggleable__control sk-hidden--visually\" id=\"52a26491-7f50-459a-ad36-a12b9718102a\" type=\"checkbox\" ><label for=\"52a26491-7f50-459a-ad36-a12b9718102a\" class=\"sk-toggleable__label sk-toggleable__label-arrow\">Pipeline</label><div class=\"sk-toggleable__content\"><pre>Pipeline(steps=[(&#x27;columntransformer&#x27;,\n",
       "                 ColumnTransformer(transformers=[(&#x27;pipeline-1&#x27;,\n",
       "                                                  Pipeline(steps=[(&#x27;simpleimputer&#x27;,\n",
       "                                                                   SimpleImputer(strategy=&#x27;median&#x27;)),\n",
       "                                                                  (&#x27;standardscaler&#x27;,\n",
       "                                                                   StandardScaler())]),\n",
       "                                                  &lt;sklearn.compose._column_transformer.make_column_selector object at 0x0000019D516867C0&gt;),\n",
       "                                                 (&#x27;pipeline-2&#x27;,\n",
       "                                                  Pipeline(steps=[(&#x27;simpleimputer&#x27;,\n",
       "                                                                   SimpleImputer(strategy=&#x27;most_frequent&#x27;)),\n",
       "                                                                  (&#x27;onehotencoder&#x27;,\n",
       "                                                                   OneHotEncoder(handle_unknown=&#x27;ignore&#x27;))]),\n",
       "                                                  &lt;sklearn.compose._column_transformer.make_column_selector object at 0x0000019D51686250&gt;)])),\n",
       "                (&#x27;decisiontreeregressor&#x27;,\n",
       "                 DecisionTreeRegressor(random_state=119))])</pre></div></div></div><div class=\"sk-serial\"><div class=\"sk-item sk-dashed-wrapped\"><div class=\"sk-label-container\"><div class=\"sk-label sk-toggleable\"><input class=\"sk-toggleable__control sk-hidden--visually\" id=\"bda9e206-b656-4aa6-b37a-5d70098895f6\" type=\"checkbox\" ><label for=\"bda9e206-b656-4aa6-b37a-5d70098895f6\" class=\"sk-toggleable__label sk-toggleable__label-arrow\">columntransformer: ColumnTransformer</label><div class=\"sk-toggleable__content\"><pre>ColumnTransformer(transformers=[(&#x27;pipeline-1&#x27;,\n",
       "                                 Pipeline(steps=[(&#x27;simpleimputer&#x27;,\n",
       "                                                  SimpleImputer(strategy=&#x27;median&#x27;)),\n",
       "                                                 (&#x27;standardscaler&#x27;,\n",
       "                                                  StandardScaler())]),\n",
       "                                 &lt;sklearn.compose._column_transformer.make_column_selector object at 0x0000019D516867C0&gt;),\n",
       "                                (&#x27;pipeline-2&#x27;,\n",
       "                                 Pipeline(steps=[(&#x27;simpleimputer&#x27;,\n",
       "                                                  SimpleImputer(strategy=&#x27;most_frequent&#x27;)),\n",
       "                                                 (&#x27;onehotencoder&#x27;,\n",
       "                                                  OneHotEncoder(handle_unknown=&#x27;ignore&#x27;))]),\n",
       "                                 &lt;sklearn.compose._column_transformer.make_column_selector object at 0x0000019D51686250&gt;)])</pre></div></div></div><div class=\"sk-parallel\"><div class=\"sk-parallel-item\"><div class=\"sk-item\"><div class=\"sk-label-container\"><div class=\"sk-label sk-toggleable\"><input class=\"sk-toggleable__control sk-hidden--visually\" id=\"edc2f206-1d1e-46d4-8028-15babb117c0a\" type=\"checkbox\" ><label for=\"edc2f206-1d1e-46d4-8028-15babb117c0a\" class=\"sk-toggleable__label sk-toggleable__label-arrow\">pipeline-1</label><div class=\"sk-toggleable__content\"><pre>&lt;sklearn.compose._column_transformer.make_column_selector object at 0x0000019D516867C0&gt;</pre></div></div></div><div class=\"sk-serial\"><div class=\"sk-item\"><div class=\"sk-serial\"><div class=\"sk-item\"><div class=\"sk-estimator sk-toggleable\"><input class=\"sk-toggleable__control sk-hidden--visually\" id=\"92b35998-dad7-41d7-a604-a0fd0bbe8fe6\" type=\"checkbox\" ><label for=\"92b35998-dad7-41d7-a604-a0fd0bbe8fe6\" class=\"sk-toggleable__label sk-toggleable__label-arrow\">SimpleImputer</label><div class=\"sk-toggleable__content\"><pre>SimpleImputer(strategy=&#x27;median&#x27;)</pre></div></div></div><div class=\"sk-item\"><div class=\"sk-estimator sk-toggleable\"><input class=\"sk-toggleable__control sk-hidden--visually\" id=\"3bfc4084-3f7a-43eb-bcbe-acc17b773071\" type=\"checkbox\" ><label for=\"3bfc4084-3f7a-43eb-bcbe-acc17b773071\" class=\"sk-toggleable__label sk-toggleable__label-arrow\">StandardScaler</label><div class=\"sk-toggleable__content\"><pre>StandardScaler()</pre></div></div></div></div></div></div></div></div><div class=\"sk-parallel-item\"><div class=\"sk-item\"><div class=\"sk-label-container\"><div class=\"sk-label sk-toggleable\"><input class=\"sk-toggleable__control sk-hidden--visually\" id=\"9f7759e8-a463-4a20-b0db-0178aa475277\" type=\"checkbox\" ><label for=\"9f7759e8-a463-4a20-b0db-0178aa475277\" class=\"sk-toggleable__label sk-toggleable__label-arrow\">pipeline-2</label><div class=\"sk-toggleable__content\"><pre>&lt;sklearn.compose._column_transformer.make_column_selector object at 0x0000019D51686250&gt;</pre></div></div></div><div class=\"sk-serial\"><div class=\"sk-item\"><div class=\"sk-serial\"><div class=\"sk-item\"><div class=\"sk-estimator sk-toggleable\"><input class=\"sk-toggleable__control sk-hidden--visually\" id=\"4102c674-fcb9-4409-8fd9-e84a7135b935\" type=\"checkbox\" ><label for=\"4102c674-fcb9-4409-8fd9-e84a7135b935\" class=\"sk-toggleable__label sk-toggleable__label-arrow\">SimpleImputer</label><div class=\"sk-toggleable__content\"><pre>SimpleImputer(strategy=&#x27;most_frequent&#x27;)</pre></div></div></div><div class=\"sk-item\"><div class=\"sk-estimator sk-toggleable\"><input class=\"sk-toggleable__control sk-hidden--visually\" id=\"82a4ec3c-9acf-49cf-9b52-7a222b5744e5\" type=\"checkbox\" ><label for=\"82a4ec3c-9acf-49cf-9b52-7a222b5744e5\" class=\"sk-toggleable__label sk-toggleable__label-arrow\">OneHotEncoder</label><div class=\"sk-toggleable__content\"><pre>OneHotEncoder(handle_unknown=&#x27;ignore&#x27;)</pre></div></div></div></div></div></div></div></div></div></div><div class=\"sk-item\"><div class=\"sk-estimator sk-toggleable\"><input class=\"sk-toggleable__control sk-hidden--visually\" id=\"6ad537b4-7182-44c7-8aa5-afa17666f2f6\" type=\"checkbox\" ><label for=\"6ad537b4-7182-44c7-8aa5-afa17666f2f6\" class=\"sk-toggleable__label sk-toggleable__label-arrow\">DecisionTreeRegressor</label><div class=\"sk-toggleable__content\"><pre>DecisionTreeRegressor(random_state=119)</pre></div></div></div></div></div></div></div>"
      ],
      "text/plain": [
       "Pipeline(steps=[('columntransformer',\n",
       "                 ColumnTransformer(transformers=[('pipeline-1',\n",
       "                                                  Pipeline(steps=[('simpleimputer',\n",
       "                                                                   SimpleImputer(strategy='median')),\n",
       "                                                                  ('standardscaler',\n",
       "                                                                   StandardScaler())]),\n",
       "                                                  <sklearn.compose._column_transformer.make_column_selector object at 0x0000019D516867C0>),\n",
       "                                                 ('pipeline-2',\n",
       "                                                  Pipeline(steps=[('simpleimputer',\n",
       "                                                                   SimpleImputer(strategy='most_frequent')),\n",
       "                                                                  ('onehotencoder',\n",
       "                                                                   OneHotEncoder(handle_unknown='ignore'))]),\n",
       "                                                  <sklearn.compose._column_transformer.make_column_selector object at 0x0000019D51686250>)])),\n",
       "                ('decisiontreeregressor',\n",
       "                 DecisionTreeRegressor(random_state=119))])"
      ]
     },
     "execution_count": 283,
     "metadata": {},
     "output_type": "execute_result"
    }
   ],
   "source": [
    "tree_reg2 = make_pipeline(preprocessing, DecisionTreeRegressor(random_state = 119))\n",
    "tree_reg2.fit(bike2, bike2_labels)"
   ]
  },
  {
   "cell_type": "code",
   "execution_count": 284,
   "id": "e1ddc15c",
   "metadata": {},
   "outputs": [
    {
     "data": {
      "text/plain": [
       "0.0"
      ]
     },
     "execution_count": 284,
     "metadata": {},
     "output_type": "execute_result"
    }
   ],
   "source": [
    "bike2_predictions = tree_reg2.predict(bike2)\n",
    "tree_rmse2 = mean_squared_error(bike2_labels, bike2_predictions,\n",
    "                              squared = False)\n",
    "tree_rmse2"
   ]
  },
  {
   "cell_type": "markdown",
   "id": "76ae1e13",
   "metadata": {},
   "source": [
    "## Better Evaluation Using Cross-Validation"
   ]
  },
  {
   "cell_type": "markdown",
   "id": "9983f581",
   "metadata": {},
   "source": [
    "#### Model 1 – All Outliers Removed"
   ]
  },
  {
   "cell_type": "code",
   "execution_count": 285,
   "id": "212aef53",
   "metadata": {},
   "outputs": [],
   "source": [
    "from sklearn.model_selection import cross_val_score\n",
    "\n",
    "tree_rmses = -cross_val_score(tree_reg, bike1, bike1_labels,\n",
    "                              scoring = 'neg_root_mean_squared_error', cv = 10)"
   ]
  },
  {
   "cell_type": "code",
   "execution_count": 286,
   "id": "944f6324",
   "metadata": {},
   "outputs": [
    {
     "data": {
      "text/plain": [
       "count     10.000000\n",
       "mean     247.529391\n",
       "std       14.814559\n",
       "min      220.430490\n",
       "25%      240.022533\n",
       "50%      247.924554\n",
       "75%      256.865323\n",
       "max      268.978721\n",
       "dtype: float64"
      ]
     },
     "execution_count": 286,
     "metadata": {},
     "output_type": "execute_result"
    }
   ],
   "source": [
    "pd.Series(tree_rmses).describe()"
   ]
  },
  {
   "cell_type": "code",
   "execution_count": 287,
   "id": "3fda016c",
   "metadata": {},
   "outputs": [],
   "source": [
    "from sklearn.ensemble import RandomForestRegressor\n",
    "\n",
    "forest_reg = make_pipeline(preprocessing,\n",
    "                           RandomForestRegressor(random_state = 119))\n",
    "forest_rmses = -cross_val_score(forest_reg, bike1, bike1_labels,\n",
    "                                scoring = 'neg_root_mean_squared_error', cv = 10)"
   ]
  },
  {
   "cell_type": "code",
   "execution_count": 288,
   "id": "409aadc2",
   "metadata": {},
   "outputs": [
    {
     "data": {
      "text/plain": [
       "count     10.000000\n",
       "mean     182.167703\n",
       "std        9.675572\n",
       "min      165.281399\n",
       "25%      179.550689\n",
       "50%      182.258386\n",
       "75%      189.714116\n",
       "max      194.594816\n",
       "dtype: float64"
      ]
     },
     "execution_count": 288,
     "metadata": {},
     "output_type": "execute_result"
    }
   ],
   "source": [
    "pd.Series(forest_rmses).describe()"
   ]
  },
  {
   "cell_type": "code",
   "execution_count": 296,
   "id": "927a54f1",
   "metadata": {},
   "outputs": [
    {
     "data": {
      "text/plain": [
       "66.33658239942535"
      ]
     },
     "execution_count": 296,
     "metadata": {},
     "output_type": "execute_result"
    }
   ],
   "source": [
    "forest_reg.fit(bike1, bike1_labels)\n",
    "bike1_predictions = forest_reg.predict(bike1)\n",
    "forest_rmse = mean_squared_error(bike1_labels, bike1_predictions,\n",
    "                                 squared = False)\n",
    "forest_rmse"
   ]
  },
  {
   "cell_type": "markdown",
   "id": "caa37e41",
   "metadata": {},
   "source": [
    "#### Model 2 – Selected Outliers Removed"
   ]
  },
  {
   "cell_type": "code",
   "execution_count": 292,
   "id": "ce000ba1",
   "metadata": {},
   "outputs": [],
   "source": [
    "tree_rmses2 = -cross_val_score(tree_reg, bike2, bike2_labels,\n",
    "                              scoring = 'neg_root_mean_squared_error', cv = 10)"
   ]
  },
  {
   "cell_type": "code",
   "execution_count": 293,
   "id": "6971a1a8",
   "metadata": {},
   "outputs": [
    {
     "data": {
      "text/plain": [
       "count     10.000000\n",
       "mean     235.724247\n",
       "std       14.831111\n",
       "min      213.179986\n",
       "25%      223.313225\n",
       "50%      237.641842\n",
       "75%      241.261043\n",
       "max      256.872354\n",
       "dtype: float64"
      ]
     },
     "execution_count": 293,
     "metadata": {},
     "output_type": "execute_result"
    }
   ],
   "source": [
    "pd.Series(tree_rmses2).describe()"
   ]
  },
  {
   "cell_type": "code",
   "execution_count": 294,
   "id": "ad02896e",
   "metadata": {},
   "outputs": [],
   "source": [
    "forest_reg2 = make_pipeline(preprocessing,\n",
    "                           RandomForestRegressor(random_state = 119))\n",
    "forest_rmses2 = -cross_val_score(forest_reg2, bike2, bike2_labels,\n",
    "                                scoring = 'neg_root_mean_squared_error', cv = 10)"
   ]
  },
  {
   "cell_type": "code",
   "execution_count": 295,
   "id": "09c83030",
   "metadata": {},
   "outputs": [
    {
     "data": {
      "text/plain": [
       "count     10.000000\n",
       "mean     168.366456\n",
       "std       12.868270\n",
       "min      147.770404\n",
       "25%      164.128290\n",
       "50%      166.168973\n",
       "75%      178.771851\n",
       "max      188.263019\n",
       "dtype: float64"
      ]
     },
     "execution_count": 295,
     "metadata": {},
     "output_type": "execute_result"
    }
   ],
   "source": [
    "pd.Series(forest_rmses2).describe()"
   ]
  },
  {
   "cell_type": "code",
   "execution_count": 297,
   "id": "a3af09a9",
   "metadata": {},
   "outputs": [
    {
     "data": {
      "text/plain": [
       "61.848814090581335"
      ]
     },
     "execution_count": 297,
     "metadata": {},
     "output_type": "execute_result"
    }
   ],
   "source": [
    "forest_reg2.fit(bike2, bike2_labels)\n",
    "bike2_predictions = forest_reg2.predict(bike2)\n",
    "forest_rmse2 = mean_squared_error(bike2_labels, bike2_predictions,\n",
    "                                 squared = False)\n",
    "forest_rmse2"
   ]
  },
  {
   "cell_type": "markdown",
   "id": "1b7a4041",
   "metadata": {},
   "source": [
    "Overall, it seems that my intuition of not removing all of the outliers is indeed giving us slightly better results, so it is the model I will be fine-tuning moving forward"
   ]
  },
  {
   "cell_type": "markdown",
   "id": "d1ce6e32",
   "metadata": {},
   "source": [
    "## Fine-Tune Your Model"
   ]
  },
  {
   "cell_type": "markdown",
   "id": "34d8e5e5",
   "metadata": {},
   "source": [
    "### Grid Search"
   ]
  },
  {
   "cell_type": "code",
   "execution_count": 299,
   "id": "25afed25",
   "metadata": {},
   "outputs": [
    {
     "data": {
      "text/html": [
       "<style>#sk-5b9971fa-279e-463e-b36c-a10d54f53630 {color: black;background-color: white;}#sk-5b9971fa-279e-463e-b36c-a10d54f53630 pre{padding: 0;}#sk-5b9971fa-279e-463e-b36c-a10d54f53630 div.sk-toggleable {background-color: white;}#sk-5b9971fa-279e-463e-b36c-a10d54f53630 label.sk-toggleable__label {cursor: pointer;display: block;width: 100%;margin-bottom: 0;padding: 0.3em;box-sizing: border-box;text-align: center;}#sk-5b9971fa-279e-463e-b36c-a10d54f53630 label.sk-toggleable__label-arrow:before {content: \"▸\";float: left;margin-right: 0.25em;color: #696969;}#sk-5b9971fa-279e-463e-b36c-a10d54f53630 label.sk-toggleable__label-arrow:hover:before {color: black;}#sk-5b9971fa-279e-463e-b36c-a10d54f53630 div.sk-estimator:hover label.sk-toggleable__label-arrow:before {color: black;}#sk-5b9971fa-279e-463e-b36c-a10d54f53630 div.sk-toggleable__content {max-height: 0;max-width: 0;overflow: hidden;text-align: left;background-color: #f0f8ff;}#sk-5b9971fa-279e-463e-b36c-a10d54f53630 div.sk-toggleable__content pre {margin: 0.2em;color: black;border-radius: 0.25em;background-color: #f0f8ff;}#sk-5b9971fa-279e-463e-b36c-a10d54f53630 input.sk-toggleable__control:checked~div.sk-toggleable__content {max-height: 200px;max-width: 100%;overflow: auto;}#sk-5b9971fa-279e-463e-b36c-a10d54f53630 input.sk-toggleable__control:checked~label.sk-toggleable__label-arrow:before {content: \"▾\";}#sk-5b9971fa-279e-463e-b36c-a10d54f53630 div.sk-estimator input.sk-toggleable__control:checked~label.sk-toggleable__label {background-color: #d4ebff;}#sk-5b9971fa-279e-463e-b36c-a10d54f53630 div.sk-label input.sk-toggleable__control:checked~label.sk-toggleable__label {background-color: #d4ebff;}#sk-5b9971fa-279e-463e-b36c-a10d54f53630 input.sk-hidden--visually {border: 0;clip: rect(1px 1px 1px 1px);clip: rect(1px, 1px, 1px, 1px);height: 1px;margin: -1px;overflow: hidden;padding: 0;position: absolute;width: 1px;}#sk-5b9971fa-279e-463e-b36c-a10d54f53630 div.sk-estimator {font-family: monospace;background-color: #f0f8ff;border: 1px dotted black;border-radius: 0.25em;box-sizing: border-box;margin-bottom: 0.5em;}#sk-5b9971fa-279e-463e-b36c-a10d54f53630 div.sk-estimator:hover {background-color: #d4ebff;}#sk-5b9971fa-279e-463e-b36c-a10d54f53630 div.sk-parallel-item::after {content: \"\";width: 100%;border-bottom: 1px solid gray;flex-grow: 1;}#sk-5b9971fa-279e-463e-b36c-a10d54f53630 div.sk-label:hover label.sk-toggleable__label {background-color: #d4ebff;}#sk-5b9971fa-279e-463e-b36c-a10d54f53630 div.sk-serial::before {content: \"\";position: absolute;border-left: 1px solid gray;box-sizing: border-box;top: 2em;bottom: 0;left: 50%;}#sk-5b9971fa-279e-463e-b36c-a10d54f53630 div.sk-serial {display: flex;flex-direction: column;align-items: center;background-color: white;padding-right: 0.2em;padding-left: 0.2em;}#sk-5b9971fa-279e-463e-b36c-a10d54f53630 div.sk-item {z-index: 1;}#sk-5b9971fa-279e-463e-b36c-a10d54f53630 div.sk-parallel {display: flex;align-items: stretch;justify-content: center;background-color: white;}#sk-5b9971fa-279e-463e-b36c-a10d54f53630 div.sk-parallel::before {content: \"\";position: absolute;border-left: 1px solid gray;box-sizing: border-box;top: 2em;bottom: 0;left: 50%;}#sk-5b9971fa-279e-463e-b36c-a10d54f53630 div.sk-parallel-item {display: flex;flex-direction: column;position: relative;background-color: white;}#sk-5b9971fa-279e-463e-b36c-a10d54f53630 div.sk-parallel-item:first-child::after {align-self: flex-end;width: 50%;}#sk-5b9971fa-279e-463e-b36c-a10d54f53630 div.sk-parallel-item:last-child::after {align-self: flex-start;width: 50%;}#sk-5b9971fa-279e-463e-b36c-a10d54f53630 div.sk-parallel-item:only-child::after {width: 0;}#sk-5b9971fa-279e-463e-b36c-a10d54f53630 div.sk-dashed-wrapped {border: 1px dashed gray;margin: 0 0.4em 0.5em 0.4em;box-sizing: border-box;padding-bottom: 0.4em;background-color: white;position: relative;}#sk-5b9971fa-279e-463e-b36c-a10d54f53630 div.sk-label label {font-family: monospace;font-weight: bold;background-color: white;display: inline-block;line-height: 1.2em;}#sk-5b9971fa-279e-463e-b36c-a10d54f53630 div.sk-label-container {position: relative;z-index: 2;text-align: center;}#sk-5b9971fa-279e-463e-b36c-a10d54f53630 div.sk-container {/* jupyter's `normalize.less` sets `[hidden] { display: none; }` but bootstrap.min.css set `[hidden] { display: none !important; }` so we also need the `!important` here to be able to override the default hidden behavior on the sphinx rendered scikit-learn.org. See: https://github.com/scikit-learn/scikit-learn/issues/21755 */display: inline-block !important;position: relative;}#sk-5b9971fa-279e-463e-b36c-a10d54f53630 div.sk-text-repr-fallback {display: none;}</style><div id=\"sk-5b9971fa-279e-463e-b36c-a10d54f53630\" class=\"sk-top-container\"><div class=\"sk-text-repr-fallback\"><pre>GridSearchCV(cv=3,\n",
       "             estimator=Pipeline(steps=[(&#x27;preprocessing&#x27;,\n",
       "                                        ColumnTransformer(transformers=[(&#x27;pipeline-1&#x27;,\n",
       "                                                                         Pipeline(steps=[(&#x27;simpleimputer&#x27;,\n",
       "                                                                                          SimpleImputer(strategy=&#x27;median&#x27;)),\n",
       "                                                                                         (&#x27;standardscaler&#x27;,\n",
       "                                                                                          StandardScaler())]),\n",
       "                                                                         &lt;sklearn.compose._column_transformer.make_column_selector object at 0x0000019D516867C0&gt;),\n",
       "                                                                        (&#x27;pipeline-2&#x27;,\n",
       "                                                                         Pipeline(steps=[(&#x27;simpleimputer&#x27;,\n",
       "                                                                                          Simpl...equent&#x27;)),\n",
       "                                                                                         (&#x27;onehotencoder&#x27;,\n",
       "                                                                                          OneHotEncoder(handle_unknown=&#x27;ignore&#x27;))]),\n",
       "                                                                         &lt;sklearn.compose._column_transformer.make_column_selector object at 0x0000019D51686250&gt;)])),\n",
       "                                       (&#x27;random_forest&#x27;,\n",
       "                                        RandomForestRegressor(random_state=119))]),\n",
       "             param_grid=[{&#x27;random_forest__max_features&#x27;: [4, 6, 8]},\n",
       "                         {&#x27;random_forest__max_features&#x27;: [6, 8, 10]}],\n",
       "             scoring=&#x27;neg_root_mean_squared_error&#x27;)</pre><b>Please rerun this cell to show the HTML repr or trust the notebook.</b></div><div class=\"sk-container\" hidden><div class=\"sk-item sk-dashed-wrapped\"><div class=\"sk-label-container\"><div class=\"sk-label sk-toggleable\"><input class=\"sk-toggleable__control sk-hidden--visually\" id=\"8fe8fb35-19ef-464b-aa45-016cbc2d7cbc\" type=\"checkbox\" ><label for=\"8fe8fb35-19ef-464b-aa45-016cbc2d7cbc\" class=\"sk-toggleable__label sk-toggleable__label-arrow\">GridSearchCV</label><div class=\"sk-toggleable__content\"><pre>GridSearchCV(cv=3,\n",
       "             estimator=Pipeline(steps=[(&#x27;preprocessing&#x27;,\n",
       "                                        ColumnTransformer(transformers=[(&#x27;pipeline-1&#x27;,\n",
       "                                                                         Pipeline(steps=[(&#x27;simpleimputer&#x27;,\n",
       "                                                                                          SimpleImputer(strategy=&#x27;median&#x27;)),\n",
       "                                                                                         (&#x27;standardscaler&#x27;,\n",
       "                                                                                          StandardScaler())]),\n",
       "                                                                         &lt;sklearn.compose._column_transformer.make_column_selector object at 0x0000019D516867C0&gt;),\n",
       "                                                                        (&#x27;pipeline-2&#x27;,\n",
       "                                                                         Pipeline(steps=[(&#x27;simpleimputer&#x27;,\n",
       "                                                                                          Simpl...equent&#x27;)),\n",
       "                                                                                         (&#x27;onehotencoder&#x27;,\n",
       "                                                                                          OneHotEncoder(handle_unknown=&#x27;ignore&#x27;))]),\n",
       "                                                                         &lt;sklearn.compose._column_transformer.make_column_selector object at 0x0000019D51686250&gt;)])),\n",
       "                                       (&#x27;random_forest&#x27;,\n",
       "                                        RandomForestRegressor(random_state=119))]),\n",
       "             param_grid=[{&#x27;random_forest__max_features&#x27;: [4, 6, 8]},\n",
       "                         {&#x27;random_forest__max_features&#x27;: [6, 8, 10]}],\n",
       "             scoring=&#x27;neg_root_mean_squared_error&#x27;)</pre></div></div></div><div class=\"sk-parallel\"><div class=\"sk-parallel-item\"><div class=\"sk-item\"><div class=\"sk-serial\"><div class=\"sk-item\"><div class=\"sk-serial\"><div class=\"sk-item sk-dashed-wrapped\"><div class=\"sk-label-container\"><div class=\"sk-label sk-toggleable\"><input class=\"sk-toggleable__control sk-hidden--visually\" id=\"5dc390aa-fd6f-4b4c-b9c8-cb7366ab3503\" type=\"checkbox\" ><label for=\"5dc390aa-fd6f-4b4c-b9c8-cb7366ab3503\" class=\"sk-toggleable__label sk-toggleable__label-arrow\">preprocessing: ColumnTransformer</label><div class=\"sk-toggleable__content\"><pre>ColumnTransformer(transformers=[(&#x27;pipeline-1&#x27;,\n",
       "                                 Pipeline(steps=[(&#x27;simpleimputer&#x27;,\n",
       "                                                  SimpleImputer(strategy=&#x27;median&#x27;)),\n",
       "                                                 (&#x27;standardscaler&#x27;,\n",
       "                                                  StandardScaler())]),\n",
       "                                 &lt;sklearn.compose._column_transformer.make_column_selector object at 0x0000019D516867C0&gt;),\n",
       "                                (&#x27;pipeline-2&#x27;,\n",
       "                                 Pipeline(steps=[(&#x27;simpleimputer&#x27;,\n",
       "                                                  SimpleImputer(strategy=&#x27;most_frequent&#x27;)),\n",
       "                                                 (&#x27;onehotencoder&#x27;,\n",
       "                                                  OneHotEncoder(handle_unknown=&#x27;ignore&#x27;))]),\n",
       "                                 &lt;sklearn.compose._column_transformer.make_column_selector object at 0x0000019D51686250&gt;)])</pre></div></div></div><div class=\"sk-parallel\"><div class=\"sk-parallel-item\"><div class=\"sk-item\"><div class=\"sk-label-container\"><div class=\"sk-label sk-toggleable\"><input class=\"sk-toggleable__control sk-hidden--visually\" id=\"41e63d6e-7e23-48c6-99be-d27985d37a38\" type=\"checkbox\" ><label for=\"41e63d6e-7e23-48c6-99be-d27985d37a38\" class=\"sk-toggleable__label sk-toggleable__label-arrow\">pipeline-1</label><div class=\"sk-toggleable__content\"><pre>&lt;sklearn.compose._column_transformer.make_column_selector object at 0x0000019D516867C0&gt;</pre></div></div></div><div class=\"sk-serial\"><div class=\"sk-item\"><div class=\"sk-serial\"><div class=\"sk-item\"><div class=\"sk-estimator sk-toggleable\"><input class=\"sk-toggleable__control sk-hidden--visually\" id=\"b1e86fa5-3dca-4c16-b1a7-d027f72f1258\" type=\"checkbox\" ><label for=\"b1e86fa5-3dca-4c16-b1a7-d027f72f1258\" class=\"sk-toggleable__label sk-toggleable__label-arrow\">SimpleImputer</label><div class=\"sk-toggleable__content\"><pre>SimpleImputer(strategy=&#x27;median&#x27;)</pre></div></div></div><div class=\"sk-item\"><div class=\"sk-estimator sk-toggleable\"><input class=\"sk-toggleable__control sk-hidden--visually\" id=\"7bedbb4d-721a-487b-989f-e6d602514846\" type=\"checkbox\" ><label for=\"7bedbb4d-721a-487b-989f-e6d602514846\" class=\"sk-toggleable__label sk-toggleable__label-arrow\">StandardScaler</label><div class=\"sk-toggleable__content\"><pre>StandardScaler()</pre></div></div></div></div></div></div></div></div><div class=\"sk-parallel-item\"><div class=\"sk-item\"><div class=\"sk-label-container\"><div class=\"sk-label sk-toggleable\"><input class=\"sk-toggleable__control sk-hidden--visually\" id=\"cd1dba2c-c183-4a9a-a8d8-2d7999dc1af5\" type=\"checkbox\" ><label for=\"cd1dba2c-c183-4a9a-a8d8-2d7999dc1af5\" class=\"sk-toggleable__label sk-toggleable__label-arrow\">pipeline-2</label><div class=\"sk-toggleable__content\"><pre>&lt;sklearn.compose._column_transformer.make_column_selector object at 0x0000019D51686250&gt;</pre></div></div></div><div class=\"sk-serial\"><div class=\"sk-item\"><div class=\"sk-serial\"><div class=\"sk-item\"><div class=\"sk-estimator sk-toggleable\"><input class=\"sk-toggleable__control sk-hidden--visually\" id=\"080704af-fd7c-4500-9c9c-a5c97c6aea38\" type=\"checkbox\" ><label for=\"080704af-fd7c-4500-9c9c-a5c97c6aea38\" class=\"sk-toggleable__label sk-toggleable__label-arrow\">SimpleImputer</label><div class=\"sk-toggleable__content\"><pre>SimpleImputer(strategy=&#x27;most_frequent&#x27;)</pre></div></div></div><div class=\"sk-item\"><div class=\"sk-estimator sk-toggleable\"><input class=\"sk-toggleable__control sk-hidden--visually\" id=\"95ac075a-83ac-461f-bf14-753af6ea5d91\" type=\"checkbox\" ><label for=\"95ac075a-83ac-461f-bf14-753af6ea5d91\" class=\"sk-toggleable__label sk-toggleable__label-arrow\">OneHotEncoder</label><div class=\"sk-toggleable__content\"><pre>OneHotEncoder(handle_unknown=&#x27;ignore&#x27;)</pre></div></div></div></div></div></div></div></div></div></div><div class=\"sk-item\"><div class=\"sk-estimator sk-toggleable\"><input class=\"sk-toggleable__control sk-hidden--visually\" id=\"af2bffa7-3b66-4383-b47b-486390450c3c\" type=\"checkbox\" ><label for=\"af2bffa7-3b66-4383-b47b-486390450c3c\" class=\"sk-toggleable__label sk-toggleable__label-arrow\">RandomForestRegressor</label><div class=\"sk-toggleable__content\"><pre>RandomForestRegressor(random_state=119)</pre></div></div></div></div></div></div></div></div></div></div></div></div>"
      ],
      "text/plain": [
       "GridSearchCV(cv=3,\n",
       "             estimator=Pipeline(steps=[('preprocessing',\n",
       "                                        ColumnTransformer(transformers=[('pipeline-1',\n",
       "                                                                         Pipeline(steps=[('simpleimputer',\n",
       "                                                                                          SimpleImputer(strategy='median')),\n",
       "                                                                                         ('standardscaler',\n",
       "                                                                                          StandardScaler())]),\n",
       "                                                                         <sklearn.compose._column_transformer.make_column_selector object at 0x0000019D516867C0>),\n",
       "                                                                        ('pipeline-2',\n",
       "                                                                         Pipeline(steps=[('simpleimputer',\n",
       "                                                                                          Simpl...equent')),\n",
       "                                                                                         ('onehotencoder',\n",
       "                                                                                          OneHotEncoder(handle_unknown='ignore'))]),\n",
       "                                                                         <sklearn.compose._column_transformer.make_column_selector object at 0x0000019D51686250>)])),\n",
       "                                       ('random_forest',\n",
       "                                        RandomForestRegressor(random_state=119))]),\n",
       "             param_grid=[{'random_forest__max_features': [4, 6, 8]},\n",
       "                         {'random_forest__max_features': [6, 8, 10]}],\n",
       "             scoring='neg_root_mean_squared_error')"
      ]
     },
     "execution_count": 299,
     "metadata": {},
     "output_type": "execute_result"
    }
   ],
   "source": [
    "from sklearn.model_selection import GridSearchCV\n",
    "\n",
    "full_pipeline = Pipeline([\n",
    "    ('preprocessing', preprocessing),\n",
    "    ('random_forest', RandomForestRegressor(random_state = 119)),\n",
    "])\n",
    "param_grid = [\n",
    "    {'random_forest__max_features': [4, 6, 8]},\n",
    "    {'random_forest__max_features': [6, 8, 10]},\n",
    "]\n",
    "grid_search = GridSearchCV(full_pipeline, param_grid, cv = 3,\n",
    "                           scoring = 'neg_root_mean_squared_error')\n",
    "grid_search.fit(bike2, bike2_labels)"
   ]
  },
  {
   "cell_type": "code",
   "execution_count": 300,
   "id": "3bb2235b",
   "metadata": {},
   "outputs": [
    {
     "data": {
      "text/plain": [
       "{'random_forest__max_features': 10}"
      ]
     },
     "execution_count": 300,
     "metadata": {},
     "output_type": "execute_result"
    }
   ],
   "source": [
    "grid_search.best_params_"
   ]
  },
  {
   "cell_type": "code",
   "execution_count": 301,
   "id": "6eb91af2",
   "metadata": {},
   "outputs": [
    {
     "data": {
      "text/html": [
       "<style>#sk-9283f688-a363-4817-932e-afd06d114d2c {color: black;background-color: white;}#sk-9283f688-a363-4817-932e-afd06d114d2c pre{padding: 0;}#sk-9283f688-a363-4817-932e-afd06d114d2c div.sk-toggleable {background-color: white;}#sk-9283f688-a363-4817-932e-afd06d114d2c label.sk-toggleable__label {cursor: pointer;display: block;width: 100%;margin-bottom: 0;padding: 0.3em;box-sizing: border-box;text-align: center;}#sk-9283f688-a363-4817-932e-afd06d114d2c label.sk-toggleable__label-arrow:before {content: \"▸\";float: left;margin-right: 0.25em;color: #696969;}#sk-9283f688-a363-4817-932e-afd06d114d2c label.sk-toggleable__label-arrow:hover:before {color: black;}#sk-9283f688-a363-4817-932e-afd06d114d2c div.sk-estimator:hover label.sk-toggleable__label-arrow:before {color: black;}#sk-9283f688-a363-4817-932e-afd06d114d2c div.sk-toggleable__content {max-height: 0;max-width: 0;overflow: hidden;text-align: left;background-color: #f0f8ff;}#sk-9283f688-a363-4817-932e-afd06d114d2c div.sk-toggleable__content pre {margin: 0.2em;color: black;border-radius: 0.25em;background-color: #f0f8ff;}#sk-9283f688-a363-4817-932e-afd06d114d2c input.sk-toggleable__control:checked~div.sk-toggleable__content {max-height: 200px;max-width: 100%;overflow: auto;}#sk-9283f688-a363-4817-932e-afd06d114d2c input.sk-toggleable__control:checked~label.sk-toggleable__label-arrow:before {content: \"▾\";}#sk-9283f688-a363-4817-932e-afd06d114d2c div.sk-estimator input.sk-toggleable__control:checked~label.sk-toggleable__label {background-color: #d4ebff;}#sk-9283f688-a363-4817-932e-afd06d114d2c div.sk-label input.sk-toggleable__control:checked~label.sk-toggleable__label {background-color: #d4ebff;}#sk-9283f688-a363-4817-932e-afd06d114d2c input.sk-hidden--visually {border: 0;clip: rect(1px 1px 1px 1px);clip: rect(1px, 1px, 1px, 1px);height: 1px;margin: -1px;overflow: hidden;padding: 0;position: absolute;width: 1px;}#sk-9283f688-a363-4817-932e-afd06d114d2c div.sk-estimator {font-family: monospace;background-color: #f0f8ff;border: 1px dotted black;border-radius: 0.25em;box-sizing: border-box;margin-bottom: 0.5em;}#sk-9283f688-a363-4817-932e-afd06d114d2c div.sk-estimator:hover {background-color: #d4ebff;}#sk-9283f688-a363-4817-932e-afd06d114d2c div.sk-parallel-item::after {content: \"\";width: 100%;border-bottom: 1px solid gray;flex-grow: 1;}#sk-9283f688-a363-4817-932e-afd06d114d2c div.sk-label:hover label.sk-toggleable__label {background-color: #d4ebff;}#sk-9283f688-a363-4817-932e-afd06d114d2c div.sk-serial::before {content: \"\";position: absolute;border-left: 1px solid gray;box-sizing: border-box;top: 2em;bottom: 0;left: 50%;}#sk-9283f688-a363-4817-932e-afd06d114d2c div.sk-serial {display: flex;flex-direction: column;align-items: center;background-color: white;padding-right: 0.2em;padding-left: 0.2em;}#sk-9283f688-a363-4817-932e-afd06d114d2c div.sk-item {z-index: 1;}#sk-9283f688-a363-4817-932e-afd06d114d2c div.sk-parallel {display: flex;align-items: stretch;justify-content: center;background-color: white;}#sk-9283f688-a363-4817-932e-afd06d114d2c div.sk-parallel::before {content: \"\";position: absolute;border-left: 1px solid gray;box-sizing: border-box;top: 2em;bottom: 0;left: 50%;}#sk-9283f688-a363-4817-932e-afd06d114d2c div.sk-parallel-item {display: flex;flex-direction: column;position: relative;background-color: white;}#sk-9283f688-a363-4817-932e-afd06d114d2c div.sk-parallel-item:first-child::after {align-self: flex-end;width: 50%;}#sk-9283f688-a363-4817-932e-afd06d114d2c div.sk-parallel-item:last-child::after {align-self: flex-start;width: 50%;}#sk-9283f688-a363-4817-932e-afd06d114d2c div.sk-parallel-item:only-child::after {width: 0;}#sk-9283f688-a363-4817-932e-afd06d114d2c div.sk-dashed-wrapped {border: 1px dashed gray;margin: 0 0.4em 0.5em 0.4em;box-sizing: border-box;padding-bottom: 0.4em;background-color: white;position: relative;}#sk-9283f688-a363-4817-932e-afd06d114d2c div.sk-label label {font-family: monospace;font-weight: bold;background-color: white;display: inline-block;line-height: 1.2em;}#sk-9283f688-a363-4817-932e-afd06d114d2c div.sk-label-container {position: relative;z-index: 2;text-align: center;}#sk-9283f688-a363-4817-932e-afd06d114d2c div.sk-container {/* jupyter's `normalize.less` sets `[hidden] { display: none; }` but bootstrap.min.css set `[hidden] { display: none !important; }` so we also need the `!important` here to be able to override the default hidden behavior on the sphinx rendered scikit-learn.org. See: https://github.com/scikit-learn/scikit-learn/issues/21755 */display: inline-block !important;position: relative;}#sk-9283f688-a363-4817-932e-afd06d114d2c div.sk-text-repr-fallback {display: none;}</style><div id=\"sk-9283f688-a363-4817-932e-afd06d114d2c\" class=\"sk-top-container\"><div class=\"sk-text-repr-fallback\"><pre>Pipeline(steps=[(&#x27;preprocessing&#x27;,\n",
       "                 ColumnTransformer(transformers=[(&#x27;pipeline-1&#x27;,\n",
       "                                                  Pipeline(steps=[(&#x27;simpleimputer&#x27;,\n",
       "                                                                   SimpleImputer(strategy=&#x27;median&#x27;)),\n",
       "                                                                  (&#x27;standardscaler&#x27;,\n",
       "                                                                   StandardScaler())]),\n",
       "                                                  &lt;sklearn.compose._column_transformer.make_column_selector object at 0x0000019D5FD973D0&gt;),\n",
       "                                                 (&#x27;pipeline-2&#x27;,\n",
       "                                                  Pipeline(steps=[(&#x27;simpleimputer&#x27;,\n",
       "                                                                   SimpleImputer(strategy=&#x27;most_frequent&#x27;)),\n",
       "                                                                  (&#x27;onehotencoder&#x27;,\n",
       "                                                                   OneHotEncoder(handle_unknown=&#x27;ignore&#x27;))]),\n",
       "                                                  &lt;sklearn.compose._column_transformer.make_column_selector object at 0x0000019D5E0D8550&gt;)])),\n",
       "                (&#x27;random_forest&#x27;,\n",
       "                 RandomForestRegressor(max_features=10, random_state=119))])</pre><b>Please rerun this cell to show the HTML repr or trust the notebook.</b></div><div class=\"sk-container\" hidden><div class=\"sk-item sk-dashed-wrapped\"><div class=\"sk-label-container\"><div class=\"sk-label sk-toggleable\"><input class=\"sk-toggleable__control sk-hidden--visually\" id=\"ffa84de6-6df8-4d26-a274-6525cc0e6726\" type=\"checkbox\" ><label for=\"ffa84de6-6df8-4d26-a274-6525cc0e6726\" class=\"sk-toggleable__label sk-toggleable__label-arrow\">Pipeline</label><div class=\"sk-toggleable__content\"><pre>Pipeline(steps=[(&#x27;preprocessing&#x27;,\n",
       "                 ColumnTransformer(transformers=[(&#x27;pipeline-1&#x27;,\n",
       "                                                  Pipeline(steps=[(&#x27;simpleimputer&#x27;,\n",
       "                                                                   SimpleImputer(strategy=&#x27;median&#x27;)),\n",
       "                                                                  (&#x27;standardscaler&#x27;,\n",
       "                                                                   StandardScaler())]),\n",
       "                                                  &lt;sklearn.compose._column_transformer.make_column_selector object at 0x0000019D5FD973D0&gt;),\n",
       "                                                 (&#x27;pipeline-2&#x27;,\n",
       "                                                  Pipeline(steps=[(&#x27;simpleimputer&#x27;,\n",
       "                                                                   SimpleImputer(strategy=&#x27;most_frequent&#x27;)),\n",
       "                                                                  (&#x27;onehotencoder&#x27;,\n",
       "                                                                   OneHotEncoder(handle_unknown=&#x27;ignore&#x27;))]),\n",
       "                                                  &lt;sklearn.compose._column_transformer.make_column_selector object at 0x0000019D5E0D8550&gt;)])),\n",
       "                (&#x27;random_forest&#x27;,\n",
       "                 RandomForestRegressor(max_features=10, random_state=119))])</pre></div></div></div><div class=\"sk-serial\"><div class=\"sk-item sk-dashed-wrapped\"><div class=\"sk-label-container\"><div class=\"sk-label sk-toggleable\"><input class=\"sk-toggleable__control sk-hidden--visually\" id=\"08ab7528-9943-43ce-b0b4-f90fe238546a\" type=\"checkbox\" ><label for=\"08ab7528-9943-43ce-b0b4-f90fe238546a\" class=\"sk-toggleable__label sk-toggleable__label-arrow\">preprocessing: ColumnTransformer</label><div class=\"sk-toggleable__content\"><pre>ColumnTransformer(transformers=[(&#x27;pipeline-1&#x27;,\n",
       "                                 Pipeline(steps=[(&#x27;simpleimputer&#x27;,\n",
       "                                                  SimpleImputer(strategy=&#x27;median&#x27;)),\n",
       "                                                 (&#x27;standardscaler&#x27;,\n",
       "                                                  StandardScaler())]),\n",
       "                                 &lt;sklearn.compose._column_transformer.make_column_selector object at 0x0000019D5FD973D0&gt;),\n",
       "                                (&#x27;pipeline-2&#x27;,\n",
       "                                 Pipeline(steps=[(&#x27;simpleimputer&#x27;,\n",
       "                                                  SimpleImputer(strategy=&#x27;most_frequent&#x27;)),\n",
       "                                                 (&#x27;onehotencoder&#x27;,\n",
       "                                                  OneHotEncoder(handle_unknown=&#x27;ignore&#x27;))]),\n",
       "                                 &lt;sklearn.compose._column_transformer.make_column_selector object at 0x0000019D5E0D8550&gt;)])</pre></div></div></div><div class=\"sk-parallel\"><div class=\"sk-parallel-item\"><div class=\"sk-item\"><div class=\"sk-label-container\"><div class=\"sk-label sk-toggleable\"><input class=\"sk-toggleable__control sk-hidden--visually\" id=\"86272e14-86e0-4b6b-949a-aa41d8e8d4b9\" type=\"checkbox\" ><label for=\"86272e14-86e0-4b6b-949a-aa41d8e8d4b9\" class=\"sk-toggleable__label sk-toggleable__label-arrow\">pipeline-1</label><div class=\"sk-toggleable__content\"><pre>&lt;sklearn.compose._column_transformer.make_column_selector object at 0x0000019D5FD973D0&gt;</pre></div></div></div><div class=\"sk-serial\"><div class=\"sk-item\"><div class=\"sk-serial\"><div class=\"sk-item\"><div class=\"sk-estimator sk-toggleable\"><input class=\"sk-toggleable__control sk-hidden--visually\" id=\"16d6fed3-257f-4bd6-a6ca-072064206904\" type=\"checkbox\" ><label for=\"16d6fed3-257f-4bd6-a6ca-072064206904\" class=\"sk-toggleable__label sk-toggleable__label-arrow\">SimpleImputer</label><div class=\"sk-toggleable__content\"><pre>SimpleImputer(strategy=&#x27;median&#x27;)</pre></div></div></div><div class=\"sk-item\"><div class=\"sk-estimator sk-toggleable\"><input class=\"sk-toggleable__control sk-hidden--visually\" id=\"c2359590-7325-4201-9925-dfc50384d565\" type=\"checkbox\" ><label for=\"c2359590-7325-4201-9925-dfc50384d565\" class=\"sk-toggleable__label sk-toggleable__label-arrow\">StandardScaler</label><div class=\"sk-toggleable__content\"><pre>StandardScaler()</pre></div></div></div></div></div></div></div></div><div class=\"sk-parallel-item\"><div class=\"sk-item\"><div class=\"sk-label-container\"><div class=\"sk-label sk-toggleable\"><input class=\"sk-toggleable__control sk-hidden--visually\" id=\"63177544-ad1b-474c-b7ec-d286fa1ed473\" type=\"checkbox\" ><label for=\"63177544-ad1b-474c-b7ec-d286fa1ed473\" class=\"sk-toggleable__label sk-toggleable__label-arrow\">pipeline-2</label><div class=\"sk-toggleable__content\"><pre>&lt;sklearn.compose._column_transformer.make_column_selector object at 0x0000019D5E0D8550&gt;</pre></div></div></div><div class=\"sk-serial\"><div class=\"sk-item\"><div class=\"sk-serial\"><div class=\"sk-item\"><div class=\"sk-estimator sk-toggleable\"><input class=\"sk-toggleable__control sk-hidden--visually\" id=\"c649e0e3-2da1-4461-835d-2dff69cc3e7a\" type=\"checkbox\" ><label for=\"c649e0e3-2da1-4461-835d-2dff69cc3e7a\" class=\"sk-toggleable__label sk-toggleable__label-arrow\">SimpleImputer</label><div class=\"sk-toggleable__content\"><pre>SimpleImputer(strategy=&#x27;most_frequent&#x27;)</pre></div></div></div><div class=\"sk-item\"><div class=\"sk-estimator sk-toggleable\"><input class=\"sk-toggleable__control sk-hidden--visually\" id=\"0f13d026-8e3d-4b5f-af87-f694e6cad2b4\" type=\"checkbox\" ><label for=\"0f13d026-8e3d-4b5f-af87-f694e6cad2b4\" class=\"sk-toggleable__label sk-toggleable__label-arrow\">OneHotEncoder</label><div class=\"sk-toggleable__content\"><pre>OneHotEncoder(handle_unknown=&#x27;ignore&#x27;)</pre></div></div></div></div></div></div></div></div></div></div><div class=\"sk-item\"><div class=\"sk-estimator sk-toggleable\"><input class=\"sk-toggleable__control sk-hidden--visually\" id=\"cb1b0255-5004-4655-99ed-9d8f50c13f1d\" type=\"checkbox\" ><label for=\"cb1b0255-5004-4655-99ed-9d8f50c13f1d\" class=\"sk-toggleable__label sk-toggleable__label-arrow\">RandomForestRegressor</label><div class=\"sk-toggleable__content\"><pre>RandomForestRegressor(max_features=10, random_state=119)</pre></div></div></div></div></div></div></div>"
      ],
      "text/plain": [
       "Pipeline(steps=[('preprocessing',\n",
       "                 ColumnTransformer(transformers=[('pipeline-1',\n",
       "                                                  Pipeline(steps=[('simpleimputer',\n",
       "                                                                   SimpleImputer(strategy='median')),\n",
       "                                                                  ('standardscaler',\n",
       "                                                                   StandardScaler())]),\n",
       "                                                  <sklearn.compose._column_transformer.make_column_selector object at 0x0000019D5FD973D0>),\n",
       "                                                 ('pipeline-2',\n",
       "                                                  Pipeline(steps=[('simpleimputer',\n",
       "                                                                   SimpleImputer(strategy='most_frequent')),\n",
       "                                                                  ('onehotencoder',\n",
       "                                                                   OneHotEncoder(handle_unknown='ignore'))]),\n",
       "                                                  <sklearn.compose._column_transformer.make_column_selector object at 0x0000019D5E0D8550>)])),\n",
       "                ('random_forest',\n",
       "                 RandomForestRegressor(max_features=10, random_state=119))])"
      ]
     },
     "execution_count": 301,
     "metadata": {},
     "output_type": "execute_result"
    }
   ],
   "source": [
    "grid_search.best_estimator_"
   ]
  },
  {
   "cell_type": "code",
   "execution_count": 303,
   "id": "a3869326",
   "metadata": {},
   "outputs": [
    {
     "data": {
      "text/html": [
       "<div>\n",
       "<style scoped>\n",
       "    .dataframe tbody tr th:only-of-type {\n",
       "        vertical-align: middle;\n",
       "    }\n",
       "\n",
       "    .dataframe tbody tr th {\n",
       "        vertical-align: top;\n",
       "    }\n",
       "\n",
       "    .dataframe thead th {\n",
       "        text-align: right;\n",
       "    }\n",
       "</style>\n",
       "<table border=\"1\" class=\"dataframe\">\n",
       "  <thead>\n",
       "    <tr style=\"text-align: right;\">\n",
       "      <th></th>\n",
       "      <th>mean_fit_time</th>\n",
       "      <th>std_fit_time</th>\n",
       "      <th>mean_score_time</th>\n",
       "      <th>std_score_time</th>\n",
       "      <th>param_random_forest__max_features</th>\n",
       "      <th>params</th>\n",
       "      <th>split0_test_score</th>\n",
       "      <th>split1_test_score</th>\n",
       "      <th>split2_test_score</th>\n",
       "      <th>mean_test_score</th>\n",
       "      <th>std_test_score</th>\n",
       "      <th>rank_test_score</th>\n",
       "    </tr>\n",
       "  </thead>\n",
       "  <tbody>\n",
       "    <tr>\n",
       "      <th>5</th>\n",
       "      <td>2.264929</td>\n",
       "      <td>0.337082</td>\n",
       "      <td>0.059535</td>\n",
       "      <td>0.006505</td>\n",
       "      <td>10</td>\n",
       "      <td>{'random_forest__max_features': 10}</td>\n",
       "      <td>-266.430448</td>\n",
       "      <td>-265.339801</td>\n",
       "      <td>-260.805882</td>\n",
       "      <td>-264.192044</td>\n",
       "      <td>2.435425</td>\n",
       "      <td>1</td>\n",
       "    </tr>\n",
       "    <tr>\n",
       "      <th>2</th>\n",
       "      <td>1.832703</td>\n",
       "      <td>0.057185</td>\n",
       "      <td>0.053006</td>\n",
       "      <td>0.003485</td>\n",
       "      <td>8</td>\n",
       "      <td>{'random_forest__max_features': 8}</td>\n",
       "      <td>-275.712641</td>\n",
       "      <td>-265.699241</td>\n",
       "      <td>-263.674269</td>\n",
       "      <td>-268.362050</td>\n",
       "      <td>5.262985</td>\n",
       "      <td>2</td>\n",
       "    </tr>\n",
       "    <tr>\n",
       "      <th>4</th>\n",
       "      <td>2.149922</td>\n",
       "      <td>0.171152</td>\n",
       "      <td>0.059088</td>\n",
       "      <td>0.008959</td>\n",
       "      <td>8</td>\n",
       "      <td>{'random_forest__max_features': 8}</td>\n",
       "      <td>-275.712641</td>\n",
       "      <td>-265.699241</td>\n",
       "      <td>-263.674269</td>\n",
       "      <td>-268.362050</td>\n",
       "      <td>5.262985</td>\n",
       "      <td>2</td>\n",
       "    </tr>\n",
       "    <tr>\n",
       "      <th>1</th>\n",
       "      <td>1.742756</td>\n",
       "      <td>0.011669</td>\n",
       "      <td>0.050872</td>\n",
       "      <td>0.000964</td>\n",
       "      <td>6</td>\n",
       "      <td>{'random_forest__max_features': 6}</td>\n",
       "      <td>-276.754350</td>\n",
       "      <td>-268.307827</td>\n",
       "      <td>-272.090470</td>\n",
       "      <td>-272.384215</td>\n",
       "      <td>3.454529</td>\n",
       "      <td>4</td>\n",
       "    </tr>\n",
       "    <tr>\n",
       "      <th>3</th>\n",
       "      <td>1.887449</td>\n",
       "      <td>0.056940</td>\n",
       "      <td>0.052034</td>\n",
       "      <td>0.000077</td>\n",
       "      <td>6</td>\n",
       "      <td>{'random_forest__max_features': 6}</td>\n",
       "      <td>-276.754350</td>\n",
       "      <td>-268.307827</td>\n",
       "      <td>-272.090470</td>\n",
       "      <td>-272.384215</td>\n",
       "      <td>3.454529</td>\n",
       "      <td>4</td>\n",
       "    </tr>\n",
       "  </tbody>\n",
       "</table>\n",
       "</div>"
      ],
      "text/plain": [
       "   mean_fit_time  std_fit_time  mean_score_time  std_score_time  \\\n",
       "5       2.264929      0.337082         0.059535        0.006505   \n",
       "2       1.832703      0.057185         0.053006        0.003485   \n",
       "4       2.149922      0.171152         0.059088        0.008959   \n",
       "1       1.742756      0.011669         0.050872        0.000964   \n",
       "3       1.887449      0.056940         0.052034        0.000077   \n",
       "\n",
       "  param_random_forest__max_features                               params  \\\n",
       "5                                10  {'random_forest__max_features': 10}   \n",
       "2                                 8   {'random_forest__max_features': 8}   \n",
       "4                                 8   {'random_forest__max_features': 8}   \n",
       "1                                 6   {'random_forest__max_features': 6}   \n",
       "3                                 6   {'random_forest__max_features': 6}   \n",
       "\n",
       "   split0_test_score  split1_test_score  split2_test_score  mean_test_score  \\\n",
       "5        -266.430448        -265.339801        -260.805882      -264.192044   \n",
       "2        -275.712641        -265.699241        -263.674269      -268.362050   \n",
       "4        -275.712641        -265.699241        -263.674269      -268.362050   \n",
       "1        -276.754350        -268.307827        -272.090470      -272.384215   \n",
       "3        -276.754350        -268.307827        -272.090470      -272.384215   \n",
       "\n",
       "   std_test_score  rank_test_score  \n",
       "5        2.435425                1  \n",
       "2        5.262985                2  \n",
       "4        5.262985                2  \n",
       "1        3.454529                4  \n",
       "3        3.454529                4  "
      ]
     },
     "execution_count": 303,
     "metadata": {},
     "output_type": "execute_result"
    }
   ],
   "source": [
    "cv_res = pd.DataFrame(grid_search.cv_results_)\n",
    "cv_res.sort_values(by = 'mean_test_score', ascending = False, inplace = True)\n",
    "\n",
    "cv_res.head()"
   ]
  },
  {
   "cell_type": "markdown",
   "id": "9b54d87b",
   "metadata": {},
   "source": [
    "### Randomized Search"
   ]
  },
  {
   "cell_type": "code",
   "execution_count": 305,
   "id": "f30cc371",
   "metadata": {},
   "outputs": [
    {
     "data": {
      "text/html": [
       "<style>#sk-22e4e2aa-1a3c-4b35-8eab-00309feb3e9b {color: black;background-color: white;}#sk-22e4e2aa-1a3c-4b35-8eab-00309feb3e9b pre{padding: 0;}#sk-22e4e2aa-1a3c-4b35-8eab-00309feb3e9b div.sk-toggleable {background-color: white;}#sk-22e4e2aa-1a3c-4b35-8eab-00309feb3e9b label.sk-toggleable__label {cursor: pointer;display: block;width: 100%;margin-bottom: 0;padding: 0.3em;box-sizing: border-box;text-align: center;}#sk-22e4e2aa-1a3c-4b35-8eab-00309feb3e9b label.sk-toggleable__label-arrow:before {content: \"▸\";float: left;margin-right: 0.25em;color: #696969;}#sk-22e4e2aa-1a3c-4b35-8eab-00309feb3e9b label.sk-toggleable__label-arrow:hover:before {color: black;}#sk-22e4e2aa-1a3c-4b35-8eab-00309feb3e9b div.sk-estimator:hover label.sk-toggleable__label-arrow:before {color: black;}#sk-22e4e2aa-1a3c-4b35-8eab-00309feb3e9b div.sk-toggleable__content {max-height: 0;max-width: 0;overflow: hidden;text-align: left;background-color: #f0f8ff;}#sk-22e4e2aa-1a3c-4b35-8eab-00309feb3e9b div.sk-toggleable__content pre {margin: 0.2em;color: black;border-radius: 0.25em;background-color: #f0f8ff;}#sk-22e4e2aa-1a3c-4b35-8eab-00309feb3e9b input.sk-toggleable__control:checked~div.sk-toggleable__content {max-height: 200px;max-width: 100%;overflow: auto;}#sk-22e4e2aa-1a3c-4b35-8eab-00309feb3e9b input.sk-toggleable__control:checked~label.sk-toggleable__label-arrow:before {content: \"▾\";}#sk-22e4e2aa-1a3c-4b35-8eab-00309feb3e9b div.sk-estimator input.sk-toggleable__control:checked~label.sk-toggleable__label {background-color: #d4ebff;}#sk-22e4e2aa-1a3c-4b35-8eab-00309feb3e9b div.sk-label input.sk-toggleable__control:checked~label.sk-toggleable__label {background-color: #d4ebff;}#sk-22e4e2aa-1a3c-4b35-8eab-00309feb3e9b input.sk-hidden--visually {border: 0;clip: rect(1px 1px 1px 1px);clip: rect(1px, 1px, 1px, 1px);height: 1px;margin: -1px;overflow: hidden;padding: 0;position: absolute;width: 1px;}#sk-22e4e2aa-1a3c-4b35-8eab-00309feb3e9b div.sk-estimator {font-family: monospace;background-color: #f0f8ff;border: 1px dotted black;border-radius: 0.25em;box-sizing: border-box;margin-bottom: 0.5em;}#sk-22e4e2aa-1a3c-4b35-8eab-00309feb3e9b div.sk-estimator:hover {background-color: #d4ebff;}#sk-22e4e2aa-1a3c-4b35-8eab-00309feb3e9b div.sk-parallel-item::after {content: \"\";width: 100%;border-bottom: 1px solid gray;flex-grow: 1;}#sk-22e4e2aa-1a3c-4b35-8eab-00309feb3e9b div.sk-label:hover label.sk-toggleable__label {background-color: #d4ebff;}#sk-22e4e2aa-1a3c-4b35-8eab-00309feb3e9b div.sk-serial::before {content: \"\";position: absolute;border-left: 1px solid gray;box-sizing: border-box;top: 2em;bottom: 0;left: 50%;}#sk-22e4e2aa-1a3c-4b35-8eab-00309feb3e9b div.sk-serial {display: flex;flex-direction: column;align-items: center;background-color: white;padding-right: 0.2em;padding-left: 0.2em;}#sk-22e4e2aa-1a3c-4b35-8eab-00309feb3e9b div.sk-item {z-index: 1;}#sk-22e4e2aa-1a3c-4b35-8eab-00309feb3e9b div.sk-parallel {display: flex;align-items: stretch;justify-content: center;background-color: white;}#sk-22e4e2aa-1a3c-4b35-8eab-00309feb3e9b div.sk-parallel::before {content: \"\";position: absolute;border-left: 1px solid gray;box-sizing: border-box;top: 2em;bottom: 0;left: 50%;}#sk-22e4e2aa-1a3c-4b35-8eab-00309feb3e9b div.sk-parallel-item {display: flex;flex-direction: column;position: relative;background-color: white;}#sk-22e4e2aa-1a3c-4b35-8eab-00309feb3e9b div.sk-parallel-item:first-child::after {align-self: flex-end;width: 50%;}#sk-22e4e2aa-1a3c-4b35-8eab-00309feb3e9b div.sk-parallel-item:last-child::after {align-self: flex-start;width: 50%;}#sk-22e4e2aa-1a3c-4b35-8eab-00309feb3e9b div.sk-parallel-item:only-child::after {width: 0;}#sk-22e4e2aa-1a3c-4b35-8eab-00309feb3e9b div.sk-dashed-wrapped {border: 1px dashed gray;margin: 0 0.4em 0.5em 0.4em;box-sizing: border-box;padding-bottom: 0.4em;background-color: white;position: relative;}#sk-22e4e2aa-1a3c-4b35-8eab-00309feb3e9b div.sk-label label {font-family: monospace;font-weight: bold;background-color: white;display: inline-block;line-height: 1.2em;}#sk-22e4e2aa-1a3c-4b35-8eab-00309feb3e9b div.sk-label-container {position: relative;z-index: 2;text-align: center;}#sk-22e4e2aa-1a3c-4b35-8eab-00309feb3e9b div.sk-container {/* jupyter's `normalize.less` sets `[hidden] { display: none; }` but bootstrap.min.css set `[hidden] { display: none !important; }` so we also need the `!important` here to be able to override the default hidden behavior on the sphinx rendered scikit-learn.org. See: https://github.com/scikit-learn/scikit-learn/issues/21755 */display: inline-block !important;position: relative;}#sk-22e4e2aa-1a3c-4b35-8eab-00309feb3e9b div.sk-text-repr-fallback {display: none;}</style><div id=\"sk-22e4e2aa-1a3c-4b35-8eab-00309feb3e9b\" class=\"sk-top-container\"><div class=\"sk-text-repr-fallback\"><pre>RandomizedSearchCV(cv=3,\n",
       "                   estimator=Pipeline(steps=[(&#x27;preprocessing&#x27;,\n",
       "                                              ColumnTransformer(transformers=[(&#x27;pipeline-1&#x27;,\n",
       "                                                                               Pipeline(steps=[(&#x27;simpleimputer&#x27;,\n",
       "                                                                                                SimpleImputer(strategy=&#x27;median&#x27;)),\n",
       "                                                                                               (&#x27;standardscaler&#x27;,\n",
       "                                                                                                StandardScaler())]),\n",
       "                                                                               &lt;sklearn.compose._column_transformer.make_column_selector object at 0x0000019D516867C0&gt;),\n",
       "                                                                              (&#x27;pipeline-2&#x27;,\n",
       "                                                                               Pipeline(steps=[(&#x27;simpleimputer&#x27;...\n",
       "                                                                                                OneHotEncoder(handle_unknown=&#x27;ignore&#x27;))]),\n",
       "                                                                               &lt;sklearn.compose._column_transformer.make_column_selector object at 0x0000019D51686250&gt;)])),\n",
       "                                             (&#x27;random_forest&#x27;,\n",
       "                                              RandomForestRegressor(random_state=119))]),\n",
       "                   param_distributions={&#x27;random_forest__max_features&#x27;: &lt;scipy.stats._distn_infrastructure.rv_frozen object at 0x0000019D56770BE0&gt;},\n",
       "                   random_state=119, scoring=&#x27;neg_root_mean_squared_error&#x27;)</pre><b>Please rerun this cell to show the HTML repr or trust the notebook.</b></div><div class=\"sk-container\" hidden><div class=\"sk-item sk-dashed-wrapped\"><div class=\"sk-label-container\"><div class=\"sk-label sk-toggleable\"><input class=\"sk-toggleable__control sk-hidden--visually\" id=\"11309614-db6c-479e-a937-d07393b657e6\" type=\"checkbox\" ><label for=\"11309614-db6c-479e-a937-d07393b657e6\" class=\"sk-toggleable__label sk-toggleable__label-arrow\">RandomizedSearchCV</label><div class=\"sk-toggleable__content\"><pre>RandomizedSearchCV(cv=3,\n",
       "                   estimator=Pipeline(steps=[(&#x27;preprocessing&#x27;,\n",
       "                                              ColumnTransformer(transformers=[(&#x27;pipeline-1&#x27;,\n",
       "                                                                               Pipeline(steps=[(&#x27;simpleimputer&#x27;,\n",
       "                                                                                                SimpleImputer(strategy=&#x27;median&#x27;)),\n",
       "                                                                                               (&#x27;standardscaler&#x27;,\n",
       "                                                                                                StandardScaler())]),\n",
       "                                                                               &lt;sklearn.compose._column_transformer.make_column_selector object at 0x0000019D516867C0&gt;),\n",
       "                                                                              (&#x27;pipeline-2&#x27;,\n",
       "                                                                               Pipeline(steps=[(&#x27;simpleimputer&#x27;...\n",
       "                                                                                                OneHotEncoder(handle_unknown=&#x27;ignore&#x27;))]),\n",
       "                                                                               &lt;sklearn.compose._column_transformer.make_column_selector object at 0x0000019D51686250&gt;)])),\n",
       "                                             (&#x27;random_forest&#x27;,\n",
       "                                              RandomForestRegressor(random_state=119))]),\n",
       "                   param_distributions={&#x27;random_forest__max_features&#x27;: &lt;scipy.stats._distn_infrastructure.rv_frozen object at 0x0000019D56770BE0&gt;},\n",
       "                   random_state=119, scoring=&#x27;neg_root_mean_squared_error&#x27;)</pre></div></div></div><div class=\"sk-parallel\"><div class=\"sk-parallel-item\"><div class=\"sk-item\"><div class=\"sk-serial\"><div class=\"sk-item\"><div class=\"sk-serial\"><div class=\"sk-item sk-dashed-wrapped\"><div class=\"sk-label-container\"><div class=\"sk-label sk-toggleable\"><input class=\"sk-toggleable__control sk-hidden--visually\" id=\"13e3644d-d398-47e1-905c-acd05c944d79\" type=\"checkbox\" ><label for=\"13e3644d-d398-47e1-905c-acd05c944d79\" class=\"sk-toggleable__label sk-toggleable__label-arrow\">preprocessing: ColumnTransformer</label><div class=\"sk-toggleable__content\"><pre>ColumnTransformer(transformers=[(&#x27;pipeline-1&#x27;,\n",
       "                                 Pipeline(steps=[(&#x27;simpleimputer&#x27;,\n",
       "                                                  SimpleImputer(strategy=&#x27;median&#x27;)),\n",
       "                                                 (&#x27;standardscaler&#x27;,\n",
       "                                                  StandardScaler())]),\n",
       "                                 &lt;sklearn.compose._column_transformer.make_column_selector object at 0x0000019D516867C0&gt;),\n",
       "                                (&#x27;pipeline-2&#x27;,\n",
       "                                 Pipeline(steps=[(&#x27;simpleimputer&#x27;,\n",
       "                                                  SimpleImputer(strategy=&#x27;most_frequent&#x27;)),\n",
       "                                                 (&#x27;onehotencoder&#x27;,\n",
       "                                                  OneHotEncoder(handle_unknown=&#x27;ignore&#x27;))]),\n",
       "                                 &lt;sklearn.compose._column_transformer.make_column_selector object at 0x0000019D51686250&gt;)])</pre></div></div></div><div class=\"sk-parallel\"><div class=\"sk-parallel-item\"><div class=\"sk-item\"><div class=\"sk-label-container\"><div class=\"sk-label sk-toggleable\"><input class=\"sk-toggleable__control sk-hidden--visually\" id=\"48405294-d8da-4d4c-870d-7ebbfc83a229\" type=\"checkbox\" ><label for=\"48405294-d8da-4d4c-870d-7ebbfc83a229\" class=\"sk-toggleable__label sk-toggleable__label-arrow\">pipeline-1</label><div class=\"sk-toggleable__content\"><pre>&lt;sklearn.compose._column_transformer.make_column_selector object at 0x0000019D516867C0&gt;</pre></div></div></div><div class=\"sk-serial\"><div class=\"sk-item\"><div class=\"sk-serial\"><div class=\"sk-item\"><div class=\"sk-estimator sk-toggleable\"><input class=\"sk-toggleable__control sk-hidden--visually\" id=\"64dfb1ad-e6c9-4bdd-93f5-5b99dac0ff92\" type=\"checkbox\" ><label for=\"64dfb1ad-e6c9-4bdd-93f5-5b99dac0ff92\" class=\"sk-toggleable__label sk-toggleable__label-arrow\">SimpleImputer</label><div class=\"sk-toggleable__content\"><pre>SimpleImputer(strategy=&#x27;median&#x27;)</pre></div></div></div><div class=\"sk-item\"><div class=\"sk-estimator sk-toggleable\"><input class=\"sk-toggleable__control sk-hidden--visually\" id=\"b56f3c16-842d-4b0b-9e1a-3235c769da5f\" type=\"checkbox\" ><label for=\"b56f3c16-842d-4b0b-9e1a-3235c769da5f\" class=\"sk-toggleable__label sk-toggleable__label-arrow\">StandardScaler</label><div class=\"sk-toggleable__content\"><pre>StandardScaler()</pre></div></div></div></div></div></div></div></div><div class=\"sk-parallel-item\"><div class=\"sk-item\"><div class=\"sk-label-container\"><div class=\"sk-label sk-toggleable\"><input class=\"sk-toggleable__control sk-hidden--visually\" id=\"7a23b861-80e5-4df6-aeb2-a541018459b7\" type=\"checkbox\" ><label for=\"7a23b861-80e5-4df6-aeb2-a541018459b7\" class=\"sk-toggleable__label sk-toggleable__label-arrow\">pipeline-2</label><div class=\"sk-toggleable__content\"><pre>&lt;sklearn.compose._column_transformer.make_column_selector object at 0x0000019D51686250&gt;</pre></div></div></div><div class=\"sk-serial\"><div class=\"sk-item\"><div class=\"sk-serial\"><div class=\"sk-item\"><div class=\"sk-estimator sk-toggleable\"><input class=\"sk-toggleable__control sk-hidden--visually\" id=\"3dd1db5f-4d80-4841-a933-d014c7604a77\" type=\"checkbox\" ><label for=\"3dd1db5f-4d80-4841-a933-d014c7604a77\" class=\"sk-toggleable__label sk-toggleable__label-arrow\">SimpleImputer</label><div class=\"sk-toggleable__content\"><pre>SimpleImputer(strategy=&#x27;most_frequent&#x27;)</pre></div></div></div><div class=\"sk-item\"><div class=\"sk-estimator sk-toggleable\"><input class=\"sk-toggleable__control sk-hidden--visually\" id=\"5e679666-b0ff-4c61-bdf6-9973af48d186\" type=\"checkbox\" ><label for=\"5e679666-b0ff-4c61-bdf6-9973af48d186\" class=\"sk-toggleable__label sk-toggleable__label-arrow\">OneHotEncoder</label><div class=\"sk-toggleable__content\"><pre>OneHotEncoder(handle_unknown=&#x27;ignore&#x27;)</pre></div></div></div></div></div></div></div></div></div></div><div class=\"sk-item\"><div class=\"sk-estimator sk-toggleable\"><input class=\"sk-toggleable__control sk-hidden--visually\" id=\"a9d6a882-2dfd-4265-b52b-116499bcfae2\" type=\"checkbox\" ><label for=\"a9d6a882-2dfd-4265-b52b-116499bcfae2\" class=\"sk-toggleable__label sk-toggleable__label-arrow\">RandomForestRegressor</label><div class=\"sk-toggleable__content\"><pre>RandomForestRegressor(random_state=119)</pre></div></div></div></div></div></div></div></div></div></div></div></div>"
      ],
      "text/plain": [
       "RandomizedSearchCV(cv=3,\n",
       "                   estimator=Pipeline(steps=[('preprocessing',\n",
       "                                              ColumnTransformer(transformers=[('pipeline-1',\n",
       "                                                                               Pipeline(steps=[('simpleimputer',\n",
       "                                                                                                SimpleImputer(strategy='median')),\n",
       "                                                                                               ('standardscaler',\n",
       "                                                                                                StandardScaler())]),\n",
       "                                                                               <sklearn.compose._column_transformer.make_column_selector object at 0x0000019D516867C0>),\n",
       "                                                                              ('pipeline-2',\n",
       "                                                                               Pipeline(steps=[('simpleimputer'...\n",
       "                                                                                                OneHotEncoder(handle_unknown='ignore'))]),\n",
       "                                                                               <sklearn.compose._column_transformer.make_column_selector object at 0x0000019D51686250>)])),\n",
       "                                             ('random_forest',\n",
       "                                              RandomForestRegressor(random_state=119))]),\n",
       "                   param_distributions={'random_forest__max_features': <scipy.stats._distn_infrastructure.rv_frozen object at 0x0000019D56770BE0>},\n",
       "                   random_state=119, scoring='neg_root_mean_squared_error')"
      ]
     },
     "execution_count": 305,
     "metadata": {},
     "output_type": "execute_result"
    }
   ],
   "source": [
    "from sklearn.experimental import enable_halving_search_cv\n",
    "from sklearn.model_selection import HalvingRandomSearchCV\n",
    "from sklearn.model_selection import RandomizedSearchCV\n",
    "from scipy.stats import randint\n",
    "\n",
    "param_distribs = {'random_forest__max_features': randint(low = 2, high = 20)}\n",
    "\n",
    "rnd_search = RandomizedSearchCV(\n",
    "    full_pipeline, param_distributions = param_distribs, n_iter = 10, cv = 3,\n",
    "    scoring = 'neg_root_mean_squared_error', random_state = 119)\n",
    "\n",
    "rnd_search.fit(bike2, bike2_labels)"
   ]
  },
  {
   "cell_type": "code",
   "execution_count": 306,
   "id": "a78aa0e8",
   "metadata": {},
   "outputs": [
    {
     "data": {
      "text/plain": [
       "{'random_forest__max_features': 16}"
      ]
     },
     "execution_count": 306,
     "metadata": {},
     "output_type": "execute_result"
    }
   ],
   "source": [
    "rnd_search.best_params_"
   ]
  },
  {
   "cell_type": "code",
   "execution_count": 307,
   "id": "371ae1a1",
   "metadata": {},
   "outputs": [
    {
     "data": {
      "text/html": [
       "<style>#sk-216b949f-5cf6-4a19-9465-08cc64fbcc2d {color: black;background-color: white;}#sk-216b949f-5cf6-4a19-9465-08cc64fbcc2d pre{padding: 0;}#sk-216b949f-5cf6-4a19-9465-08cc64fbcc2d div.sk-toggleable {background-color: white;}#sk-216b949f-5cf6-4a19-9465-08cc64fbcc2d label.sk-toggleable__label {cursor: pointer;display: block;width: 100%;margin-bottom: 0;padding: 0.3em;box-sizing: border-box;text-align: center;}#sk-216b949f-5cf6-4a19-9465-08cc64fbcc2d label.sk-toggleable__label-arrow:before {content: \"▸\";float: left;margin-right: 0.25em;color: #696969;}#sk-216b949f-5cf6-4a19-9465-08cc64fbcc2d label.sk-toggleable__label-arrow:hover:before {color: black;}#sk-216b949f-5cf6-4a19-9465-08cc64fbcc2d div.sk-estimator:hover label.sk-toggleable__label-arrow:before {color: black;}#sk-216b949f-5cf6-4a19-9465-08cc64fbcc2d div.sk-toggleable__content {max-height: 0;max-width: 0;overflow: hidden;text-align: left;background-color: #f0f8ff;}#sk-216b949f-5cf6-4a19-9465-08cc64fbcc2d div.sk-toggleable__content pre {margin: 0.2em;color: black;border-radius: 0.25em;background-color: #f0f8ff;}#sk-216b949f-5cf6-4a19-9465-08cc64fbcc2d input.sk-toggleable__control:checked~div.sk-toggleable__content {max-height: 200px;max-width: 100%;overflow: auto;}#sk-216b949f-5cf6-4a19-9465-08cc64fbcc2d input.sk-toggleable__control:checked~label.sk-toggleable__label-arrow:before {content: \"▾\";}#sk-216b949f-5cf6-4a19-9465-08cc64fbcc2d div.sk-estimator input.sk-toggleable__control:checked~label.sk-toggleable__label {background-color: #d4ebff;}#sk-216b949f-5cf6-4a19-9465-08cc64fbcc2d div.sk-label input.sk-toggleable__control:checked~label.sk-toggleable__label {background-color: #d4ebff;}#sk-216b949f-5cf6-4a19-9465-08cc64fbcc2d input.sk-hidden--visually {border: 0;clip: rect(1px 1px 1px 1px);clip: rect(1px, 1px, 1px, 1px);height: 1px;margin: -1px;overflow: hidden;padding: 0;position: absolute;width: 1px;}#sk-216b949f-5cf6-4a19-9465-08cc64fbcc2d div.sk-estimator {font-family: monospace;background-color: #f0f8ff;border: 1px dotted black;border-radius: 0.25em;box-sizing: border-box;margin-bottom: 0.5em;}#sk-216b949f-5cf6-4a19-9465-08cc64fbcc2d div.sk-estimator:hover {background-color: #d4ebff;}#sk-216b949f-5cf6-4a19-9465-08cc64fbcc2d div.sk-parallel-item::after {content: \"\";width: 100%;border-bottom: 1px solid gray;flex-grow: 1;}#sk-216b949f-5cf6-4a19-9465-08cc64fbcc2d div.sk-label:hover label.sk-toggleable__label {background-color: #d4ebff;}#sk-216b949f-5cf6-4a19-9465-08cc64fbcc2d div.sk-serial::before {content: \"\";position: absolute;border-left: 1px solid gray;box-sizing: border-box;top: 2em;bottom: 0;left: 50%;}#sk-216b949f-5cf6-4a19-9465-08cc64fbcc2d div.sk-serial {display: flex;flex-direction: column;align-items: center;background-color: white;padding-right: 0.2em;padding-left: 0.2em;}#sk-216b949f-5cf6-4a19-9465-08cc64fbcc2d div.sk-item {z-index: 1;}#sk-216b949f-5cf6-4a19-9465-08cc64fbcc2d div.sk-parallel {display: flex;align-items: stretch;justify-content: center;background-color: white;}#sk-216b949f-5cf6-4a19-9465-08cc64fbcc2d div.sk-parallel::before {content: \"\";position: absolute;border-left: 1px solid gray;box-sizing: border-box;top: 2em;bottom: 0;left: 50%;}#sk-216b949f-5cf6-4a19-9465-08cc64fbcc2d div.sk-parallel-item {display: flex;flex-direction: column;position: relative;background-color: white;}#sk-216b949f-5cf6-4a19-9465-08cc64fbcc2d div.sk-parallel-item:first-child::after {align-self: flex-end;width: 50%;}#sk-216b949f-5cf6-4a19-9465-08cc64fbcc2d div.sk-parallel-item:last-child::after {align-self: flex-start;width: 50%;}#sk-216b949f-5cf6-4a19-9465-08cc64fbcc2d div.sk-parallel-item:only-child::after {width: 0;}#sk-216b949f-5cf6-4a19-9465-08cc64fbcc2d div.sk-dashed-wrapped {border: 1px dashed gray;margin: 0 0.4em 0.5em 0.4em;box-sizing: border-box;padding-bottom: 0.4em;background-color: white;position: relative;}#sk-216b949f-5cf6-4a19-9465-08cc64fbcc2d div.sk-label label {font-family: monospace;font-weight: bold;background-color: white;display: inline-block;line-height: 1.2em;}#sk-216b949f-5cf6-4a19-9465-08cc64fbcc2d div.sk-label-container {position: relative;z-index: 2;text-align: center;}#sk-216b949f-5cf6-4a19-9465-08cc64fbcc2d div.sk-container {/* jupyter's `normalize.less` sets `[hidden] { display: none; }` but bootstrap.min.css set `[hidden] { display: none !important; }` so we also need the `!important` here to be able to override the default hidden behavior on the sphinx rendered scikit-learn.org. See: https://github.com/scikit-learn/scikit-learn/issues/21755 */display: inline-block !important;position: relative;}#sk-216b949f-5cf6-4a19-9465-08cc64fbcc2d div.sk-text-repr-fallback {display: none;}</style><div id=\"sk-216b949f-5cf6-4a19-9465-08cc64fbcc2d\" class=\"sk-top-container\"><div class=\"sk-text-repr-fallback\"><pre>Pipeline(steps=[(&#x27;preprocessing&#x27;,\n",
       "                 ColumnTransformer(transformers=[(&#x27;pipeline-1&#x27;,\n",
       "                                                  Pipeline(steps=[(&#x27;simpleimputer&#x27;,\n",
       "                                                                   SimpleImputer(strategy=&#x27;median&#x27;)),\n",
       "                                                                  (&#x27;standardscaler&#x27;,\n",
       "                                                                   StandardScaler())]),\n",
       "                                                  &lt;sklearn.compose._column_transformer.make_column_selector object at 0x0000019D5678ABB0&gt;),\n",
       "                                                 (&#x27;pipeline-2&#x27;,\n",
       "                                                  Pipeline(steps=[(&#x27;simpleimputer&#x27;,\n",
       "                                                                   SimpleImputer(strategy=&#x27;most_frequent&#x27;)),\n",
       "                                                                  (&#x27;onehotencoder&#x27;,\n",
       "                                                                   OneHotEncoder(handle_unknown=&#x27;ignore&#x27;))]),\n",
       "                                                  &lt;sklearn.compose._column_transformer.make_column_selector object at 0x0000019D5678A550&gt;)])),\n",
       "                (&#x27;random_forest&#x27;,\n",
       "                 RandomForestRegressor(max_features=16, random_state=119))])</pre><b>Please rerun this cell to show the HTML repr or trust the notebook.</b></div><div class=\"sk-container\" hidden><div class=\"sk-item sk-dashed-wrapped\"><div class=\"sk-label-container\"><div class=\"sk-label sk-toggleable\"><input class=\"sk-toggleable__control sk-hidden--visually\" id=\"b647aee9-aa61-4252-b472-932e3c7f18b1\" type=\"checkbox\" ><label for=\"b647aee9-aa61-4252-b472-932e3c7f18b1\" class=\"sk-toggleable__label sk-toggleable__label-arrow\">Pipeline</label><div class=\"sk-toggleable__content\"><pre>Pipeline(steps=[(&#x27;preprocessing&#x27;,\n",
       "                 ColumnTransformer(transformers=[(&#x27;pipeline-1&#x27;,\n",
       "                                                  Pipeline(steps=[(&#x27;simpleimputer&#x27;,\n",
       "                                                                   SimpleImputer(strategy=&#x27;median&#x27;)),\n",
       "                                                                  (&#x27;standardscaler&#x27;,\n",
       "                                                                   StandardScaler())]),\n",
       "                                                  &lt;sklearn.compose._column_transformer.make_column_selector object at 0x0000019D5678ABB0&gt;),\n",
       "                                                 (&#x27;pipeline-2&#x27;,\n",
       "                                                  Pipeline(steps=[(&#x27;simpleimputer&#x27;,\n",
       "                                                                   SimpleImputer(strategy=&#x27;most_frequent&#x27;)),\n",
       "                                                                  (&#x27;onehotencoder&#x27;,\n",
       "                                                                   OneHotEncoder(handle_unknown=&#x27;ignore&#x27;))]),\n",
       "                                                  &lt;sklearn.compose._column_transformer.make_column_selector object at 0x0000019D5678A550&gt;)])),\n",
       "                (&#x27;random_forest&#x27;,\n",
       "                 RandomForestRegressor(max_features=16, random_state=119))])</pre></div></div></div><div class=\"sk-serial\"><div class=\"sk-item sk-dashed-wrapped\"><div class=\"sk-label-container\"><div class=\"sk-label sk-toggleable\"><input class=\"sk-toggleable__control sk-hidden--visually\" id=\"c4c0393a-ef79-4f8b-89ee-f4f81b347cd2\" type=\"checkbox\" ><label for=\"c4c0393a-ef79-4f8b-89ee-f4f81b347cd2\" class=\"sk-toggleable__label sk-toggleable__label-arrow\">preprocessing: ColumnTransformer</label><div class=\"sk-toggleable__content\"><pre>ColumnTransformer(transformers=[(&#x27;pipeline-1&#x27;,\n",
       "                                 Pipeline(steps=[(&#x27;simpleimputer&#x27;,\n",
       "                                                  SimpleImputer(strategy=&#x27;median&#x27;)),\n",
       "                                                 (&#x27;standardscaler&#x27;,\n",
       "                                                  StandardScaler())]),\n",
       "                                 &lt;sklearn.compose._column_transformer.make_column_selector object at 0x0000019D5678ABB0&gt;),\n",
       "                                (&#x27;pipeline-2&#x27;,\n",
       "                                 Pipeline(steps=[(&#x27;simpleimputer&#x27;,\n",
       "                                                  SimpleImputer(strategy=&#x27;most_frequent&#x27;)),\n",
       "                                                 (&#x27;onehotencoder&#x27;,\n",
       "                                                  OneHotEncoder(handle_unknown=&#x27;ignore&#x27;))]),\n",
       "                                 &lt;sklearn.compose._column_transformer.make_column_selector object at 0x0000019D5678A550&gt;)])</pre></div></div></div><div class=\"sk-parallel\"><div class=\"sk-parallel-item\"><div class=\"sk-item\"><div class=\"sk-label-container\"><div class=\"sk-label sk-toggleable\"><input class=\"sk-toggleable__control sk-hidden--visually\" id=\"3bcc6bd9-4092-4e2f-81d7-48009a61635f\" type=\"checkbox\" ><label for=\"3bcc6bd9-4092-4e2f-81d7-48009a61635f\" class=\"sk-toggleable__label sk-toggleable__label-arrow\">pipeline-1</label><div class=\"sk-toggleable__content\"><pre>&lt;sklearn.compose._column_transformer.make_column_selector object at 0x0000019D5678ABB0&gt;</pre></div></div></div><div class=\"sk-serial\"><div class=\"sk-item\"><div class=\"sk-serial\"><div class=\"sk-item\"><div class=\"sk-estimator sk-toggleable\"><input class=\"sk-toggleable__control sk-hidden--visually\" id=\"82cbe91f-1b8f-476f-8447-085eea2ee538\" type=\"checkbox\" ><label for=\"82cbe91f-1b8f-476f-8447-085eea2ee538\" class=\"sk-toggleable__label sk-toggleable__label-arrow\">SimpleImputer</label><div class=\"sk-toggleable__content\"><pre>SimpleImputer(strategy=&#x27;median&#x27;)</pre></div></div></div><div class=\"sk-item\"><div class=\"sk-estimator sk-toggleable\"><input class=\"sk-toggleable__control sk-hidden--visually\" id=\"3dd5bdd9-7568-495d-8db8-b20862f6f1e8\" type=\"checkbox\" ><label for=\"3dd5bdd9-7568-495d-8db8-b20862f6f1e8\" class=\"sk-toggleable__label sk-toggleable__label-arrow\">StandardScaler</label><div class=\"sk-toggleable__content\"><pre>StandardScaler()</pre></div></div></div></div></div></div></div></div><div class=\"sk-parallel-item\"><div class=\"sk-item\"><div class=\"sk-label-container\"><div class=\"sk-label sk-toggleable\"><input class=\"sk-toggleable__control sk-hidden--visually\" id=\"4dcc43e6-1451-44d2-b97c-a1c702015714\" type=\"checkbox\" ><label for=\"4dcc43e6-1451-44d2-b97c-a1c702015714\" class=\"sk-toggleable__label sk-toggleable__label-arrow\">pipeline-2</label><div class=\"sk-toggleable__content\"><pre>&lt;sklearn.compose._column_transformer.make_column_selector object at 0x0000019D5678A550&gt;</pre></div></div></div><div class=\"sk-serial\"><div class=\"sk-item\"><div class=\"sk-serial\"><div class=\"sk-item\"><div class=\"sk-estimator sk-toggleable\"><input class=\"sk-toggleable__control sk-hidden--visually\" id=\"f3d372d9-f210-41a1-8993-910490c20dcb\" type=\"checkbox\" ><label for=\"f3d372d9-f210-41a1-8993-910490c20dcb\" class=\"sk-toggleable__label sk-toggleable__label-arrow\">SimpleImputer</label><div class=\"sk-toggleable__content\"><pre>SimpleImputer(strategy=&#x27;most_frequent&#x27;)</pre></div></div></div><div class=\"sk-item\"><div class=\"sk-estimator sk-toggleable\"><input class=\"sk-toggleable__control sk-hidden--visually\" id=\"534792e5-01d6-4cb9-b79c-b1c14c36d102\" type=\"checkbox\" ><label for=\"534792e5-01d6-4cb9-b79c-b1c14c36d102\" class=\"sk-toggleable__label sk-toggleable__label-arrow\">OneHotEncoder</label><div class=\"sk-toggleable__content\"><pre>OneHotEncoder(handle_unknown=&#x27;ignore&#x27;)</pre></div></div></div></div></div></div></div></div></div></div><div class=\"sk-item\"><div class=\"sk-estimator sk-toggleable\"><input class=\"sk-toggleable__control sk-hidden--visually\" id=\"40cd43ab-cd00-4ee9-be51-a7f2c4178f65\" type=\"checkbox\" ><label for=\"40cd43ab-cd00-4ee9-be51-a7f2c4178f65\" class=\"sk-toggleable__label sk-toggleable__label-arrow\">RandomForestRegressor</label><div class=\"sk-toggleable__content\"><pre>RandomForestRegressor(max_features=16, random_state=119)</pre></div></div></div></div></div></div></div>"
      ],
      "text/plain": [
       "Pipeline(steps=[('preprocessing',\n",
       "                 ColumnTransformer(transformers=[('pipeline-1',\n",
       "                                                  Pipeline(steps=[('simpleimputer',\n",
       "                                                                   SimpleImputer(strategy='median')),\n",
       "                                                                  ('standardscaler',\n",
       "                                                                   StandardScaler())]),\n",
       "                                                  <sklearn.compose._column_transformer.make_column_selector object at 0x0000019D5678ABB0>),\n",
       "                                                 ('pipeline-2',\n",
       "                                                  Pipeline(steps=[('simpleimputer',\n",
       "                                                                   SimpleImputer(strategy='most_frequent')),\n",
       "                                                                  ('onehotencoder',\n",
       "                                                                   OneHotEncoder(handle_unknown='ignore'))]),\n",
       "                                                  <sklearn.compose._column_transformer.make_column_selector object at 0x0000019D5678A550>)])),\n",
       "                ('random_forest',\n",
       "                 RandomForestRegressor(max_features=16, random_state=119))])"
      ]
     },
     "execution_count": 307,
     "metadata": {},
     "output_type": "execute_result"
    }
   ],
   "source": [
    "rnd_search.best_estimator_"
   ]
  },
  {
   "cell_type": "code",
   "execution_count": 308,
   "id": "3aac2adf",
   "metadata": {},
   "outputs": [
    {
     "data": {
      "text/html": [
       "<div>\n",
       "<style scoped>\n",
       "    .dataframe tbody tr th:only-of-type {\n",
       "        vertical-align: middle;\n",
       "    }\n",
       "\n",
       "    .dataframe tbody tr th {\n",
       "        vertical-align: top;\n",
       "    }\n",
       "\n",
       "    .dataframe thead th {\n",
       "        text-align: right;\n",
       "    }\n",
       "</style>\n",
       "<table border=\"1\" class=\"dataframe\">\n",
       "  <thead>\n",
       "    <tr style=\"text-align: right;\">\n",
       "      <th></th>\n",
       "      <th>mean_fit_time</th>\n",
       "      <th>std_fit_time</th>\n",
       "      <th>mean_score_time</th>\n",
       "      <th>std_score_time</th>\n",
       "      <th>param_random_forest__max_features</th>\n",
       "      <th>params</th>\n",
       "      <th>split0_test_score</th>\n",
       "      <th>split1_test_score</th>\n",
       "      <th>split2_test_score</th>\n",
       "      <th>mean_test_score</th>\n",
       "      <th>std_test_score</th>\n",
       "      <th>rank_test_score</th>\n",
       "    </tr>\n",
       "  </thead>\n",
       "  <tbody>\n",
       "    <tr>\n",
       "      <th>9</th>\n",
       "      <td>2.834390</td>\n",
       "      <td>0.456394</td>\n",
       "      <td>0.064806</td>\n",
       "      <td>0.004740</td>\n",
       "      <td>16</td>\n",
       "      <td>{'random_forest__max_features': 16}</td>\n",
       "      <td>-258.416855</td>\n",
       "      <td>-255.038348</td>\n",
       "      <td>-250.003258</td>\n",
       "      <td>-254.486153</td>\n",
       "      <td>3.456958</td>\n",
       "      <td>1</td>\n",
       "    </tr>\n",
       "    <tr>\n",
       "      <th>5</th>\n",
       "      <td>2.193400</td>\n",
       "      <td>0.060161</td>\n",
       "      <td>0.053215</td>\n",
       "      <td>0.003331</td>\n",
       "      <td>14</td>\n",
       "      <td>{'random_forest__max_features': 14}</td>\n",
       "      <td>-257.769703</td>\n",
       "      <td>-262.500740</td>\n",
       "      <td>-252.930754</td>\n",
       "      <td>-257.733732</td>\n",
       "      <td>3.907013</td>\n",
       "      <td>2</td>\n",
       "    </tr>\n",
       "    <tr>\n",
       "      <th>7</th>\n",
       "      <td>2.175275</td>\n",
       "      <td>0.089537</td>\n",
       "      <td>0.056016</td>\n",
       "      <td>0.000892</td>\n",
       "      <td>10</td>\n",
       "      <td>{'random_forest__max_features': 10}</td>\n",
       "      <td>-266.430448</td>\n",
       "      <td>-265.339801</td>\n",
       "      <td>-260.805882</td>\n",
       "      <td>-264.192044</td>\n",
       "      <td>2.435425</td>\n",
       "      <td>3</td>\n",
       "    </tr>\n",
       "    <tr>\n",
       "      <th>8</th>\n",
       "      <td>2.292003</td>\n",
       "      <td>0.163621</td>\n",
       "      <td>0.066741</td>\n",
       "      <td>0.014692</td>\n",
       "      <td>10</td>\n",
       "      <td>{'random_forest__max_features': 10}</td>\n",
       "      <td>-266.430448</td>\n",
       "      <td>-265.339801</td>\n",
       "      <td>-260.805882</td>\n",
       "      <td>-264.192044</td>\n",
       "      <td>2.435425</td>\n",
       "      <td>3</td>\n",
       "    </tr>\n",
       "    <tr>\n",
       "      <th>6</th>\n",
       "      <td>2.360028</td>\n",
       "      <td>0.206060</td>\n",
       "      <td>0.068187</td>\n",
       "      <td>0.008504</td>\n",
       "      <td>8</td>\n",
       "      <td>{'random_forest__max_features': 8}</td>\n",
       "      <td>-275.712641</td>\n",
       "      <td>-265.699241</td>\n",
       "      <td>-263.674269</td>\n",
       "      <td>-268.362050</td>\n",
       "      <td>5.262985</td>\n",
       "      <td>5</td>\n",
       "    </tr>\n",
       "  </tbody>\n",
       "</table>\n",
       "</div>"
      ],
      "text/plain": [
       "   mean_fit_time  std_fit_time  mean_score_time  std_score_time  \\\n",
       "9       2.834390      0.456394         0.064806        0.004740   \n",
       "5       2.193400      0.060161         0.053215        0.003331   \n",
       "7       2.175275      0.089537         0.056016        0.000892   \n",
       "8       2.292003      0.163621         0.066741        0.014692   \n",
       "6       2.360028      0.206060         0.068187        0.008504   \n",
       "\n",
       "  param_random_forest__max_features                               params  \\\n",
       "9                                16  {'random_forest__max_features': 16}   \n",
       "5                                14  {'random_forest__max_features': 14}   \n",
       "7                                10  {'random_forest__max_features': 10}   \n",
       "8                                10  {'random_forest__max_features': 10}   \n",
       "6                                 8   {'random_forest__max_features': 8}   \n",
       "\n",
       "   split0_test_score  split1_test_score  split2_test_score  mean_test_score  \\\n",
       "9        -258.416855        -255.038348        -250.003258      -254.486153   \n",
       "5        -257.769703        -262.500740        -252.930754      -257.733732   \n",
       "7        -266.430448        -265.339801        -260.805882      -264.192044   \n",
       "8        -266.430448        -265.339801        -260.805882      -264.192044   \n",
       "6        -275.712641        -265.699241        -263.674269      -268.362050   \n",
       "\n",
       "   std_test_score  rank_test_score  \n",
       "9        3.456958                1  \n",
       "5        3.907013                2  \n",
       "7        2.435425                3  \n",
       "8        2.435425                3  \n",
       "6        5.262985                5  "
      ]
     },
     "execution_count": 308,
     "metadata": {},
     "output_type": "execute_result"
    }
   ],
   "source": [
    "cv_res = pd.DataFrame(rnd_search.cv_results_)\n",
    "cv_res.sort_values(by = 'mean_test_score', ascending = False, inplace = True)\n",
    "\n",
    "cv_res.head()"
   ]
  },
  {
   "cell_type": "markdown",
   "id": "35853c16",
   "metadata": {},
   "source": [
    "## Analyze the Best Models and Their Errors"
   ]
  },
  {
   "cell_type": "code",
   "execution_count": 313,
   "id": "19289da6",
   "metadata": {},
   "outputs": [
    {
     "data": {
      "text/plain": [
       "array([0.02, 0.02, 0.05, 0.01, 0.19, 0.14, 0.06, 0.04, 0.04, 0.08, 0.07,\n",
       "       0.02, 0.  , 0.  , 0.  , 0.  , 0.  , 0.  , 0.  , 0.  , 0.  , 0.  ,\n",
       "       0.  , 0.  , 0.  , 0.  , 0.  , 0.  , 0.  , 0.  , 0.  , 0.  , 0.  ,\n",
       "       0.  , 0.  , 0.  , 0.  , 0.  , 0.  , 0.  , 0.  , 0.  , 0.  , 0.  ,\n",
       "       0.  , 0.  , 0.  , 0.  , 0.  , 0.  , 0.  , 0.  , 0.  , 0.  , 0.  ,\n",
       "       0.  , 0.  , 0.  , 0.  , 0.  , 0.  , 0.  , 0.  , 0.  , 0.  , 0.  ,\n",
       "       0.  , 0.  , 0.  , 0.  , 0.  , 0.  , 0.  , 0.  , 0.  , 0.  , 0.  ,\n",
       "       0.  , 0.  , 0.  , 0.  , 0.  , 0.  , 0.  , 0.  , 0.  , 0.  , 0.  ,\n",
       "       0.  , 0.  , 0.  , 0.  , 0.  , 0.  , 0.  , 0.  , 0.  , 0.  , 0.  ,\n",
       "       0.  , 0.  , 0.  , 0.  , 0.  , 0.  , 0.  , 0.  , 0.  , 0.  , 0.  ,\n",
       "       0.  , 0.  , 0.  , 0.  , 0.  , 0.  , 0.  , 0.  , 0.  , 0.  , 0.  ,\n",
       "       0.  , 0.  , 0.  , 0.  , 0.  , 0.  , 0.  , 0.  , 0.  , 0.  , 0.  ,\n",
       "       0.  , 0.  , 0.  , 0.  , 0.  , 0.  , 0.  , 0.  , 0.  , 0.  , 0.  ,\n",
       "       0.  , 0.  , 0.  , 0.  , 0.  , 0.  , 0.  , 0.  , 0.  , 0.  , 0.  ,\n",
       "       0.  , 0.  , 0.  , 0.  , 0.  , 0.  , 0.  , 0.  , 0.  , 0.  , 0.  ,\n",
       "       0.  , 0.  , 0.  , 0.  , 0.  , 0.  , 0.  , 0.  , 0.  , 0.  , 0.  ,\n",
       "       0.  , 0.  , 0.  , 0.  , 0.  , 0.  , 0.  , 0.  , 0.  , 0.  , 0.  ,\n",
       "       0.  , 0.  , 0.  , 0.  , 0.  , 0.  , 0.  , 0.  , 0.  , 0.  , 0.  ,\n",
       "       0.  , 0.  , 0.  , 0.  , 0.  , 0.  , 0.  , 0.  , 0.  , 0.  , 0.  ,\n",
       "       0.  , 0.  , 0.  , 0.  , 0.  , 0.  , 0.  , 0.  , 0.  , 0.  , 0.  ,\n",
       "       0.  , 0.  , 0.  , 0.  , 0.  , 0.  , 0.  , 0.  , 0.  , 0.  , 0.  ,\n",
       "       0.  , 0.  , 0.  , 0.  , 0.  , 0.  , 0.  , 0.  , 0.  , 0.  , 0.  ,\n",
       "       0.  , 0.  , 0.  , 0.  , 0.  , 0.  , 0.  , 0.  , 0.  , 0.  , 0.  ,\n",
       "       0.  , 0.  , 0.  , 0.  , 0.  , 0.  , 0.  , 0.  , 0.  , 0.  , 0.  ,\n",
       "       0.  , 0.  , 0.  , 0.  , 0.  , 0.  , 0.  , 0.  , 0.  , 0.  , 0.  ,\n",
       "       0.  , 0.  , 0.  , 0.  , 0.  , 0.  , 0.  , 0.  , 0.  , 0.  , 0.  ,\n",
       "       0.  , 0.  , 0.  , 0.  , 0.  , 0.  , 0.  , 0.  , 0.  , 0.  , 0.  ,\n",
       "       0.  , 0.  , 0.  , 0.  , 0.  , 0.  , 0.  , 0.  , 0.  , 0.  , 0.  ,\n",
       "       0.  , 0.  , 0.  , 0.  , 0.  , 0.  , 0.  , 0.  , 0.  , 0.  , 0.  ,\n",
       "       0.  , 0.  , 0.  , 0.  , 0.  , 0.  , 0.  , 0.  , 0.  , 0.  , 0.  ,\n",
       "       0.  , 0.  , 0.  , 0.  , 0.  , 0.  , 0.  , 0.  , 0.  , 0.  , 0.  ,\n",
       "       0.  , 0.  , 0.  , 0.  , 0.  , 0.  , 0.  , 0.  , 0.  , 0.  , 0.  ,\n",
       "       0.  , 0.  , 0.  , 0.  , 0.  , 0.  , 0.  , 0.  , 0.  , 0.  , 0.  ,\n",
       "       0.  , 0.  , 0.  , 0.  , 0.  , 0.  , 0.  , 0.  , 0.  , 0.  , 0.  ,\n",
       "       0.  , 0.  , 0.  , 0.  , 0.01, 0.01, 0.02, 0.04, 0.  , 0.  , 0.02,\n",
       "       0.02])"
      ]
     },
     "execution_count": 313,
     "metadata": {},
     "output_type": "execute_result"
    }
   ],
   "source": [
    "final_model = rnd_search.best_estimator_  # includes preprocessing\n",
    "feature_importances = final_model[\"random_forest\"].feature_importances_\n",
    "feature_importances.round(2)"
   ]
  },
  {
   "cell_type": "code",
   "execution_count": 321,
   "id": "89660d95",
   "metadata": {},
   "outputs": [
    {
     "ename": "TypeError",
     "evalue": "zip() takes no keyword arguments",
     "output_type": "error",
     "traceback": [
      "\u001b[1;31m---------------------------------------------------------------------------\u001b[0m",
      "\u001b[1;31mTypeError\u001b[0m                                 Traceback (most recent call last)",
      "Input \u001b[1;32mIn [321]\u001b[0m, in \u001b[0;36m<cell line: 1>\u001b[1;34m()\u001b[0m\n\u001b[1;32m----> 1\u001b[0m \u001b[38;5;28msorted\u001b[39m(\u001b[38;5;28;43mzip\u001b[39;49m\u001b[43m(\u001b[49m\u001b[43mfeature_importances\u001b[49m\u001b[43m,\u001b[49m\n\u001b[0;32m      2\u001b[0m \u001b[43m           \u001b[49m\u001b[43mfinal_model\u001b[49m\u001b[43m[\u001b[49m\u001b[38;5;124;43m\"\u001b[39;49m\u001b[38;5;124;43mpreprocessing\u001b[39;49m\u001b[38;5;124;43m\"\u001b[39;49m\u001b[43m]\u001b[49m\u001b[38;5;241;43m.\u001b[39;49m\u001b[43mget_feature_names_out\u001b[49m\u001b[43m,\u001b[49m\n\u001b[0;32m      3\u001b[0m \u001b[43m           \u001b[49m\u001b[43mreverse\u001b[49m\u001b[43m \u001b[49m\u001b[38;5;241;43m=\u001b[39;49m\u001b[43m \u001b[49m\u001b[38;5;28;43;01mTrue\u001b[39;49;00m\u001b[43m)\u001b[49m)\n",
      "\u001b[1;31mTypeError\u001b[0m: zip() takes no keyword arguments"
     ]
    }
   ],
   "source": [
    "sorted(zip(feature_importances,\n",
    "           final_model[\"preprocessing\"].get_feature_names_out,\n",
    "           reverse = True))"
   ]
  },
  {
   "cell_type": "code",
   "execution_count": 323,
   "id": "f377fc6f",
   "metadata": {},
   "outputs": [
    {
     "ename": "TypeError",
     "evalue": "'ColumnTransformer' object is not subscriptable",
     "output_type": "error",
     "traceback": [
      "\u001b[1;31m---------------------------------------------------------------------------\u001b[0m",
      "\u001b[1;31mTypeError\u001b[0m                                 Traceback (most recent call last)",
      "Input \u001b[1;32mIn [323]\u001b[0m, in \u001b[0;36m<cell line: 1>\u001b[1;34m()\u001b[0m\n\u001b[1;32m----> 1\u001b[0m \u001b[43mfinal_model\u001b[49m\u001b[43m[\u001b[49m\u001b[38;5;124;43m\"\u001b[39;49m\u001b[38;5;124;43mpreprocessing\u001b[39;49m\u001b[38;5;124;43m\"\u001b[39;49m\u001b[43m]\u001b[49m\u001b[43m[\u001b[49m\u001b[43m:\u001b[49m\u001b[38;5;241;43m-\u001b[39;49m\u001b[38;5;241;43m1\u001b[39;49m\u001b[43m]\u001b[49m\u001b[38;5;241m.\u001b[39mget_feature_names_out()\n",
      "\u001b[1;31mTypeError\u001b[0m: 'ColumnTransformer' object is not subscriptable"
     ]
    }
   ],
   "source": [
    "final_model[\"preprocessing\"][:-1].get_feature_names_out()"
   ]
  },
  {
   "cell_type": "markdown",
   "id": "8a48360d",
   "metadata": {},
   "source": [
    "## Evaluate Your System on the Test Set"
   ]
  },
  {
   "cell_type": "code",
   "execution_count": 325,
   "id": "05185852",
   "metadata": {},
   "outputs": [
    {
     "name": "stdout",
     "output_type": "stream",
     "text": [
      "87.71776144501445\n"
     ]
    }
   ],
   "source": [
    "# train_set3, test_set3\n",
    "X_test = train_set3.drop('Rented Bike Count', axis = 1)\n",
    "y_test = train_set3['Rented Bike Count'].copy()\n",
    "\n",
    "final_predictions = final_model.predict(X_test)\n",
    "\n",
    "final_rmse = mean_squared_error(y_test, final_predictions, squared = False)\n",
    "print(final_rmse)"
   ]
  },
  {
   "cell_type": "code",
   "execution_count": 326,
   "id": "d0fe5923",
   "metadata": {},
   "outputs": [
    {
     "data": {
      "text/plain": [
       "array([84.67116974, 90.66203374])"
      ]
     },
     "execution_count": 326,
     "metadata": {},
     "output_type": "execute_result"
    }
   ],
   "source": [
    "# Compute a 95% confidence interval for the test RMSE\n",
    "from scipy import stats\n",
    "\n",
    "confidence = 0.95\n",
    "squared_errors = (final_predictions - y_test) ** 2\n",
    "np.sqrt(stats.t.interval(confidence, len(squared_errors) - 1,\n",
    "                         loc = squared_errors.mean(),\n",
    "                         scale = stats.sem(squared_errors)))"
   ]
  }
 ],
 "metadata": {
  "kernelspec": {
   "display_name": "Python 3 (ipykernel)",
   "language": "python",
   "name": "python3"
  },
  "language_info": {
   "codemirror_mode": {
    "name": "ipython",
    "version": 3
   },
   "file_extension": ".py",
   "mimetype": "text/x-python",
   "name": "python",
   "nbconvert_exporter": "python",
   "pygments_lexer": "ipython3",
   "version": "3.9.12"
  }
 },
 "nbformat": 4,
 "nbformat_minor": 5
}
